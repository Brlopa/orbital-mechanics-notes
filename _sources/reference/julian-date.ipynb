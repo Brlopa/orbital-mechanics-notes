{
 "cells": [
  {
   "cell_type": "markdown",
   "id": "bea73558",
   "metadata": {},
   "source": [
    "# Julian Day\n",
    "\n",
    "The **Julian Day** is a concept invented by historians and astronomers to provide a continuous count of days since a particular starting point. Julian Day 0 is set to be the day starting on January 1, 4713 BC in the [proleptic Julian calendar](https://en.wikipedia.org/wiki/Proleptic_Julian_calendar) at 12:00 PM (noon) in UTC. This corresponds to November 24, 4714 BC in the [proleptic Gregorian calendar](https://en.wikipedia.org/wiki/Proleptic_Gregorian_calendar).\n",
    "\n",
    "Julian days are counted as integers continuously until the present time. This makes it very easy to compare relative times of events and do arithmetic between days.\n",
    "\n",
    "## Julian Period\n",
    "\n",
    "The Julian day is a single day in the Julian Period, a period of time 7,980 years long. The Julian Period is defined as the product of three cycles in the Julian calendar:\n",
    "\n",
    "1. The solar cycle (28 years)\n",
    "2. The lunar cycle (19 years)\n",
    "3. The indiction cycle (15 years)\n",
    "\n",
    "A Julian Period starts when each of these cycles is on its first day, on the same day. Counting backwards, and assuming that the Julian calendar extends infinitely in both directions in time, the previous time that this occurred was in the year 4713 BCE.\n",
    "\n",
    "### The Solar Cycle\n",
    "\n",
    "The Julian calendar is the calendar imposed by Julius Cesar during the Roman Republic. It had a leap year every 4th year, with no exceptions. This gave the average length of a year as 365.25 days, keeping the days of the year roughly in sync with the length of the solar year. Since there are 7 days in a week, it takes 28 years for a leap day to happen on every day of the week, giving the length of the [solar cycle](https://en.wikipedia.org/wiki/Solar_cycle_(calendar)).\n",
    "\n",
    "### The Lunar Cycle\n",
    "\n",
    "As we know, the moon goes through phases as it orbits around the earth. The [lunar, or **metonic**, cycle](https://en.wikipedia.org/wiki/Metonic_cycle) of 19 years is approximately the time for the lunar phase to repeat on the same day of the year.\n",
    "\n",
    "### The Indiction Cycle\n",
    "\n",
    "An [indiction](https://en.wikipedia.org/wiki/Indiction) is the periodic reassessment of property for a land tax, used in the Middle Ages. At that time, the reassessment occurred every 15 years.\n",
    "\n",
    "## Calculating Julian Days\n",
    "\n",
    "The Julian calendar was introduced in 46 BC by Julius Cesar, with leap years occuring every four years. This gives the average length of a year as 365.25 days, which is slightly longer than the [solar year](https://en.wikipedia.org/wiki/Tropical_year) of 365.2422 days. Therefore, over time, the day on which the equinox will occur shifts.\n",
    "\n",
    "In 1582, Pope Gregory XIII imposed a modified version of the Julian calendar. The Gregorian calendar, which is still in use today, corrects the average length of the year to 365.2425 days by skipping leap years under certain conditions:\n",
    "\n",
    "> The Gregorian leap year rule is: Every year that is exactly divisible by four is a leap year, except for years that are exactly divisible by 100, but these centurial years are leap years if they are exactly divisible by 400. For example, the years 1700, 1800, and 1900 are not leap years, but the year 2000 is. [Source](https://web.archive.org/web/20190919024611/https://aa.usno.navy.mil/faq/docs/calendars.php)\n",
    "\n",
    "Since the Julian Period was introduced in 1583, it used the Julian calendar rather than the Gregorian calendar, which wouldn't be adopted everywhere until the mid-1700s. This means that we need some formula to convert a given Gregorian date into a Julian Day.\n",
    "\n",
    "A Gregorian calendar date must have 3 integer parts to calculate the Julian Day Number ($\\mathrm{JDN}$):\n",
    "\n",
    "1. The month number, $M$, varying from 1-12.\n",
    "2. The day of the month, $D$, varying from 1-31 depending on the month.\n",
    "3. The year, $Y$, using [astronomical year numbering](https://en.wikipedia.org/wiki/Astronomical_year_numbering). Astronomical year numbering is the same as the Gregorian year for all after 1 AD. However, the Gregorian calendar does not include a Year 0, whereas the astronomical year numbering does. Therefore:\n",
    "\n",
    "   * AD 2 = Astronomical Year 2\n",
    "   * AD 1 = Astronomical Year 1\n",
    "   * 1 BC = Astronomical Year 0\n",
    "   * 2 BC = Astronomical Year -1\n",
    "   * 3 BC = Astronomical Year -2\n",
    "\n",
    "To simplify the calculation of the Julian Day Number, we will define the following constants:\n",
    "\n",
    ":::{math}\n",
    ":label: eq:julian-day-constants\n",
    "\\begin{aligned}\n",
    "  A &= \\mathrm{INT}\\left(\\frac{M - 14}{12}\\right) \\\\\n",
    "  B &= 1461\\left(Y + 4800 + A\\right) \\\\\n",
    "  C &= 367\\left(M - 2 - 12A\\right) \\\\\n",
    "  E &= \\mathrm{INT}\\left(\\frac{Y + 4900 + A}{100}\\right)\n",
    "\\end{aligned}\n",
    ":::\n",
    "\n",
    "where $\\mathrm{INT}$ indicates that integer division should be done. This means that the remainder of the division is discarded, or in other words, the result is rounded towards zero. Then, $\\mathrm{JDN}$ can be found by:\n",
    "\n",
    ":::{math}\n",
    ":label: eq:julian-day-number\n",
    "\\mathrm{JDN} = \\mathrm{INT}\\left(\\frac{B}{4}\\right) + \\mathrm{INT}\\left(\\frac{C}{12}\\right) - \\mathrm{INT}\\left(\\frac{3E}{4}\\right) + D - 32075\n",
    ":::\n",
    "\n",
    "Sample implementations of this algorithm can be found in many places online, and for many programming languages. See:\n",
    "\n",
    "* <https://web.archive.org/web/20140902005638/http://mysite.verizon.net/aesir_research/date/jdimp.htm>\n",
    "* <https://archive.org/details/131123ExplanatorySupplementAstronomicalAlmanac/page/n315/mode/2up>, Page 604\n",
    "* <https://web.archive.org/web/20201207022832/https://craftofcoding.files.wordpress.com/2013/07/cs_langjuliandates.pdf>\n",
    "* <https://dl.acm.org/doi/10.1145/364096.364097>\n",
    "\n",
    "## Julian Dates\n",
    "\n",
    "Related to the Julian Day, the **Julian Date** ($\\mathrm{JDT}$) is a decimal number that includes the Julian Day number in the whole part, and the fraction of the day towards the next Julian Day Number in the decimal. Remember that Julian Days start at 12:00 PM (noon) UTC, so 6:00 PM UTC would be JDN + 0.25 and 6:00 AM UTC would be the JDN of the previous Gregorian date + 0.75.\n",
    "\n",
    "## Example\n",
    "\n",
    "Here we'll give an example converting Gregorian dates to JDN and JDT.\n",
    "\n",
    "### Python\n",
    "\n",
    "One possible Python implementation of the conversion from Gregorian date to JDN is:"
   ]
  },
  {
   "cell_type": "code",
   "execution_count": 1,
   "id": "43e6a871",
   "metadata": {},
   "outputs": [],
   "source": [
    "def gregorian_to_julian_day_number(month, day, year):\n",
    "    \"\"\"Convert the given proleptic Gregorian date to the equivalent Julian Day Number.\"\"\"\n",
    "    if month < 1 or month > 12:\n",
    "        raise ValueError(\"month must be between 1 and 12, inclusive\")\n",
    "    if day < 1 or day > 31:\n",
    "        raise ValueError(\"day must be between 1 and 31, inclusive\")\n",
    "    A = int((month - 14) / 12)\n",
    "    B = 1461 * (year + 4800 + A)\n",
    "    C = 367 * (month - 2 - 12 * A)\n",
    "    E = int((year + 4900 + A) / 100)\n",
    "    JDN = int(B / 4) + int(C / 12) - int(3 * E / 4) + day - 32075\n",
    "    return JDN\n",
    "\n",
    "from datetime import date\n",
    "today = date(year=2020, month=12, day=7)\n",
    "jdn = gregorian_to_julian_day_number(today.month, today.day, today.year)"
   ]
  },
  {
   "cell_type": "code",
   "execution_count": 2,
   "id": "4443451f",
   "metadata": {
    "tags": [
     "remove-cell"
    ]
   },
   "outputs": [
    {
     "data": {
      "text/plain": [
       "'2,459,191'"
      ]
     },
     "metadata": {
      "scrapbook": {
       "mime_prefix": "application/papermill.record/",
       "name": "julian-date-jdn"
      }
     },
     "output_type": "display_data"
    },
    {
     "data": {
      "text/plain": [
       "'December  7, 2020'"
      ]
     },
     "metadata": {
      "scrapbook": {
       "mime_prefix": "application/papermill.record/",
       "name": "julian-date-today"
      }
     },
     "output_type": "display_data"
    }
   ],
   "source": [
    "from functools import partial\n",
    "from myst_nb import glue as myst_glue\n",
    "glue = partial(myst_glue, display=False)\n",
    "glue(\"julian-date-jdn\", f\"{jdn:,d}\")\n",
    "glue(\"julian-date-today\", today.strftime(\"%B %e, %Y\"))"
   ]
  },
  {
   "cell_type": "markdown",
   "id": "60aa85c7",
   "metadata": {},
   "source": [
    "The Julian day number corresponding to {glue:text}`julian-date-today` is {glue:text}`julian-date-jdn`. We can confirm this with the NASA calculator at <https://core2.gsfc.nasa.gov/time/julian.html>.\n",
    "\n",
    ":::{note}\n",
    "**Note**: In Python 3, integer division (with two slashes `//`) is also known as _floor division_, meaning the result is rounded towards negative infinity. However, the `int()` built-in function rounds floating point numbers towards zero, so in the function above, we use floating point division (with a single slash `/`) and then convert to an integer.\n",
    ":::\n",
    "\n",
    "Then, we need to convert the JDN plus a time into the JDT."
   ]
  },
  {
   "cell_type": "code",
   "execution_count": 3,
   "id": "11767e4b",
   "metadata": {},
   "outputs": [],
   "source": [
    "def gregorian_to_julian_date(dt):\n",
    "    \"\"\"Convert a Gregorian date to a Julian Date.\"\"\"\n",
    "    JDN = gregorian_to_julian_day_number(dt.month, dt.day, dt.year)\n",
    "    JDT = JDN + (dt.hour - 12) / 24 + dt.minute / 1_440 + dt.second / 86_400 + dt.microsecond / 86_400_000_000\n",
    "    return JDT\n",
    "\n",
    "from datetime import datetime, time, timezone\n",
    "evening = datetime.combine(today, time(hour=18, minute=12, second=43, microsecond=674805), tzinfo=timezone.utc)\n",
    "jdt_evening = gregorian_to_julian_date(evening)\n",
    "morning = evening.replace(hour=6, minute=0, second=0, microsecond=0)\n",
    "jdt_morning = gregorian_to_julian_date(morning)"
   ]
  },
  {
   "cell_type": "code",
   "execution_count": 4,
   "id": "158ebd3e",
   "metadata": {
    "tags": [
     "remove-cell"
    ]
   },
   "outputs": [
    {
     "data": {
      "text/plain": [
       "'December  7, 2020 at 6:12:43.674805 PM UTC'"
      ]
     },
     "metadata": {
      "scrapbook": {
       "mime_prefix": "application/papermill.record/",
       "name": "julian-date-evening"
      }
     },
     "output_type": "display_data"
    },
    {
     "data": {
      "text/plain": [
       "'December  7, 2020 at 6:00:0.000000 AM UTC'"
      ]
     },
     "metadata": {
      "scrapbook": {
       "mime_prefix": "application/papermill.record/",
       "name": "julian-date-morning"
      }
     },
     "output_type": "display_data"
    },
    {
     "data": {
      "text/plain": [
       "'December  8'"
      ]
     },
     "metadata": {
      "scrapbook": {
       "mime_prefix": "application/papermill.record/",
       "name": "julian-date-next-day"
      }
     },
     "output_type": "display_data"
    },
    {
     "data": {
      "text/plain": [
       "'2,459,191.2588'"
      ]
     },
     "metadata": {
      "scrapbook": {
       "mime_prefix": "application/papermill.record/",
       "name": "julian-date-jdt_evening"
      }
     },
     "output_type": "display_data"
    },
    {
     "data": {
      "text/plain": [
       "'2,459,190.7500'"
      ]
     },
     "metadata": {
      "scrapbook": {
       "mime_prefix": "application/papermill.record/",
       "name": "julian-date-jdt_morning"
      }
     },
     "output_type": "display_data"
    },
    {
     "data": {
      "text/plain": [
       "0.25883882865309715"
      ]
     },
     "metadata": {
      "scrapbook": {
       "mime_prefix": "application/papermill.record/",
       "name": "julian-date-jdt_evening-fraction"
      }
     },
     "output_type": "display_data"
    },
    {
     "data": {
      "text/plain": [
       "0.75"
      ]
     },
     "metadata": {
      "scrapbook": {
       "mime_prefix": "application/papermill.record/",
       "name": "julian-date-jdt_morning-fraction"
      }
     },
     "output_type": "display_data"
    },
    {
     "data": {
      "text/plain": [
       "'6:00 AM'"
      ]
     },
     "metadata": {
      "scrapbook": {
       "mime_prefix": "application/papermill.record/",
       "name": "julian-date-morning-time"
      }
     },
     "output_type": "display_data"
    },
    {
     "data": {
      "text/plain": [
       "'December  6'"
      ]
     },
     "metadata": {
      "scrapbook": {
       "mime_prefix": "application/papermill.record/",
       "name": "julian-date-previous-day"
      }
     },
     "output_type": "display_data"
    }
   ],
   "source": [
    "glue(\"julian-date-evening\", evening.strftime(\"%B %e, %Y at %-I:%M:%-S.%f %p %Z\"))\n",
    "glue(\"julian-date-morning\", morning.strftime(\"%B %e, %Y at %-I:%M:%-S.%f %p %Z\"))\n",
    "glue(\"julian-date-next-day\", evening.replace(day=evening.day + 1).strftime(\"%B %e\"))\n",
    "glue(\"julian-date-jdt_evening\", f\"{jdt_evening:,.4f}\")\n",
    "glue(\"julian-date-jdt_morning\", f\"{jdt_morning:,.4f}\")\n",
    "glue(\"julian-date-jdt_evening-fraction\", jdt_evening % 1)\n",
    "glue(\"julian-date-jdt_morning-fraction\", jdt_morning % 1)\n",
    "glue(\"julian-date-morning-time\", morning.strftime(\"%-I:%M %p\"))\n",
    "glue(\"julian-date-previous-day\", morning.replace(day=morning.day - 1).strftime(\"%B %e\"))"
   ]
  },
  {
   "cell_type": "markdown",
   "id": "634fd04a",
   "metadata": {},
   "source": [
    "We first set the time to {glue:text}`julian-date-evening` using `timezone.utc`. Since this time is before 12:00 PM UTC on {glue:text}`julian-date-next-day`, the JDN is still {glue:text}`julian-date-jdn`. The fraction of the day completed is about {glue:text}`julian-date-jdt_evening-fraction:.2f`, so the complete Julian date is {glue:text}`julian-date-jdt_evening`.\n",
    "\n",
    "If the time is replaced with {glue:text}`julian-date-morning-time` but the date is still {glue:text}`julian-date-today`, then exactly {glue:text}`julian-date-jdt_morning-fraction` of a Julian date has passed, so the JDT is {glue:text}`julian-date-jdt_morning`. However, notice that the JDN is reduced by one, because {glue:text}`julian-date-morning-time` on {glue:text}`julian-date-today` is part of the Julian day that began on {glue:text}`julian-date-previous-day` at 12:00 PM (noon).\n",
    "\n",
    "The reverse conversion is also useful, going from JDT to proleptic Gregorian date and time."
   ]
  },
  {
   "cell_type": "code",
   "execution_count": 5,
   "id": "ed0a3eb7",
   "metadata": {},
   "outputs": [],
   "source": [
    "from datetime import timedelta\n",
    "\n",
    "def julian_day_number_to_gregorian(jdn):\n",
    "    \"\"\"Convert the Julian Day Number to the proleptic Gregorian Year, Month, Day.\"\"\"\n",
    "    L = jdn + 68569\n",
    "    N = int(4 * L / 146_097)\n",
    "    L = L - int((146097 * N + 3) / 4)\n",
    "    I = int(4000 * (L + 1) / 1_461_001)\n",
    "    L = L - int(1461 * I / 4) + 31\n",
    "    J = int(80 * L / 2447)\n",
    "    day = L - int(2447 * J / 80)\n",
    "    L = int(J / 11)\n",
    "    month = J + 2 - 12 * L\n",
    "    year = 100 * (N - 49) + I + L\n",
    "    return year, month, day\n",
    "\n",
    "def julian_date_to_gregorian(jd):\n",
    "    \"\"\"Convert a decimal Julian Date to the equivalent proleptic Gregorian date and time.\"\"\"\n",
    "    jdn = int(jd)\n",
    "    if jdn < 1_721_426:\n",
    "        raise ValueError(\"Julian Day Numbers less than 1,721,426 are not supported, \"\n",
    "                         \"because Python's date class cannot represent years before \"\n",
    "                         \"AD 1.\")\n",
    "    year, month, day = julian_day_number_to_gregorian(jdn)\n",
    "    offset = timedelta(days=(jd % 1), hours=+12)\n",
    "    dt = datetime(year=year, month=month, day=day, tzinfo=timezone.utc)\n",
    "    return dt + offset\n",
    "\n",
    "gregorian_evening = julian_date_to_gregorian(jdt_evening)\n",
    "gregorian_morning = julian_date_to_gregorian(jdt_morning)"
   ]
  },
  {
   "cell_type": "code",
   "execution_count": 6,
   "id": "5494c5f9",
   "metadata": {
    "tags": [
     "remove-cell"
    ]
   },
   "outputs": [
    {
     "data": {
      "text/plain": [
       "'December  7, 2020 at 6:12:43.674796 PM UTC'"
      ]
     },
     "metadata": {
      "scrapbook": {
       "mime_prefix": "application/papermill.record/",
       "name": "julian-date-gregorian_evening"
      }
     },
     "output_type": "display_data"
    },
    {
     "data": {
      "text/plain": [
       "'December  7, 2020 at 6:00:0.000000 AM UTC'"
      ]
     },
     "metadata": {
      "scrapbook": {
       "mime_prefix": "application/papermill.record/",
       "name": "julian-date-gregorian_morning"
      }
     },
     "output_type": "display_data"
    }
   ],
   "source": [
    "glue(\"julian-date-gregorian_evening\", gregorian_evening.strftime(\"%B %e, %Y at %-I:%M:%-S.%f %p %Z\"))\n",
    "glue(\"julian-date-gregorian_morning\", gregorian_morning.strftime(\"%B %e, %Y at %-I:%M:%-S.%f %p %Z\"))"
   ]
  },
  {
   "cell_type": "markdown",
   "id": "c8b750f5",
   "metadata": {},
   "source": [
    "{numref}`tab:julian-date-conversion-results` shows that the reverse conversion gives back nearly identical results. The difference is most likely due to floating point error in the microsecond calculation.\n",
    "\n",
    ":::{table} Julian date conversion results using an evening and a morning time.\n",
    ":name: tab:julian-date-conversion-results\n",
    "\n",
    "| Original | Julian Date | Converted |\n",
    "|----------|-------------|-----------|\n",
    "| {glue:text}`julian-date-evening` | {glue:text}`julian-date-jdt_evening` | {glue:text}`julian-date-gregorian_evening` |\n",
    "| {glue:text}`julian-date-morning` | {glue:text}`julian-date-jdt_morning` | {glue:text}`julian-date-gregorian_morning` |\n",
    ":::\n",
    "\n",
    "Note that `julian_day_number_to_gregorian()` only gives dates in the proleptic Gregorian calendar, and does not account for the change from Julian to Gregorian calendar in 1582. This also means that the minimum Gregorian date is November 24, 4714 BC, corresponding to a Julian Day Number of 0."
   ]
  },
  {
   "cell_type": "code",
   "execution_count": 7,
   "id": "2512a6fb",
   "metadata": {},
   "outputs": [
    {
     "name": "stdout",
     "output_type": "stream",
     "text": [
      "(-4713, 11, 24)\n"
     ]
    }
   ],
   "source": [
    "print(julian_day_number_to_gregorian(0))"
   ]
  },
  {
   "cell_type": "markdown",
   "id": "64b5816b",
   "metadata": {},
   "source": [
    "Note that since there is no Year 0, 4714 BC is the same as Year -4713.\n",
    "\n",
    "### MATLAB\n",
    "\n",
    "MATLAB has a function called [`juliandate`](https://www.mathworks.com/help/matlab/ref/datetime.juliandate.html), which takes a [`datetime`](https://www.mathworks.com/help/matlab/ref/datetime.html) instance and does the conversion to the Julian Date automatically. Note that you should specify the local time zone if you use `datetime('now')` to ensure that the correct Julian Day Number is returned.\n",
    "\n",
    "```matlab\n",
    ">> format longG\n",
    ">> t1 = datetime('2020-12-07 18:12:43.674805');\n",
    ">> t1.TimeZone = 'UTC';\n",
    ">> t1\n",
    "\n",
    "t1 = \n",
    "\n",
    "  datetime\n",
    "\n",
    "   07-Dec-2020 18:12:43\n",
    "\n",
    ">> juliandate(t1)\n",
    "\n",
    "ans =\n",
    "\n",
    "          2459191.25883883\n",
    "```\n",
    "\n",
    "This gives the same result as the Python code above. MATLAB also allows the reverse conversion, by using `datetime()` with the Julian Date:\n",
    "\n",
    "```matlab\n",
    ">> jd1 = juliandate(datetime('2020-12-07 18:12:43.674805'));\n",
    ">> datetime(jd1,'ConvertFrom','JulianDate')\n",
    "\n",
    "ans = \n",
    "\n",
    "  datetime\n",
    "\n",
    "   07-Dec-2020 18:12:43\n",
    "```\n",
    "\n",
    "Note that the default time zone is UTC, to convert to a different time zone, the `'TimeZone'` argument to `datetime()` must be supplied:\n",
    "\n",
    "```matlab\n",
    ">> datetime(jd1,'ConvertFrom','JulianDate','TimeZone','America/New_York')\n",
    "\n",
    "ans = \n",
    "\n",
    "  datetime\n",
    "\n",
    "   07-Dec-2020 13:12:43\n",
    "```\n",
    "\n",
    "MATLAB also uses the proleptic Gregorian calendar for dates prior to 1583, so JDT of 0 returns the same date as Python.\n",
    "\n",
    "```matlab\n",
    ">> datetime(0,'ConvertFrom','JulianDate')\n",
    "\n",
    "ans = \n",
    "\n",
    "  datetime\n",
    "\n",
    "   24-Nov--4713 12:00:00\n",
    "```"
   ]
  }
 ],
 "metadata": {
  "jupytext": {
   "text_representation": {
    "extension": ".md",
    "format_name": "myst",
    "format_version": 0.13,
    "jupytext_version": "1.13.1"
   }
  },
  "kernelspec": {
   "display_name": "Python 3",
   "language": "python",
   "name": "python3"
  },
  "language_info": {
   "codemirror_mode": {
    "name": "ipython",
    "version": 3
   },
   "file_extension": ".py",
   "mimetype": "text/x-python",
   "name": "python",
   "nbconvert_exporter": "python",
   "pygments_lexer": "ipython3",
   "version": "3.9.8"
  },
  "source_map": [
   12,
   102,
   121,
   128,
   138,
   152,
   163,
   171,
   204,
   208,
   223,
   225
  ]
 },
 "nbformat": 4,
 "nbformat_minor": 5
}