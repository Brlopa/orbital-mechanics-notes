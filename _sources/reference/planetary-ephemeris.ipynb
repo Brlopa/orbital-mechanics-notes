{
 "cells": [
  {
   "cell_type": "markdown",
   "id": "40895d0e",
   "metadata": {},
   "source": [
    "# Planetary Ephemeris\n",
    "\n",
    "To design realistic interplanetary missions, we must be able to determine the state vector of the relevant planets at a given time, or over a given time interval. This allows calculation of, for instance, the phase angle between planets to determine the window of time to reach the target planet.\n",
    "\n",
    "The data that gives the state vector are called _planetary ephemerides_. Due to the chaotic nature of the orbits of the planets, we can only accurately predict planetary state vectors for a relatively short time into the future, about 50--100 years. The chaotic nature of the orbits is due to the complex interaction of the orbits with the gravitational potential from the Sun and Jupiter, primarily.\n",
    "\n",
    "Ephemerides are also available for more minor objects in the solar system, such as planetary moons and asteroids. The uncertainty over long time intervals of these objects is even higher than for planets, because more objects have the ability to change the orbit of the smaller bodies.\n",
    "\n",
    "There are several ways to calculate ephemerides. We will discuss three of them here:\n",
    "\n",
    "1. Using simplified formulas from JPL\n",
    "2. Using more accurate equations with a purpose-built library\n",
    "3. Using the online HORIZONS database\n",
    "\n",
    "In all three cases, we rely on knowing the [**Julian Day**](./julian-date.md) of interest.\n",
    "\n",
    "## Simplified Formulas for Ephemerides\n",
    "\n",
    "The simplified formulas for ephemerides from JPL are due to E.M. Standish, and are available from the [JPL website](https://ssd.jpl.nasa.gov/planets/approx_pos.html). The calculation procedure is further described in the accompanying [PDF document](https://web.archive.org/web/20210308074603/https://ssd.jpl.nasa.gov/txt/aprx_pos_planets.pdf).\n",
    "\n",
    "The simplified formulas give the classical Keplerian orbital elements ($h$, $e$, $M$, $\\nu$, $\\Omega$, and $\\omega$) for each of the planets. Each element is given with its absolute value at a reference point in time, plus the rate of change of that element. The rates of change are all given _per century_, and the reference point is the [J2000.0 epoch](https://en.wikipedia.org/wiki/Epoch_(astronomy)#Julian_Dates_and_J2000) (January 1, 2000 at 12:00 PM (noon) UTC).\n",
    "\n",
    "The first step is to determine the Julian Date given the Gregorian date and time, with the procedure described in the last section. With that completed, we will need to compute the number of Julian centuries that have elapsed since J2000.0 until the target date. We can do that by:\n",
    "\n",
    ":::{math}\n",
    ":label: eq:convert-jdt-to-time-since-epoch\n",
    "T = \\frac{\\mathrm{JDT} - 2451545}{36525}\n",
    ":::\n",
    "\n",
    "where $\\mathrm{JDT}$ is the desired Julian Date. Note that this should be floating point division, not integer division.\n",
    "\n",
    "Next, we need to inspect the data. There are two tables given, one that is valid from AD 1800 to AD 1950, and the other that is valid from 3000 BC to AD 3000. The longer time range has a larger error relative to historical data.\n",
    "\n",
    ":::{table} Keplerian elements and their rates, with respect to the mean ecliptic and equinox of J2000.0, valid for the time-interval 1800 AD - 2050 AD. Reproduced from Standish {cite}`Standish1992,Standish2021`. The subset here is for demonstration only.\n",
    ":name: tab:standish-keplerian-elements\n",
    "\n",
    "|         | $a$ [AU, AU/Cy] | $e$ [rad, rad/Cy] | $i$ [deg, deg/Cy] | $L$ [deg, deg/Cy] | $\\varpi$ [deg, deg/Cy] | $\\Omega$ [deg, deg/Cy] |\n",
    "|---------|---------------|-----------------|-----------------|-----------------|------------------------|------------------------|\n",
    "| Mercury | 0.38709927    | 0.20563593      | 7.00497902      | 252.250324      | 77.4577963             | 48.3307659             |\n",
    "|         | 0.00000037    | 0.00001906      | -0.0059475      | 149472.674      | 0.16047689             | -0.1253408             |\n",
    ":::\n",
    "\n",
    "There are 6 columns and two rows associated with each planet. The first row gives the absolute value of the orbital element at the J2000.0 epoch and the second row gives the rate of change of the orbital element. Cy stands for an astronomical century (100 Julian years), or 36,525 days, although this notation is [outdated](https://www.iau.org/publications/proceedings_rules/units/). The six columns are:\n",
    "\n",
    "1. Semimajor axis of the orbit ($a$), in [Astronomical Units](https://en.wikipedia.org/wiki/Astronomical_unit), equal to 149,597,870,700 m\n",
    "2. Eccentricity ($e$), in radians\n",
    "3. Inclination ($i$), in degrees\n",
    "4. Mean Longitude ($L$), in degrees\n",
    "5. Longitude of perihelion ($\\varpi$), in degrees\n",
    "6. Longitude of the ascending node ($\\Omega$), in degrees\n",
    "\n",
    "The coordinates are all given relative to the mean ecliptic plane, and use the vernal equinox of the J2000.0 epoch as the direction of the $X$ axis, for the purpose of defining 0° longitude.\n",
    "\n",
    "Once we know the desired time relative to the J2000.0 epoch, in astronomical centuries, the value of any of the parameters given in the table can be found by:\n",
    "\n",
    ":::{math}\n",
    ":label: eq:standish-elements-propagation\n",
    "Q = Q_0 + \\dot{Q} T\n",
    ":::\n",
    "\n",
    "where $Q$ is any of the properties given in the table, $\\dot{Q}$ is the rate of change of that property, and $Q_0$ is the initial value at J2000.0. The next steps convert the mean longitude and longitude of the perihelion to the more familar true anomaly and argument of perihelion, respectively.\n",
    "\n",
    "First, we will calculate the true anomaly using the mean longitude and longitude of perihelion. The mean longitude is related to the mean anomaly by:\n",
    "\n",
    ":::{math}\n",
    ":label: eq:ephemeris-mean-longitude-mean-anomaly\n",
    "M_e = L - \\varpi\n",
    ":::\n",
    "\n",
    "The mean anomaly must be in the range of 0-2$\\pi$ radians, so it may be necessary to take the modulus of the result of this equation with 2$\\pi$ to do that. Once the mean anomaly is known, we can use it and the eccentricity to solve Kepler's equation for the eccentric anomaly, $E$, using Newton iteration:\n",
    "\n",
    ":::{math}\n",
    ":label: eq:ephemeris-keplers-equation\n",
    "M_e = E - e \\sin E\n",
    ":::\n",
    "\n",
    "The eccentric anomaly can then be used to calculate the true anomaly:\n",
    "\n",
    ":::{math}\n",
    ":label: eq:ephemeris-true-anomaly\n",
    "\\nu = 2 \\tan^{-1}\\left(\\sqrt\\frac{1 + e}{1 - e}\\tan\\frac{E}{2}\\right)\n",
    ":::\n",
    "\n",
    "Finally, we can calculate the argument of perihelion from the longitude of perihelion and the longitude of the ascending node:\n",
    "\n",
    ":::{math}\n",
    ":label: eq:ephemeris-argument-of-perihelion\n",
    "\\omega = \\varpi - \\Omega\n",
    ":::\n",
    "\n",
    "We now have $a$, $e$, $i$, $\\Omega$, $\\omega$, and $\\nu$, from which we can also calculate $h$ if necessary. In addition, we can convert the classical orbital elements to a state vector $\\vector{r}$ and $\\vector{v}$ for the planet, if needed.\n",
    "\n",
    "The data shown in {numref}`tab:standish-keplerian-elements` are valid from AD 1800-AD 2050. If the data for 3000 BC-AD 3000 are used instead, there are a few extra terms, given in {numref}`tab:standish-long-term-elements`, which must be used in the equation for the mean anomaly, for the planets from Jupiter to Pluto.\n",
    "\n",
    ":::{table} Additional terms which must be added to the computation of $M_e$ for Jupiter through Pluto, 3000 BC to AD 3000 {cite}`Standish1992,Standish2021`. The subset here is for demonstration only.\n",
    ":name: tab:standish-long-term-elements\n",
    "\n",
    "|            |     $b$       |    $c$       |    $s$     |     $f$      |\n",
    "|------------|---------------|--------------|------------|--------------|\n",
    "|Jupiter     | -0.00012452   | 0.06064060   | -0.35635438|   38.35125000|\n",
    ":::\n",
    "\n",
    "The modified equation for the mean anomaly is:\n",
    "\n",
    ":::{math}\n",
    ":label: eq:standish-modified-mean-anomaly\n",
    "M_e = L - \\varpi + b T^2 + c\\cos\\left(f T\\right) + s\\sin\\left(f T\\right)\n",
    ":::\n",
    "\n",
    "where $b$, $c$, $f$, and $s$ are from the table, and $T$ is the desired time. This is the only change necessary between the AD 1800-AD 2050 and the 3000 BC-AD 3000 data.\n",
    "\n",
    "Let's calculate the orbital elements for Mercury on December 8, 2020 at 4:30 PM Eastern US time."
   ]
  },
  {
   "cell_type": "code",
   "execution_count": 1,
   "id": "6081a055",
   "metadata": {},
   "outputs": [],
   "source": [
    "from scipy.optimize import newton\n",
    "from datetime import datetime, timezone\n",
    "import numpy as np\n",
    "mercury = {\n",
    "    \"a\": 0.38709927, \"a_dot\": 0.00000037,\n",
    "    \"e\": 0.20563593, \"e_dot\": 0.00001906,\n",
    "    \"i\": 7.00497902, \"i_dot\": -0.0059475,\n",
    "    \"L\": 252.250324, \"L_dot\": 149472.674,\n",
    "    \"long_peri\": 77.4577963, \"long_peri_dot\": 0.16047689,\n",
    "    \"long_node\":48.3307659, \"long_node_dot\": -0.1253408,\n",
    "}\n",
    "T_eph = datetime(month=12, day=8, year=2020, hour=21, minute=30, tzinfo=timezone.utc)"
   ]
  },
  {
   "cell_type": "markdown",
   "id": "b4c0db7a",
   "metadata": {},
   "source": [
    "We start by defining the data for Mercury from Standish and then creating the `datetime` object at the appropriate time."
   ]
  },
  {
   "cell_type": "code",
   "execution_count": 2,
   "id": "023f4dbc",
   "metadata": {
    "tags": [
     "remove-cell"
    ]
   },
   "outputs": [],
   "source": [
    "def gregorian_to_julian_day_number(month, day, year):\n",
    "    \"\"\"Convert the given proleptic Gregorian date to the equivalent Julian Day Number.\"\"\"\n",
    "    if month < 1 or month > 12:\n",
    "        raise ValueError(\"month must be between 1 and 12, inclusive\")\n",
    "    if day < 1 or day > 31:\n",
    "        raise ValueError(\"day must be between 1 and 31, inclusive\")\n",
    "    A = int((month - 14) / 12)\n",
    "    B = 1461 * (year + 4800 + A)\n",
    "    C = 367 * (month - 2 - 12 * A)\n",
    "    E = int((year + 4900 + A) / 100)\n",
    "    JDN = int(B / 4) + int(C / 12) - int(3 * E / 4) + day - 32075\n",
    "    return JDN\n",
    "\n",
    "def gregorian_to_julian_date(dt):\n",
    "    \"\"\"Convert a Gregorian date to a Julian Date.\"\"\"\n",
    "    JDN = gregorian_to_julian_day_number(dt.month, dt.day, dt.year)\n",
    "    JDT = JDN + (dt.hour - 12) / 24 + dt.minute / 1_440 + dt.second / 86_400 + dt.microsecond / 86_400_000_000\n",
    "    return JDT"
   ]
  },
  {
   "cell_type": "code",
   "execution_count": 3,
   "id": "49b46de6",
   "metadata": {},
   "outputs": [],
   "source": [
    "JDT = gregorian_to_julian_date(T_eph)\n",
    "T = (JDT - 2_451_545) / 36_525"
   ]
  },
  {
   "cell_type": "code",
   "execution_count": 4,
   "id": "8e0e7bb4",
   "metadata": {
    "tags": [
     "remove-cell"
    ]
   },
   "outputs": [
    {
     "data": {
      "text/plain": [
       "'2,459,192.3958'"
      ]
     },
     "metadata": {
      "scrapbook": {
       "mime_prefix": "application/papermill.record/",
       "name": "planetary-ephemeris-JDT"
      }
     },
     "output_type": "display_data"
    },
    {
     "data": {
      "text/plain": [
       "'0.2094'"
      ]
     },
     "metadata": {
      "scrapbook": {
       "mime_prefix": "application/papermill.record/",
       "name": "planetary-ephemeris-epoch"
      }
     },
     "output_type": "display_data"
    }
   ],
   "source": [
    "from functools import partial\n",
    "from myst_nb import glue as myst_glue\n",
    "glue = partial(myst_glue, display=False)\n",
    "glue(\"planetary-ephemeris-JDT\", f\"{JDT:,.4f}\")\n",
    "glue(\"planetary-ephemeris-epoch\", f\"{T:.4f}\")"
   ]
  },
  {
   "cell_type": "markdown",
   "id": "4dee3299",
   "metadata": {},
   "source": [
    "Then, we use the functions defined in [](./julian-date.md) to calculate the time since the J2000.0 epoch. The JDT is {glue:text}`planetary-ephemeris-JDT` and the number of centuries since the epoch is {glue:text}`planetary-ephemeris-epoch`. Finally, we can calculate the orbital elements."
   ]
  },
  {
   "cell_type": "code",
   "execution_count": 5,
   "id": "64a15c67",
   "metadata": {},
   "outputs": [
    {
     "name": "stdout",
     "output_type": "stream",
     "text": [
      "𝑎 = 5.7909E+07 km\n",
      "𝑒 = 0.20564\n",
      "𝑖 = 7.00°\n",
      "𝜃 = 159.93°\n",
      "𝜔 = 29.19°\n",
      "𝛺 = 48.30°\n"
     ]
    }
   ],
   "source": [
    "a = (mercury[\"a\"] + mercury[\"a_dot\"] * T) * 149_597_870.7\n",
    "e = mercury[\"e\"] + mercury[\"e_dot\"] * T\n",
    "i = np.radians(mercury[\"i\"] + mercury[\"i_dot\"] * T)\n",
    "L = np.radians(mercury[\"L\"] + mercury[\"L_dot\"] * T)\n",
    "long_peri = np.radians(mercury[\"long_peri\"] + mercury[\"long_peri_dot\"] * T)\n",
    "long_node = np.radians(mercury[\"long_node\"] + mercury[\"long_node_dot\"] * T)\n",
    "\n",
    "M_e = (L - long_peri) % (2 * np.pi)\n",
    "def kepler(E, M_e, e):\n",
    "    \"\"\"Kepler's equation, to be used in a Newton solver.\"\"\"\n",
    "    return E - e * np.sin(E) - M_e\n",
    "\n",
    "def d_kepler_d_E(E, M_e, e):\n",
    "    \"\"\"The derivative of Kepler's equation, to be used in a Newton solver.\n",
    "    \n",
    "    Note that the argument M_e is unused, but must be present so the function\n",
    "    arguments are consistent with the kepler function.\n",
    "    \"\"\"\n",
    "    return 1 - e * np.cos(E)\n",
    "\n",
    "E = newton(func=kepler, fprime=d_kepler_d_E, x0=np.pi, args=(M_e, e))\n",
    "nu = (2 * np.arctan(np.sqrt((1 + e) / (1 - e)) * np.tan(E / 2))) % (2 * np.pi)\n",
    "\n",
    "omega = long_peri - long_node\n",
    "\n",
    "print(f\"𝑎 = {a:.5G} km\", f\"𝑒 = {e:.5F}\", f\"𝑖 = {np.degrees(i):.2F}°\", f\"𝜃 = {np.degrees(nu):.2F}°\",\n",
    "      f\"𝜔 = {np.degrees(omega):.2F}°\", f\"𝛺 = {np.degrees(long_node):.2F}°\", sep=\"\\n\")"
   ]
  },
  {
   "cell_type": "markdown",
   "id": "15dd5487",
   "metadata": {},
   "source": [
    "## Using a Library for Ephemerides\n",
    "\n",
    "The formulas given in the last section are only approximate, with errors up to a few thousand kilometers, depending on the time interval and the particular planet of interest. JPL also produces much higher accuracy ephemerides (errors on the order of centimeters to a few kilometers) which are included in some specialized software. One example of such software available for Python is called [poliastro](https://docs.poliastro.space/en/stable/index.html), which we'll be using here. There are several other options as well:\n",
    "\n",
    "* [pyEphem](https://rhodesmill.org/pyephem/) (outdated and replaced by the next item)\n",
    "* [Skyfield](https://rhodesmill.org/skyfield/), which uses [jplephem](https://pypi.org/project/jplephem/) under the hood\n",
    "* [Astropy](https://www.astropy.org/) (also used by poliastro for some computations)\n",
    "* [SpiceyPy](https://spiceypy.readthedocs.io/en/main/)\n",
    "\n",
    "All these libraries use either the [NASA SPICE database](https://naif.jpl.nasa.gov/naif/data.html), in the form of SPK files, or the [NASA/JPL HORIZONS database](https://ssd.jpl.nasa.gov/horizons/), which we'll also discuss in the next section.\n",
    "\n",
    "poliastro has a [number of methods](https://docs.poliastro.space/en/stable/quickstart.html#where-are-the-planets-computing-ephemerides) to produce ephemerides for the planets and also has a convenient interface to retrieve the classical orbtial parameters, which is why I've selected it here. The two main methods are:\n",
    "\n",
    "* Lower-accuracy Astropy ephemerides, which rely on the [PyERFA](https://github.com/liberfa/pyerfa) library\n",
    "* Higher-accuracy JPL ephemerides using the SPICE files\n",
    "\n",
    "The Astropy ephemerids are included when poliastro is installed, while the JPL ephemerides require a separate download. We'll use the JPL ephemerides in this example. First, we need to determine a time at which the ephemerides should be calculated. poliastro requires an instance of the Astropy [`time.Time()`](https://docs.astropy.org/en/stable/time/) class to work, but we can create that using the `datetime` we set in the last section."
   ]
  },
  {
   "cell_type": "code",
   "execution_count": 6,
   "id": "74921b41",
   "metadata": {},
   "outputs": [],
   "source": [
    "from astropy import time\n",
    "epoch = time.Time(T_eph)"
   ]
  },
  {
   "cell_type": "markdown",
   "id": "ce5ce320",
   "metadata": {},
   "source": [
    "Next, we will set Astropy to use the JPL ephemerides."
   ]
  },
  {
   "cell_type": "code",
   "execution_count": 7,
   "id": "5e40ab15",
   "metadata": {
    "tags": [
     "remove-output"
    ]
   },
   "outputs": [
    {
     "data": {
      "text/plain": [
       "<ScienceState solar_system_ephemeris: 'jpl'>"
      ]
     },
     "execution_count": 7,
     "metadata": {},
     "output_type": "execute_result"
    }
   ],
   "source": [
    "from astropy.coordinates import solar_system_ephemeris\n",
    "solar_system_ephemeris.set(\"jpl\")"
   ]
  },
  {
   "cell_type": "markdown",
   "id": "81fe5510",
   "metadata": {},
   "source": [
    "Then, we'll compute the ephemerides using poliastro."
   ]
  },
  {
   "cell_type": "code",
   "execution_count": 8,
   "id": "4d98288e",
   "metadata": {
    "tags": [
     "remove-cell"
    ]
   },
   "outputs": [],
   "source": [
    "# Fake the Numba module, not available for 3.10\n",
    "import sys\n",
    "if sys.version_info.minor == 10:\n",
    "    if \"numba\" in sys.modules:\n",
    "        del sys.modules[\"numba\"]\n",
    "    sys.modules[\"numba\"] = getattr(__import__(\"scripts.numba\"), \"numba\")"
   ]
  },
  {
   "cell_type": "code",
   "execution_count": 9,
   "id": "8d829411",
   "metadata": {},
   "outputs": [
    {
     "ename": "ModuleNotFoundError",
     "evalue": "No module named 'numba'",
     "output_type": "error",
     "traceback": [
      "\u001b[0;31m---------------------------------------------------------------------------\u001b[0m",
      "\u001b[0;31mModuleNotFoundError\u001b[0m                       Traceback (most recent call last)",
      "\u001b[0;32m/tmp/ipykernel_2125/3655448516.py\u001b[0m in \u001b[0;36m<module>\u001b[0;34m\u001b[0m\n\u001b[0;32m----> 1\u001b[0;31m \u001b[0;32mfrom\u001b[0m \u001b[0mpoliastro\u001b[0m\u001b[0;34m.\u001b[0m\u001b[0mephem\u001b[0m \u001b[0;32mimport\u001b[0m \u001b[0mEphem\u001b[0m\u001b[0;34m\u001b[0m\u001b[0;34m\u001b[0m\u001b[0m\n\u001b[0m\u001b[1;32m      2\u001b[0m \u001b[0;32mfrom\u001b[0m \u001b[0mpoliastro\u001b[0m\u001b[0;34m.\u001b[0m\u001b[0mbodies\u001b[0m \u001b[0;32mimport\u001b[0m \u001b[0mSun\u001b[0m\u001b[0;34m,\u001b[0m \u001b[0mMercury\u001b[0m\u001b[0;34m\u001b[0m\u001b[0;34m\u001b[0m\u001b[0m\n\u001b[1;32m      3\u001b[0m \u001b[0;32mfrom\u001b[0m \u001b[0mpoliastro\u001b[0m\u001b[0;34m.\u001b[0m\u001b[0mtwobody\u001b[0m \u001b[0;32mimport\u001b[0m \u001b[0mOrbit\u001b[0m\u001b[0;34m\u001b[0m\u001b[0;34m\u001b[0m\u001b[0m\n\u001b[1;32m      4\u001b[0m \u001b[0mmerc_ephem\u001b[0m \u001b[0;34m=\u001b[0m \u001b[0mEphem\u001b[0m\u001b[0;34m.\u001b[0m\u001b[0mfrom_body\u001b[0m\u001b[0;34m(\u001b[0m\u001b[0mMercury\u001b[0m\u001b[0;34m,\u001b[0m \u001b[0mepoch\u001b[0m\u001b[0;34m.\u001b[0m\u001b[0mtdb\u001b[0m\u001b[0;34m)\u001b[0m\u001b[0;34m\u001b[0m\u001b[0;34m\u001b[0m\u001b[0m\n\u001b[1;32m      5\u001b[0m \u001b[0mmerc_orbit\u001b[0m \u001b[0;34m=\u001b[0m \u001b[0mOrbit\u001b[0m\u001b[0;34m.\u001b[0m\u001b[0mfrom_ephem\u001b[0m\u001b[0;34m(\u001b[0m\u001b[0mSun\u001b[0m\u001b[0;34m,\u001b[0m \u001b[0mmerc_ephem\u001b[0m\u001b[0;34m,\u001b[0m \u001b[0mepoch\u001b[0m\u001b[0;34m)\u001b[0m\u001b[0;34m\u001b[0m\u001b[0;34m\u001b[0m\u001b[0m\n",
      "\u001b[0;32m/opt/hostedtoolcache/Python/3.9.9/x64/lib/python3.9/site-packages/poliastro/ephem.py\u001b[0m in \u001b[0;36m<module>\u001b[0;34m\u001b[0m\n\u001b[1;32m     17\u001b[0m \u001b[0;32mfrom\u001b[0m \u001b[0mscipy\u001b[0m\u001b[0;34m.\u001b[0m\u001b[0minterpolate\u001b[0m \u001b[0;32mimport\u001b[0m \u001b[0minterp1d\u001b[0m\u001b[0;34m\u001b[0m\u001b[0;34m\u001b[0m\u001b[0m\n\u001b[1;32m     18\u001b[0m \u001b[0;34m\u001b[0m\u001b[0m\n\u001b[0;32m---> 19\u001b[0;31m \u001b[0;32mfrom\u001b[0m \u001b[0mpoliastro\u001b[0m\u001b[0;34m.\u001b[0m\u001b[0mtwobody\u001b[0m\u001b[0;34m.\u001b[0m\u001b[0mpropagation\u001b[0m \u001b[0;32mimport\u001b[0m \u001b[0mpropagate\u001b[0m\u001b[0;34m\u001b[0m\u001b[0;34m\u001b[0m\u001b[0m\n\u001b[0m\u001b[1;32m     20\u001b[0m \u001b[0;34m\u001b[0m\u001b[0m\n\u001b[1;32m     21\u001b[0m \u001b[0;32mfrom\u001b[0m \u001b[0;34m.\u001b[0m\u001b[0mframes\u001b[0m \u001b[0;32mimport\u001b[0m \u001b[0mPlanes\u001b[0m\u001b[0;34m\u001b[0m\u001b[0;34m\u001b[0m\u001b[0m\n",
      "\u001b[0;32m/opt/hostedtoolcache/Python/3.9.9/x64/lib/python3.9/site-packages/poliastro/twobody/__init__.py\u001b[0m in \u001b[0;36m<module>\u001b[0;34m\u001b[0m\n\u001b[0;32m----> 1\u001b[0;31m \u001b[0;32mfrom\u001b[0m \u001b[0;34m.\u001b[0m\u001b[0morbit\u001b[0m \u001b[0;32mimport\u001b[0m \u001b[0mOrbit\u001b[0m\u001b[0;34m\u001b[0m\u001b[0;34m\u001b[0m\u001b[0m\n\u001b[0m\u001b[1;32m      2\u001b[0m \u001b[0;34m\u001b[0m\u001b[0m\n\u001b[1;32m      3\u001b[0m \u001b[0m__all__\u001b[0m \u001b[0;34m=\u001b[0m \u001b[0;34m[\u001b[0m\u001b[0;34m\"Orbit\"\u001b[0m\u001b[0;34m]\u001b[0m\u001b[0;34m\u001b[0m\u001b[0;34m\u001b[0m\u001b[0m\n",
      "\u001b[0;32m/opt/hostedtoolcache/Python/3.9.9/x64/lib/python3.9/site-packages/poliastro/twobody/orbit.py\u001b[0m in \u001b[0;36m<module>\u001b[0;34m\u001b[0m\n\u001b[1;32m     19\u001b[0m \u001b[0;32mfrom\u001b[0m \u001b[0mpoliastro\u001b[0m\u001b[0;34m.\u001b[0m\u001b[0mframes\u001b[0m \u001b[0;32mimport\u001b[0m \u001b[0mPlanes\u001b[0m\u001b[0;34m\u001b[0m\u001b[0;34m\u001b[0m\u001b[0m\n\u001b[1;32m     20\u001b[0m \u001b[0;32mfrom\u001b[0m \u001b[0mpoliastro\u001b[0m\u001b[0;34m.\u001b[0m\u001b[0mframes\u001b[0m\u001b[0;34m.\u001b[0m\u001b[0mutil\u001b[0m \u001b[0;32mimport\u001b[0m \u001b[0mget_frame\u001b[0m\u001b[0;34m\u001b[0m\u001b[0;34m\u001b[0m\u001b[0m\n\u001b[0;32m---> 21\u001b[0;31m \u001b[0;32mfrom\u001b[0m \u001b[0mpoliastro\u001b[0m\u001b[0;34m.\u001b[0m\u001b[0mthreebody\u001b[0m\u001b[0;34m.\u001b[0m\u001b[0msoi\u001b[0m \u001b[0;32mimport\u001b[0m \u001b[0mlaplace_radius\u001b[0m\u001b[0;34m\u001b[0m\u001b[0;34m\u001b[0m\u001b[0m\n\u001b[0m\u001b[1;32m     22\u001b[0m \u001b[0;32mfrom\u001b[0m \u001b[0mpoliastro\u001b[0m\u001b[0;34m.\u001b[0m\u001b[0mtwobody\u001b[0m\u001b[0;34m.\u001b[0m\u001b[0mpropagation\u001b[0m \u001b[0;32mimport\u001b[0m \u001b[0mfarnocchia\u001b[0m\u001b[0;34m,\u001b[0m \u001b[0mpropagate\u001b[0m\u001b[0;34m\u001b[0m\u001b[0;34m\u001b[0m\u001b[0m\n\u001b[1;32m     23\u001b[0m \u001b[0;34m\u001b[0m\u001b[0m\n",
      "\u001b[0;32m/opt/hostedtoolcache/Python/3.9.9/x64/lib/python3.9/site-packages/poliastro/threebody/soi.py\u001b[0m in \u001b[0;36m<module>\u001b[0;34m\u001b[0m\n\u001b[1;32m     32\u001b[0m \u001b[0;34m\u001b[0m\u001b[0m\n\u001b[1;32m     33\u001b[0m \"\"\"\n\u001b[0;32m---> 34\u001b[0;31m \u001b[0;32mfrom\u001b[0m \u001b[0;34m.\u001b[0m\u001b[0;34m.\u001b[0m\u001b[0mtwobody\u001b[0m\u001b[0;34m.\u001b[0m\u001b[0mmean_elements\u001b[0m \u001b[0;32mimport\u001b[0m \u001b[0mget_mean_elements\u001b[0m\u001b[0;34m\u001b[0m\u001b[0;34m\u001b[0m\u001b[0m\n\u001b[0m\u001b[1;32m     35\u001b[0m \u001b[0;34m\u001b[0m\u001b[0m\n\u001b[1;32m     36\u001b[0m \u001b[0;34m\u001b[0m\u001b[0m\n",
      "\u001b[0;32m/opt/hostedtoolcache/Python/3.9.9/x64/lib/python3.9/site-packages/poliastro/twobody/mean_elements.py\u001b[0m in \u001b[0;36m<module>\u001b[0;34m\u001b[0m\n\u001b[1;32m      5\u001b[0m \u001b[0;32mfrom\u001b[0m \u001b[0;34m.\u001b[0m\u001b[0;34m.\u001b[0m\u001b[0mconstants\u001b[0m \u001b[0;32mimport\u001b[0m \u001b[0mJ2000\u001b[0m\u001b[0;34m\u001b[0m\u001b[0;34m\u001b[0m\u001b[0m\n\u001b[1;32m      6\u001b[0m \u001b[0;32mfrom\u001b[0m \u001b[0;34m.\u001b[0m\u001b[0;34m.\u001b[0m\u001b[0mframes\u001b[0m \u001b[0;32mimport\u001b[0m \u001b[0mPlanes\u001b[0m\u001b[0;34m\u001b[0m\u001b[0;34m\u001b[0m\u001b[0m\n\u001b[0;32m----> 7\u001b[0;31m \u001b[0;32mfrom\u001b[0m \u001b[0;34m.\u001b[0m\u001b[0mstates\u001b[0m \u001b[0;32mimport\u001b[0m \u001b[0mRVState\u001b[0m\u001b[0;34m\u001b[0m\u001b[0;34m\u001b[0m\u001b[0m\n\u001b[0m\u001b[1;32m      8\u001b[0m \u001b[0;34m\u001b[0m\u001b[0m\n\u001b[1;32m      9\u001b[0m \u001b[0;34m\u001b[0m\u001b[0m\n",
      "\u001b[0;32m/opt/hostedtoolcache/Python/3.9.9/x64/lib/python3.9/site-packages/poliastro/twobody/states.py\u001b[0m in \u001b[0;36m<module>\u001b[0;34m\u001b[0m\n\u001b[1;32m      1\u001b[0m \u001b[0;32mfrom\u001b[0m \u001b[0mastropy\u001b[0m \u001b[0;32mimport\u001b[0m \u001b[0munits\u001b[0m \u001b[0;32mas\u001b[0m \u001b[0mu\u001b[0m\u001b[0;34m\u001b[0m\u001b[0;34m\u001b[0m\u001b[0m\n\u001b[1;32m      2\u001b[0m \u001b[0;34m\u001b[0m\u001b[0m\n\u001b[0;32m----> 3\u001b[0;31m \u001b[0;32mfrom\u001b[0m \u001b[0;34m.\u001b[0m\u001b[0;34m.\u001b[0m\u001b[0mcore\u001b[0m\u001b[0;34m.\u001b[0m\u001b[0melements\u001b[0m \u001b[0;32mimport\u001b[0m \u001b[0mcoe2mee\u001b[0m\u001b[0;34m,\u001b[0m \u001b[0mcoe2rv\u001b[0m\u001b[0;34m,\u001b[0m \u001b[0mmee2coe\u001b[0m\u001b[0;34m,\u001b[0m \u001b[0mrv2coe\u001b[0m\u001b[0;34m\u001b[0m\u001b[0;34m\u001b[0m\u001b[0m\n\u001b[0m\u001b[1;32m      4\u001b[0m \u001b[0;32mfrom\u001b[0m \u001b[0;34m.\u001b[0m\u001b[0melements\u001b[0m \u001b[0;32mimport\u001b[0m \u001b[0mmean_motion\u001b[0m\u001b[0;34m,\u001b[0m \u001b[0mperiod\u001b[0m\u001b[0;34m\u001b[0m\u001b[0;34m\u001b[0m\u001b[0m\n\u001b[1;32m      5\u001b[0m \u001b[0;34m\u001b[0m\u001b[0m\n",
      "\u001b[0;32m/opt/hostedtoolcache/Python/3.9.9/x64/lib/python3.9/site-packages/poliastro/core/elements.py\u001b[0m in \u001b[0;36m<module>\u001b[0;34m\u001b[0m\n\u001b[1;32m      4\u001b[0m \u001b[0;34m\u001b[0m\u001b[0m\n\u001b[1;32m      5\u001b[0m \u001b[0;32mimport\u001b[0m \u001b[0mnumpy\u001b[0m \u001b[0;32mas\u001b[0m \u001b[0mnp\u001b[0m\u001b[0;34m\u001b[0m\u001b[0;34m\u001b[0m\u001b[0m\n\u001b[0;32m----> 6\u001b[0;31m \u001b[0;32mfrom\u001b[0m \u001b[0mnumba\u001b[0m \u001b[0;32mimport\u001b[0m \u001b[0mnjit\u001b[0m \u001b[0;32mas\u001b[0m \u001b[0mjit\u001b[0m\u001b[0;34m,\u001b[0m \u001b[0mprange\u001b[0m\u001b[0;34m\u001b[0m\u001b[0;34m\u001b[0m\u001b[0m\n\u001b[0m\u001b[1;32m      7\u001b[0m \u001b[0;32mfrom\u001b[0m \u001b[0mnumpy\u001b[0m \u001b[0;32mimport\u001b[0m \u001b[0mcos\u001b[0m\u001b[0;34m,\u001b[0m \u001b[0mcross\u001b[0m\u001b[0;34m,\u001b[0m \u001b[0msin\u001b[0m\u001b[0;34m,\u001b[0m \u001b[0msqrt\u001b[0m\u001b[0;34m\u001b[0m\u001b[0;34m\u001b[0m\u001b[0m\n\u001b[1;32m      8\u001b[0m \u001b[0;32mfrom\u001b[0m \u001b[0mnumpy\u001b[0m\u001b[0;34m.\u001b[0m\u001b[0mlinalg\u001b[0m \u001b[0;32mimport\u001b[0m \u001b[0mnorm\u001b[0m\u001b[0;34m\u001b[0m\u001b[0;34m\u001b[0m\u001b[0m\n",
      "\u001b[0;31mModuleNotFoundError\u001b[0m: No module named 'numba'"
     ]
    }
   ],
   "source": [
    "from poliastro.ephem import Ephem\n",
    "from poliastro.bodies import Sun, Mercury\n",
    "from poliastro.twobody import Orbit\n",
    "merc_ephem = Ephem.from_body(Mercury, epoch.tdb)\n",
    "merc_orbit = Orbit.from_ephem(Sun, merc_ephem, epoch)\n",
    "print(f\"𝑎 = {merc_orbit.a:.5G}\", f\"𝑒 = {merc_orbit.ecc:.5F}\", f\"𝑖 = {merc_orbit.inc.to('degree'):.2F}\",\n",
    "      f\"𝜃 = {merc_orbit.nu.to('degree'):.2F}\", f\"𝜔 = {merc_orbit.argp.to('degree'):.2F}\",\n",
    "      f\"𝛺 = {merc_orbit.raan.to('degree')}\", sep=\"\\n\")"
   ]
  },
  {
   "cell_type": "markdown",
   "id": "b96aafda",
   "metadata": {},
   "source": [
    "The parameters of the orbit are listed in the poliastro documentation: <https://docs.poliastro.space/en/stable/autoapi/poliastro/twobody/index.html#poliastro.twobody.Orbit>.\n",
    "\n",
    "Notice that the inclination is significantly different from the inclination we calculated previously. This is due to the _plane_ of the orbit that we defined. By default, poliastro uses the Earth-equatorial reference frame, which is inclined relative to the ecliptic plane."
   ]
  },
  {
   "cell_type": "code",
   "execution_count": null,
   "id": "053c75d9",
   "metadata": {},
   "outputs": [],
   "source": [
    "print(merc_orbit.plane)"
   ]
  },
  {
   "cell_type": "markdown",
   "id": "97dc89ee",
   "metadata": {},
   "source": [
    "To change the plane to the ecliptic, we must change the plane when we create the ephemerides:"
   ]
  },
  {
   "cell_type": "code",
   "execution_count": null,
   "id": "02693ea1",
   "metadata": {},
   "outputs": [],
   "source": [
    "from poliastro.frames import Planes\n",
    "\n",
    "merc_ephem = Ephem.from_body(Mercury, epoch.tdb, plane=Planes.EARTH_ECLIPTIC)\n",
    "merc_orbit = Orbit.from_ephem(Sun, merc_ephem, epoch)\n",
    "print(merc_orbit.plane, f\"𝑖 = {merc_orbit.inc.to('degree'):.2F}\", sep=\"\\n\")"
   ]
  },
  {
   "cell_type": "markdown",
   "id": "01801090",
   "metadata": {},
   "source": [
    "As you can see, we now have the Earth ecliptic as the reference plane, and the inclination matches the previous calculation. The other major difference is in the true anomaly. This is due to the default choice of the reference point as the solar system barycenter. We can adjust the default reference point, which again we must do when we create the ephemerides. We do this by setting the `attractor` parameter for the ephemerides:"
   ]
  },
  {
   "cell_type": "code",
   "execution_count": null,
   "id": "b6a7b0dc",
   "metadata": {},
   "outputs": [],
   "source": [
    "merc_ephem = Ephem.from_body(Mercury, epoch.tdb, attractor=Sun, plane=Planes.EARTH_ECLIPTIC)\n",
    "merc_orbit = Orbit.from_ephem(Sun, merc_ephem, epoch)\n",
    "print(f\"𝜃 = {merc_orbit.nu.to('degree'):.2F}\")"
   ]
  },
  {
   "cell_type": "markdown",
   "id": "b9e3c4b2",
   "metadata": {},
   "source": [
    "Now the result is much closer to the one we calculated previously.\n",
    "\n",
    "Matlab has a similar function, called [`planetEphemeris`](https://www.mathworks.com/help/aerotbx/ug/planetephemeris.html). You have to install the Aerospace Toolbox, for which instructions can be found on the [Mathworks website](https://www.mathworks.com/matlabcentral/answers/101885-how-do-i-install-additional-toolboxes-into-an-existing-installation-of-matlab) or you can click the \"Add-Ons\" button in the Matlab ribbon toolbar and search for \"aerospace toolbox\". The first time you run `planetEphemeris`, it will also prompt you to install the SPK files to do the calculations.\n",
    "\n",
    "With that all installed, `planetEphemeris` takes 3 arguments in the basic form:\n",
    "\n",
    "1. A Julian Date\n",
    "2. The center of the desired coordinate system\n",
    "3. The target object\n",
    "\n",
    "`planetEphemeris` then returns the position and velocity vector with respect to the center that you set. The default units are km and km/s.\n",
    "\n",
    "```matlab\n",
    "t1 = datetime('2020-December-08 21:30');\n",
    "t1.TimeZone = 'UTC';\n",
    "jd1 = juliandate(t1);\n",
    "[position, velocity] = planetEphemeris(jd1, 'Sun','Mercury','432t');\n",
    "angular_momentum = cross(position, velocity);\n",
    "h = norm(angular_momentum);\n",
    "i = acos(angular_momentum(end) / h);\n",
    "rad2deg(i)\n",
    "\n",
    "ans =\n",
    "\n",
    "   28.5532\n",
    "\n",
    "```\n",
    "\n",
    "Once the `position` and `velocity` are obtained, we can use the methods from [](../classical-orbital-elements/orbital-elements-and-the-state-vector.md) to convert to the classical orbital elements.\n",
    "\n",
    "Note that the inclination is about 28 degrees, meaning that the default frame is the Earth-equatorial frame, equivalent to the [ICRF](https://en.wikipedia.org/wiki/International_Celestial_Reference_Frame). We can convert from this frame to the [ecliptic frame](https://en.wikipedia.org/wiki/Ecliptic_coordinate_system) by a rotation around the vernal equinox:\n",
    "\n",
    ":::{math}\n",
    ":label: eq:rotate-around-vernal-equinox\n",
    "\\mat{Q} = \\begin{bmatrix}1 & 0 & 0\\\\0 & \\cos\\varepsilon & \\sin\\varepsilon\\\\0 & -\\sin\\varepsilon & \\cos\\varepsilon\\end{bmatrix}\n",
    ":::\n",
    "\n",
    "where $\\varepsilon$ is the [**obliquity of the ecliptic**](https://en.wikipedia.org/wiki/Axial_tilt) and $Q$ is the rotation matrix. The current value of $\\varepsilon$ is 23.43657°. Thus, the transformation is accomplished by:\n",
    "\n",
    "```matlab\n",
    "obliquity = deg2rad(23.43657);\n",
    "transform = [1 0 0; 0 cos(obliquity) sin(obliquity); 0 -sin(obliquity) cos(obliquity)];\n",
    "pos = transform * position';\n",
    "vel = transform * velocity';\n",
    "am = cross(pos, vel);\n",
    "h2 = norm(am);\n",
    "rad2deg(acos(am(end) / h2))\n",
    "\n",
    "ans =\n",
    "\n",
    "    7.0055\n",
    "```\n",
    "\n",
    "With this coordinate transformation, we obtain the same inclination angle as before.\n",
    "\n",
    "## Using JPL HORIZONS Web Interface\n",
    "\n",
    "JPL also maintains a web browser based interface to the HORIZONS database. This interface can be used to determine all the same information as the previous methods, with a similar level of accuracy as the SPICE-focused methods in the previous section. The web interface is located at:\n",
    "\n",
    "<https://ssd.jpl.nasa.gov/horizons/app.html#/>\n",
    "\n",
    "The default interface of HORIZONS is shown in {numref}`fig:horizons-default`\n",
    "\n",
    ":::{figure} ../images/horizons-default.png\n",
    ":name: fig:horizons-default\n",
    "\n",
    "The default web interface for HORIZONS.\n",
    ":::\n",
    "\n",
    "Each of the options can be changed by clicking the *Edit* buttons. For our purposes, we can change the following:\n",
    "\n",
    "1. _Ephemeris Type_: Either _Vector Table_ or _Osculating Orbital Elements_ is suitable, although the latter is more direct for this example\n",
    "2. _Target Body_: This option opens a pop-up where we can search for the body of interest. In the drop-down menu under *Choose a method for specifying the target body*, you can choose *Select from a list of major bodies*, then choose *Mercury*\n",
    "3. _Center_: The default selection here is _Solar System Barycenter_, the center of gravity of the entire solar system. This is usually a little bit outside the sun, depending on the relative locations of the planets, especially Jupiter. In our case, we want the center of the Sun as the focus of the orbit, so click _Edit_ and then type `@sun` into the search box.\n",
    "4. _Time Span_: This can be used to generate a range of dates, or to input specific dates. We will choose _Specify a list of times_ for this example, and then input the date of interest, in JDT, {glue:text}`planetary-ephemeris-JDT`.\n",
    "5. _Table Settings_: Here, we want to change the units to _km and seconds_. Another useful option is the _Reference plane_. The default of _ecliptic x-y plane derived from reference plane_ is appropriate for this example. You may also want to set the CSV output option, depending on how you will use the data.\n",
    "\n",
    "When you've set the options for this example, the screen should appear as in {numref}`fig:horizons-mercury`.\n",
    "\n",
    ":::{figure} ../images/horizons-mercury.png\n",
    ":name: fig:horizons-mercury\n",
    ":width: 75%\n",
    "The settings used in this example for the ephemerides of Mercury.\n",
    ":::\n",
    "\n",
    "After clicking _Generate Ephemeris_, the output looks like {numref}`fig:mercury-output`.\n",
    "\n",
    ":::{figure} ../images/mercury-output.png\n",
    ":name: fig:mercury-output\n",
    "\n",
    "A subset of the output from HORIZONS for Mercury showing the orbital elements.\n",
    ":::\n",
    "\n",
    "The HORIZONS output includes data about Mercury itself, the dates for which the ephemeris were calculated, and as shown in {numref}`fig:mercury-output`, the orbital elements of interest. Right below the orbital elements output is an explanation of what the acronyms mean. `IN` stands for inclination and `TA` is the true anomaly. Both of these elements match our previous calculated results for the date given."
   ]
  }
 ],
 "metadata": {
  "jupytext": {
   "text_representation": {
    "extension": ".md",
    "format_name": "myst",
    "format_version": 0.13,
    "jupytext_version": "1.13.1"
   }
  },
  "kernelspec": {
   "display_name": "Python 3",
   "language": "python",
   "name": "python3"
  },
  "language_info": {
   "codemirror_mode": {
    "name": "ipython",
    "version": 3
   },
   "file_extension": ".py",
   "mimetype": "text/x-python",
   "name": "python",
   "nbconvert_exporter": "python",
   "pygments_lexer": "ipython3",
   "version": "3.9.9"
  },
  "source_map": [
   12,
   127,
   140,
   144,
   167,
   172,
   179,
   183,
   211,
   231,
   234,
   238,
   242,
   246,
   256,
   265,
   271,
   273,
   277,
   283,
   287,
   291
  ]
 },
 "nbformat": 4,
 "nbformat_minor": 5
}