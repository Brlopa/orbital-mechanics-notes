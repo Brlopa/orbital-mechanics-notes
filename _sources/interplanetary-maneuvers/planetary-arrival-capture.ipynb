{
 "cells": [
  {
   "cell_type": "markdown",
   "id": "f5c47b7e",
   "metadata": {},
   "source": [
    "# Planetary Arrival: Capture\n",
    "\n",
    "In an interplanetary transfer, when we arrive at the target planet, we have three choices of trajectory:\n",
    "\n",
    "1. Impact the planet\n",
    "2. Go into orbit around the planet\n",
    "3. Flyby the planet, using the planet's angular momentum to change the spacecraft's heliocentric trajectory\n",
    "\n",
    "In this section, we'll talk about the first two options, and discuss flyby trajectories in the next section.\n",
    "\n",
    "## Arrival Trajectory\n",
    "\n",
    "When arriving at the target planet, the spacecraft will cross the sphere of influence *ahead of* or *behind* the planet on the planet's orbital path.\n",
    "\n",
    "- **Inner to Outer Planet**: The spacecraft velocity is lower than the planet's orbital velocity. The spacecraft crosses the sphere of influence *in front* of the planet. This is shown in {numref}`fig:interplanetary-arrival`.\n",
    "  :::{figure} ../images/interplanetary-arrival.svg\n",
    "  :name: fig:interplanetary-arrival\n",
    "  :width: 50%\n",
    "\n",
    "  Arrival phase of a trajectory from an inner planet to an outer planet.\n",
    "  :::\n",
    "\n",
    "- **Outer to Inner Planet**: The spacecraft velocity is higher than the planet's orbital velocity. The spacecraft crosses the sphere of influence *behind* the planet. This is shown in {numref}`fig:interplanetary-arrival-inward-transfer`.\n",
    "\n",
    "  :::{figure} ../images/interplanetary-arrival-inward-transfer.svg\n",
    "  :name: fig:interplanetary-arrival-inward-transfer\n",
    "  :width: 50%\n",
    "\n",
    "  Arrival phase of a trajectory from an outer planet to an inner planet.\n",
    "  :::\n",
    "\n",
    "In {numref}`fig:interplanetary-arrival` and {numref}`fig:interplanetary-arrival-inward-transfer`, we see that the spacecraft crosses the sphere of influence at some **offset distance** or **aiming radius**, $y$, perpendicular to the planet's orbital path. The offset distance is determined by the desired periapsis radius of the arrival hyperbola, $r_p$.\n",
    "\n",
    "## Orbital Elements of Arrival Trajectory\n",
    "\n",
    "As with the [departure trajectory](./planetary-departure-trajectory.md), we must choose the value of $r_p$ that we want for the hyperbola. If we want to impact the planet, in the absence of an atomsphere, then we should choose the radius of the planet as $r_p$. If an atmosphere is present, then an altitude at the approximate edge of the atmosphere would be more appropriate.\n",
    "\n",
    "On the other hand, we may want to enter an orbit around the planet, either to conduct a science mission or perform system checks before a deorbit burn. In this case, $r_p$ should be well above the atmosphere.\n",
    "\n",
    "In either case, once $r_p$ is chosen, we can calculate the eccentricity of the arrival trajectory using Eq. {eq}`eq:interplanetary-hyperbola-eccentricity`:\n",
    "\n",
    ":::{math}\n",
    ":label: eq:interplanetary-arrival-eccentricity\n",
    "\n",
    "e = 1 + \\frac{r_p v_{\\infty}^2}{\\mu_f}\n",
    ":::\n",
    "\n",
    "where $\\mu_f$ is the gravitational parameter of the target planet and $v_{\\infty}$ is the hyperbolic excess velocity relative to the planet:\n",
    "\n",
    ":::{math}\n",
    ":label: eq:interplanetary-arrival-v_infty\n",
    "\n",
    "v_{\\infty} = \\lvert v_{t,f} - v_f \\rvert\n",
    ":::\n",
    "\n",
    "With the eccentricity determined, we can calculate the semimajor axis of the hyperbola using Eq. {eq}`eq:interplanetary-hyperbola-semimajor-axis`:\n",
    "\n",
    ":::{math}\n",
    ":label: eq:interplanetary-arrival-semimajor-axis\n",
    "\n",
    "a = \\frac{\\mu_f}{v_{\\infty}^2}\n",
    ":::\n",
    "\n",
    "Finally, it turns out that the offset distance is equal to the semiminor axis distance of the hyperbola, given by Eq. {eq}`eq:hyperbolic-semi-minor-axis`:\n",
    "\n",
    ":::{math}\n",
    ":label: eq:interplanetary-arrival-offset-distance\n",
    "\n",
    "y = a \\sqrt{e^2 - 1}\n",
    ":::\n",
    "\n",
    "With the eccentricity and semimajor axis, we can determine any of the other orbital elements.\n",
    "\n",
    "## Reentry Corridor\n",
    "\n",
    "Depending on the mission design, we may want to impact the planetary atmosphere from the hyperbolic approach trajectory. In that case, the offset distance must be precisely determined so that the hyperbolic periapsis radius is within the atmosphere. There is a small range of values of the offset distance that will achieve this, depending on the height of the atmosphere.\n",
    "\n",
    "In addition, since the plane of the hyperbolic arrival trajectory can be rotated around the center of the planet, there is a surface of possible arrival trajectories (much like the surface of departure trajectories). Combined with the range of offset distances, this gives a small annulus where the hyperbola will impact the atmosphere. This annulus is called the [**reentry corridor**](https://web.archive.org/web/20211115092141/https://www.faa.gov/about/office_org/headquarters_offices/avs/offices/aam/cami/library/online_libraries/aerospace_medicine/tutorial/media/iii.4.1.7_returning_from_space.pdf).\n",
    "\n",
    "The size of the reentry corridor depends on:\n",
    "\n",
    "- the hyperbolic excess speed, which in turn depends on where the spacecraft is coming from\n",
    "- the height of the atmosphere of the planet\n",
    "- the gravitational parameter of the planet\n",
    "\n",
    "### Example\n",
    "\n",
    "To give an idea of the order of magnitude of the size of the reentry corridor, let's take the example of an Earth return trajectory from Mars. By convention, spacecraft enter Earth's atmosphere at the [**Kármán line**](https://en.wikipedia.org/wiki/K%C3%A1rm%C3%A1n_line), an imaginary line at an altitude of 100 km where the density of the atmosphere is signifcant. This gives $r_p$ values ranging from 6,378–6,478 km.\n",
    "\n",
    "Next, let's compute $v_{\\infty}$ for an arrival from Mars."
   ]
  },
  {
   "cell_type": "code",
   "execution_count": 1,
   "id": "fe94b4e8",
   "metadata": {},
   "outputs": [],
   "source": [
    "import math as m\n",
    "mu = 1.32712E11  # km**3/s**2, Sun\n",
    "\n",
    "r_i = 2.27939E8  # km, Mars\n",
    "r_f = 1.49598E8  # km, Earth\n",
    "\n",
    "v_f = m.sqrt(mu / r_f)  # km/s, Earth\n",
    "\n",
    "a_t = (r_i + r_f) / 2  # km\n",
    "E_t = - mu / (2 * a_t)  # km**2/s**2\n",
    "v_t2 = m.sqrt(2 * (E_t + mu / r_f))  # km/s\n",
    "\n",
    "Delta_vt = abs(v_f - v_t2)  # km/s"
   ]
  },
  {
   "cell_type": "code",
   "execution_count": 2,
   "id": "3515bd20",
   "metadata": {
    "tags": [
     "remove-cell"
    ]
   },
   "outputs": [
    {
     "data": {
      "text/plain": [
       "29.784629583291714"
      ]
     },
     "metadata": {
      "scrapbook": {
       "mime_prefix": "application/papermill.record/",
       "name": "reentry-corridor-v_f"
      }
     },
     "output_type": "display_data"
    },
    {
     "data": {
      "text/plain": [
       "32.729303267643054"
      ]
     },
     "metadata": {
      "scrapbook": {
       "mime_prefix": "application/papermill.record/",
       "name": "reentry-corridor-v_t2"
      }
     },
     "output_type": "display_data"
    },
    {
     "data": {
      "text/plain": [
       "2.94467368435134"
      ]
     },
     "metadata": {
      "scrapbook": {
       "mime_prefix": "application/papermill.record/",
       "name": "reentry-corridor-Delta_vt"
      }
     },
     "output_type": "display_data"
    }
   ],
   "source": [
    "from functools import partial\n",
    "from myst_nb import glue as mystglue\n",
    "glue = partial(mystglue, display=False)\n",
    "glue(\"reentry-corridor-v_f\", v_f)\n",
    "glue(\"reentry-corridor-v_t2\", v_t2)\n",
    "glue(\"reentry-corridor-Delta_vt\", Delta_vt)"
   ]
  },
  {
   "cell_type": "markdown",
   "id": "469c79ab",
   "metadata": {},
   "source": [
    "Here, $v_f$ is the orbital velocity of Earth relative to the sun, {glue:text}`reentry-corridor-v_f:.3f` km/s. $v_{t,2}$ is the velocity of the spacecraft on the Hohmann transfer ellipse relative to the sun, {glue:text}`reentry-corridor-v_t2:.3f` km/s. This gives $\\Delta v = v_{\\infty} =$ {glue:text}`reentry-corridor-Delta_vt:.3f` km/s.\n",
    "\n",
    "Now, we can calculate the eccentricity, semimajor axis, and offset distance of the geocentric hyperbola given the two $r_p$ values at the surface of the earth and at the Kármán line."
   ]
  },
  {
   "cell_type": "code",
   "execution_count": 3,
   "id": "d17f25ba",
   "metadata": {},
   "outputs": [],
   "source": [
    "v_infty = Delta_vt\n",
    "\n",
    "r_1 = 6378  # km\n",
    "r_2 = 6478  # km\n",
    "mu_f = 3.986E5  # km**3/s**2\n",
    "\n",
    "e_1 = 1 + r_1 * v_infty**2 / mu_f\n",
    "e_2 = 1 + r_2 * v_infty**2 / mu_f\n",
    "\n",
    "a = mu_f / v_infty**2  # km\n",
    "\n",
    "y_1 = a * m.sqrt(e_1**2 - 1)  # km\n",
    "y_2 = a * m.sqrt(e_2**2 - 1)  # km"
   ]
  },
  {
   "cell_type": "code",
   "execution_count": 4,
   "id": "62c2cca9",
   "metadata": {
    "tags": [
     "remove-cell"
    ]
   },
   "outputs": [
    {
     "data": {
      "text/plain": [
       "1.138746351275543"
      ]
     },
     "metadata": {
      "scrapbook": {
       "mime_prefix": "application/papermill.record/",
       "name": "reentry-corridor-e_1"
      }
     },
     "output_type": "display_data"
    },
    {
     "data": {
      "text/plain": [
       "1.1409217409161128"
      ]
     },
     "metadata": {
      "scrapbook": {
       "mime_prefix": "application/papermill.record/",
       "name": "reentry-corridor-e_2"
      }
     },
     "output_type": "display_data"
    },
    {
     "data": {
      "text/plain": [
       "45968.776413684755"
      ]
     },
     "metadata": {
      "scrapbook": {
       "mime_prefix": "application/papermill.record/",
       "name": "reentry-corridor-a"
      }
     },
     "output_type": "display_data"
    },
    {
     "data": {
      "text/plain": [
       "25041.098137521094"
      ]
     },
     "metadata": {
      "scrapbook": {
       "mime_prefix": "application/papermill.record/",
       "name": "reentry-corridor-y_1"
      }
     },
     "output_type": "display_data"
    },
    {
     "data": {
      "text/plain": [
       "25249.474276026012"
      ]
     },
     "metadata": {
      "scrapbook": {
       "mime_prefix": "application/papermill.record/",
       "name": "reentry-corridor-y_2"
      }
     },
     "output_type": "display_data"
    },
    {
     "data": {
      "text/plain": [
       "208.37613850491834"
      ]
     },
     "metadata": {
      "scrapbook": {
       "mime_prefix": "application/papermill.record/",
       "name": "reentry-corridor-radius"
      }
     },
     "output_type": "display_data"
    }
   ],
   "source": [
    "glue(\"reentry-corridor-e_1\", e_1)\n",
    "glue(\"reentry-corridor-e_2\", e_2)\n",
    "glue(\"reentry-corridor-a\", a)\n",
    "glue(\"reentry-corridor-y_1\", y_1)\n",
    "glue(\"reentry-corridor-y_2\", y_2)\n",
    "glue(\"reentry-corridor-radius\", y_2 - y_1)"
   ]
  },
  {
   "cell_type": "markdown",
   "id": "ee242f51",
   "metadata": {},
   "source": [
    "The offset distance to have $r_p =$ 6,378 km is $y_1 =$ {glue:text}`reentry-corridor-y_1:.1f` km and to hit the edge of the atmosphere, $y_2 =$ {glue:text}`reentry-corridor-y_2:.1f` km. This gives an annulus of thickness {glue:text}`reentry-corridor-radius:.1f` km that the spacecraft must be within to arrive in Earth's atmosphere. This is approximately the distance from Storrs, CT to the Statue of Liberty. If Earth was the size of a baseball, the reentry corridor would be about the thickness of a credit card.\n",
    "\n",
    "## $\\Delta v$ for a Capture Orbit\n",
    "\n",
    "If the spacecraft is to impact the planet or its atmosphere, then we do not need to be worried about a $\\Delta v$ maneuver, in general. However, if the spacecraft will enter a capture orbit, then it must conduct a burn to change from the hyperbolic trajectory to a circular or elliptical orbit.\n",
    "\n",
    "As with other $\\Delta v$ calculations, we need to determine the velocity of the spacecraft on the initial trajectory, the hyperbola in this case, where it intersects with the capture orbit. We also need the velocity of the spacecraft on the capture orbit at the intersection point.\n",
    "\n",
    "Once the velocities are determined, $\\Delta v$ is calculated by taking the absolute value of their difference:\n",
    "\n",
    ":::{math}\n",
    ":label: eq:interplanetary-arrival-delta-v\n",
    "\n",
    "\\Delta v = \\lvert v_p - v_{p,\\text{capture}}\\rvert\n",
    ":::\n",
    "\n",
    "### Hyperbolic Trajectory\n",
    "\n",
    "We will assume that the maneuver occurs at the periapsis of the hyperbolic trajectory. The velocity at the periapsis of the hyperbola can be found from the energy:\n",
    "\n",
    ":::{math}\n",
    ":label: eq:interplanetary-arrival-hyperbolic-periapsis-velocity\n",
    "\n",
    "v_p = \\sqrt{v_{\\infty}^2 + \\frac{2 \\mu_f}{r_p}}\n",
    ":::\n",
    "\n",
    "Alternatively, the angular momentum of the hyperbola can be calculated because the offset distance is perpendicular to the excess velocity:\n",
    "\n",
    ":::{math}\n",
    ":label: eq:interplanetary-arrival-hyperbolic-angular-momentum\n",
    "\n",
    "h = v_{\\infty} y\n",
    ":::\n",
    "\n",
    "Then, the velocity and radius at periapsis are also perpendicular, and the angular momentum is constant:\n",
    "\n",
    ":::{math}\n",
    ":label: eq:interplanetary-arrival-hyperbolic-periapsis-velocity-2\n",
    "\n",
    "v_p = \\frac{h}{r_p} = \\frac{v_{\\infty}y}{r_p}\n",
    ":::\n",
    "\n",
    "### Capture Orbit\n",
    "\n",
    "To determine the capture orbit, we need to decide on two factors:\n",
    "\n",
    "1. Where in the capture orbit, relative to the capture orbit's periapsis, will the transfer occur\n",
    "2. The eccentricity of the capture orbit\n",
    "\n",
    "Usually we will assume that the transfer occurs at the periapsis of the capture orbit. This will give the minimum $\\Delta v$ requirement, since it is the point where the velocity is highest on the capture orbit, and therefore the place where the velocity on the capture orbit is closest to the hyperbolic velocity.\n",
    "\n",
    "Then, since the transfer must occur where the orbits intersect, the radial coordinate at the transfer point is $r_p$.\n",
    "\n",
    "Next, we need to choose a capture orbit eccentricity. The choice of eccentricity of the capture orbit depends on what your mission objectives are. If you are going into a capture orbit to conduct system checks followed by a landing mission, or if your mission is to study the planet with on-board instruments, you may want to choose an orbit with small eccentricity to maximize the time close to the planet.\n",
    "\n",
    "Another option might include a mission that involves transfers to moons or other bodies in the planetary system. Then, a higher eccentricity orbit might be more appropriate. Finally, if the mission is constrained by the available propellant, then this might also dictate your choice of eccentricity.\n",
    "\n",
    "Regardless of how the eccentricity is determined, we can immediately state a few facts about the transfer:\n",
    "\n",
    "1. The eccentricity must be between 0.0 and 1.0. If the eccentricity of the capture orbit is greater than or equal to 1.0, then it is not a capture orbit but a parabolic or hyperbolic escape trajectory.\n",
    "2. The highest $\\Delta v$ requirement is to enter a circular capture orbit. Intuitively, we expect that if the eccentricity does not change and the spacecraft does a hyperbolic flyby, the $\\Delta v$ is zero. Thus, larger eccentricity changes require larger $\\Delta v$. The largest possible eccentricity change is to reduce the eccentricity to zero, therefore requiring the largest $\\Delta v$, assuming that the transfer happens at periapsis of the capture orbit.\n",
    "\n",
    "Once the transfer point and eccentricity of the capture orbit are determined, we can use the methods from [](../the-orbit-equation/elliptical-orbits.md) to calculate the velocity at periapsis. One method would be to calculate the semimajor axis of the orbit:\n",
    "\n",
    ":::{math}\n",
    ":label: eq:interplanetary-arrival-capture-semimajor-axis\n",
    "a = \\frac{r_p}{1 - e}\n",
    ":::\n",
    "\n",
    "Then, we can calculate the capture orbit energy:\n",
    "\n",
    ":::{math}\n",
    ":label: eq:interplanetary-arrival-specific-energy\n",
    "E_{\\text{capture}} = -\\frac{\\mu_f}{2a}\n",
    ":::\n",
    "\n",
    "Finally, the velocity is:\n",
    "\n",
    ":::{math}\n",
    ":label: eq:interplanetary-arrival-periapsis-velocity\n",
    "v_{p,\\text{capture}} = \\sqrt{2 \\left(E_{\\text{capture}} + \\frac{\\mu_f}{r_p}\\right)}\n",
    ":::\n",
    "\n",
    "## Example\n",
    "\n",
    "Let's continue the example of the Hohmann transfer from Neptune to Venus. At arrival at Venus, we want to enter a 300-km-altitude circular orbit to conduct atmospheric observations. What is the offset distance required to achieve this orbit? What is the required $\\Delta v$?\n",
    "\n",
    "To determine the $\\Delta v$ for the spacecraft, we first need to determine the parameters of the heliocentric transfer trajectory."
   ]
  },
  {
   "cell_type": "code",
   "execution_count": 5,
   "id": "cdf9f87e",
   "metadata": {},
   "outputs": [],
   "source": [
    "import math as m\n",
    "mu = 1.32712E11  # km**3/s**2, Sun\n",
    "\n",
    "r_i = 4.53239E9  # km, Neptune\n",
    "r_f = 1.08209E8  # km, Venus\n",
    "\n",
    "v_f = m.sqrt(mu / r_f)  # km/s, Venus\n",
    "\n",
    "a_t = (r_i + r_f) / 2  # km\n",
    "E_t = - mu / (2 * a_t)  # km**2/s**2\n",
    "v_t2 = m.sqrt(2 * (E_t + mu / r_f))  # km/s\n",
    "\n",
    "Delta_vt = abs(v_f - v_t2)  # km/s"
   ]
  },
  {
   "cell_type": "code",
   "execution_count": 6,
   "id": "9f297083",
   "metadata": {
    "tags": [
     "remove-cell"
    ]
   },
   "outputs": [
    {
     "data": {
      "text/plain": [
       "35.020585710999754"
      ]
     },
     "metadata": {
      "scrapbook": {
       "mime_prefix": "application/papermill.record/",
       "name": "hohmann-arrival-v_f"
      }
     },
     "output_type": "display_data"
    },
    {
     "data": {
      "text/plain": [
       "48.94575346772374"
      ]
     },
     "metadata": {
      "scrapbook": {
       "mime_prefix": "application/papermill.record/",
       "name": "hohmann-arrival-v_t1"
      }
     },
     "output_type": "display_data"
    },
    {
     "data": {
      "text/plain": [
       "13.925167756723987"
      ]
     },
     "metadata": {
      "scrapbook": {
       "mime_prefix": "application/papermill.record/",
       "name": "hohmann-arrival-Delta_vt"
      }
     },
     "output_type": "display_data"
    }
   ],
   "source": [
    "from functools import partial\n",
    "from myst_nb import glue as mystglue\n",
    "glue = partial(mystglue, display=False)\n",
    "glue(\"hohmann-arrival-v_f\", v_f)\n",
    "glue(\"hohmann-arrival-v_t1\", v_t2)\n",
    "glue(\"hohmann-arrival-Delta_vt\", Delta_vt)"
   ]
  },
  {
   "cell_type": "markdown",
   "id": "cc3d32c9",
   "metadata": {},
   "source": [
    "Here, `v_f` is the heliocentric orbital velocity of Venus, and `v_t2` is the spacecraft velocity on the heliocentric transfer orbit at Venus's orbital radius relative to the Sun. `Delta_vt` is the change in velocity needed between Venus's orbital velocity and the transfer orbit velocity. In other words, this is the spacecraft speed relative to Venus at the end of the heliocentric transfer orbit.\n",
    "\n",
    "`Delta_vt` is equal to $v_{\\infty}$ that the spacecraft has at the SOI for the Venus-centered hyperbolic arrival trajectory. In addition, we know that the capture orbit altitude, and therefore the altitude of the hyperbolic periapsis, is 300 km. Using this we can find the periapsis radius and velocity."
   ]
  },
  {
   "cell_type": "code",
   "execution_count": 7,
   "id": "91cfe3fe",
   "metadata": {},
   "outputs": [],
   "source": [
    "v_infty = Delta_vt\n",
    "\n",
    "r_Venus = 6051.8  # km\n",
    "mu_f = 3.24859E5  # km**3/s**2\n",
    "\n",
    "r_p = r_Venus + 300  # km\n",
    "\n",
    "e = 1 + r_p * v_infty**2 / mu_f\n",
    "a = mu_f / v_infty**2  # km\n",
    "\n",
    "y = a * m.sqrt(e**2 - 1)  # km\n",
    "h = y * v_infty  # km**2/s\n",
    "v_p = h / r_p  # km/s"
   ]
  },
  {
   "cell_type": "code",
   "execution_count": 8,
   "id": "53aacd64",
   "metadata": {
    "tags": [
     "remove-cell"
    ]
   },
   "outputs": [
    {
     "data": {
      "text/plain": [
       "4.7914277419454105"
      ]
     },
     "metadata": {
      "scrapbook": {
       "mime_prefix": "application/papermill.record/",
       "name": "hohmann-arrival-e"
      }
     },
     "output_type": "display_data"
    },
    {
     "data": {
      "text/plain": [
       "1675.3055662194533"
      ]
     },
     "metadata": {
      "scrapbook": {
       "mime_prefix": "application/papermill.record/",
       "name": "hohmann-arrival-a"
      }
     },
     "output_type": "display_data"
    },
    {
     "data": {
      "text/plain": [
       "7850.33598204723"
      ]
     },
     "metadata": {
      "scrapbook": {
       "mime_prefix": "application/papermill.record/",
       "name": "hohmann-arrival-y"
      }
     },
     "output_type": "display_data"
    },
    {
     "data": {
      "text/plain": [
       "17.21043570273847"
      ]
     },
     "metadata": {
      "scrapbook": {
       "mime_prefix": "application/papermill.record/",
       "name": "hohmann-arrival-v_p"
      }
     },
     "output_type": "display_data"
    }
   ],
   "source": [
    "glue(\"hohmann-arrival-e\", e)\n",
    "glue(\"hohmann-arrival-a\", a)\n",
    "glue(\"hohmann-arrival-y\", y)\n",
    "glue(\"hohmann-arrival-v_p\", v_p)"
   ]
  },
  {
   "cell_type": "markdown",
   "id": "f7bd450b",
   "metadata": {},
   "source": [
    "The eccentricity of the arrival hyperbola is $e =$ {glue:text}`hohmann-arrival-e:.5f`, the offset distance is {glue:text}`hohmann-arrival-y:.2f` km, and the speed at periapsis is $v_p =$ {glue:text}`hohmann-arrival-v_p:.3f` km/s.\n",
    "\n",
    "Next, we need to calculate the velocity on the circular capture orbit. Since the radius of the capture orbit is the same as the hyperbolic periapsis radius, calculating the speed can be done by Eq. {eq}`eq:circular-orbit-velocity`. Then, we can calculate $\\Delta v$."
   ]
  },
  {
   "cell_type": "code",
   "execution_count": 9,
   "id": "1d1e5243",
   "metadata": {},
   "outputs": [],
   "source": [
    "v_p_capture = m.sqrt(mu_f / r_p)\n",
    "\n",
    "Delta_v = abs(v_p - v_p_capture)"
   ]
  },
  {
   "cell_type": "code",
   "execution_count": 10,
   "id": "f7dc012b",
   "metadata": {
    "tags": [
     "remove-cell"
    ]
   },
   "outputs": [
    {
     "data": {
      "text/plain": [
       "7.151531305433463"
      ]
     },
     "metadata": {
      "scrapbook": {
       "mime_prefix": "application/papermill.record/",
       "name": "hohmann-arrival-v_p_capture"
      }
     },
     "output_type": "display_data"
    },
    {
     "data": {
      "text/plain": [
       "10.058904397305007"
      ]
     },
     "metadata": {
      "scrapbook": {
       "mime_prefix": "application/papermill.record/",
       "name": "hohmann-arrival-Delta_v"
      }
     },
     "output_type": "display_data"
    }
   ],
   "source": [
    "glue(\"hohmann-arrival-v_p_capture\", v_p_capture)\n",
    "glue(\"hohmann-arrival-Delta_v\", Delta_v)"
   ]
  },
  {
   "cell_type": "markdown",
   "id": "6497f78a",
   "metadata": {},
   "source": [
    "The velocity on the capture orbit is {glue:text}`hohmann-arrival-v_p_capture:.2f` km/s and the $\\Delta v$ is {glue:text}`hohmann-arrival-Delta_v:.2f` km/s.\n",
    "\n",
    "To extend the problem, we can plot the $\\Delta v$ for several $r_p$ values, as a function of capture orbit eccentricity."
   ]
  },
  {
   "cell_type": "code",
   "execution_count": 11,
   "id": "c3fcfec0",
   "metadata": {},
   "outputs": [],
   "source": [
    "from bokeh.plotting import figure\n",
    "import numpy as np\n",
    "\n",
    "r_p_array = np.linspace(r_Venus, r_Venus + 5000, 3)\n",
    "e_array = np.linspace(0, 0.99, 100)\n",
    "r_p_array, capture_e_array = np.meshgrid(r_p_array, e_array)\n",
    "\n",
    "hyp_e_array = 1 + r_p_array * v_infty**2 / mu_f\n",
    "hyp_a = mu_f / v_infty**2  # km\n",
    "\n",
    "hyp_y = hyp_a * np.sqrt(hyp_e_array**2 - 1)  # km\n",
    "hyp_h = hyp_y * v_infty  # km**2/s\n",
    "v_p = hyp_h / r_p_array  # km/s\n",
    "\n",
    "a_array = r_p_array / (1 - capture_e_array)\n",
    "E_array = -mu_f / (2 * a_array)\n",
    "v_p_capture = np.sqrt(2 * (E_array + mu_f / r_p_array))\n",
    "\n",
    "Delta_v_array = np.abs(v_p - v_p_capture).T\n",
    "\n",
    "p = figure(\n",
    "      plot_width=600,\n",
    "      plot_height=350,\n",
    "      x_axis_label=\"Eccentricity [-]\",\n",
    "      y_axis_label=\"𝛥v [km/s]\"\n",
    "  )\n",
    "colors = [\"#66c2a5\", \"#fc8d62\", \"#8da0cb\", \"#e78ac3\", \"#a6d854\", \"#ffd92f\"]\n",
    "for i, row in enumerate(Delta_v_array):\n",
    "    p.line(\n",
    "        capture_e_array[:, 0],\n",
    "        row,\n",
    "        legend_label=f\"r_p = {r_p_array[0, i]:.0f} km\",\n",
    "        color=colors[i],\n",
    "    )"
   ]
  },
  {
   "cell_type": "code",
   "execution_count": 12,
   "id": "cac5c0f3",
   "metadata": {
    "tags": [
     "remove-input"
    ]
   },
   "outputs": [
    {
     "data": {
      "application/jupyter-book-bokeh-json": "{\"target_id\":\"hohmann-arrival-r_p_e_plot\",\"root_id\":\"1002\",\"doc\":{\"defs\":[],\"roots\":{\"references\":[{\"attributes\":{},\"id\":\"1024\",\"type\":\"HelpTool\"},{\"attributes\":{\"axis\":{\"id\":\"1011\"},\"coordinates\":null,\"group\":null,\"ticker\":null},\"id\":\"1014\",\"type\":\"Grid\"},{\"attributes\":{},\"id\":\"1023\",\"type\":\"ResetTool\"},{\"attributes\":{},\"id\":\"1022\",\"type\":\"SaveTool\"},{\"attributes\":{\"source\":{\"id\":\"1072\"}},\"id\":\"1077\",\"type\":\"CDSView\"},{\"attributes\":{\"source\":{\"id\":\"1052\"}},\"id\":\"1057\",\"type\":\"CDSView\"},{\"attributes\":{\"bottom_units\":\"screen\",\"coordinates\":null,\"fill_alpha\":0.5,\"fill_color\":\"lightgrey\",\"group\":null,\"left_units\":\"screen\",\"level\":\"overlay\",\"line_alpha\":1.0,\"line_color\":\"black\",\"line_dash\":[4,4],\"line_width\":2,\"right_units\":\"screen\",\"syncable\":false,\"top_units\":\"screen\"},\"id\":\"1025\",\"type\":\"BoxAnnotation\"},{\"attributes\":{\"coordinates\":null,\"data_source\":{\"id\":\"1052\"},\"glyph\":{\"id\":\"1053\"},\"group\":null,\"hover_glyph\":null,\"muted_glyph\":{\"id\":\"1055\"},\"nonselection_glyph\":{\"id\":\"1054\"},\"view\":{\"id\":\"1057\"}},\"id\":\"1056\",\"type\":\"GlyphRenderer\"},{\"attributes\":{\"coordinates\":null,\"group\":null,\"items\":[{\"id\":\"1051\"},{\"id\":\"1071\"},{\"id\":\"1093\"}]},\"id\":\"1050\",\"type\":\"Legend\"},{\"attributes\":{},\"id\":\"1020\",\"type\":\"WheelZoomTool\"},{\"attributes\":{\"axis\":{\"id\":\"1015\"},\"coordinates\":null,\"dimension\":1,\"group\":null,\"ticker\":null},\"id\":\"1018\",\"type\":\"Grid\"},{\"attributes\":{\"coordinates\":null,\"data_source\":{\"id\":\"1072\"},\"glyph\":{\"id\":\"1073\"},\"group\":null,\"hover_glyph\":null,\"muted_glyph\":{\"id\":\"1075\"},\"nonselection_glyph\":{\"id\":\"1074\"},\"view\":{\"id\":\"1077\"}},\"id\":\"1076\",\"type\":\"GlyphRenderer\"},{\"attributes\":{\"data\":{\"x\":{\"__ndarray__\":\"AAAAAAAAAAB7FK5H4XqEP3sUrkfhepQ/uB6F61G4nj97FK5H4XqkP5qZmZmZmak/uB6F61G4rj/sUbgeheuxP3sUrkfherQ/CtejcD0Ktz+amZmZmZm5Pylcj8L1KLw/uB6F61G4vj+kcD0K16PAP+xRuB6F68E/MzMzMzMzwz97FK5H4XrEP8P1KFyPwsU/CtejcD0Kxz9SuB6F61HIP5qZmZmZmck/4XoUrkfhyj8pXI/C9SjMP3E9CtejcM0/uB6F61G4zj8AAAAAAADQP6RwPQrXo9A/SOF6FK5H0T/sUbgehevRP4/C9Shcj9I/MzMzMzMz0z/Xo3A9CtfTP3sUrkfhetQ/H4XrUbge1T/D9Shcj8LVP2dmZmZmZtY/CtejcD0K1z+uR+F6FK7XP1K4HoXrUdg/9ihcj8L12D+amZmZmZnZPz4K16NwPdo/4XoUrkfh2j+F61G4HoXbPylcj8L1KNw/zczMzMzM3D9xPQrXo3DdPxWuR+F6FN4/uB6F61G43j9cj8L1KFzfPwAAAAAAAOA/UrgehetR4D+kcD0K16PgP/YoXI/C9eA/SOF6FK5H4T+amZmZmZnhP+xRuB6F6+E/PgrXo3A94j+PwvUoXI/iP+F6FK5H4eI/MzMzMzMz4z+F61G4HoXjP9ejcD0K1+M/KVyPwvUo5D97FK5H4XrkP83MzMzMzOQ/H4XrUbge5T9xPQrXo3DlP8P1KFyPwuU/Fa5H4XoU5j9nZmZmZmbmP7gehetRuOY/CtejcD0K5z9cj8L1KFznP65H4XoUruc/AAAAAAAA6D9SuB6F61HoP6RwPQrXo+g/9ihcj8L16D9I4XoUrkfpP5qZmZmZmek/7FG4HoXr6T8+CtejcD3qP5DC9Shcj+o/4XoUrkfh6j8zMzMzMzPrP4XrUbgehes/16NwPQrX6z8pXI/C9SjsP3sUrkfheuw/zczMzMzM7D8fhetRuB7tP3E9CtejcO0/w/UoXI/C7T8VrkfhehTuP2dmZmZmZu4/uB6F61G47j8K16NwPQrvP1yPwvUoXO8/rkfhehSu7z8=\",\"dtype\":\"float64\",\"order\":\"little\",\"shape\":[100]},\"y\":{\"__ndarray__\":\"4g9Xz5KHJEAM5KWg1XckQNpUu1csaCRAaCDdqZZYJECMPSBOFEkkQFxOWf2kOSRA+LwNckgqJEC4eWVo/hokQIRSHZ7GCyRAjtt50qD8I0AK4jrGjO0jQCZijzuK3iNAl/kJ9pjPI0DI0JW6uMAjQM70a0/psSNAwhwJfCqjI0Ba1SMJfJQjQOwNo8DdhSNARAKVbU93I0AOfSbc0GgjQKFumtlhWiNAatRBNAJMI0BA7XO7sT0jQDC3hj9wLyNAcbPHkT0hI0B67XSEGRMjQDFCtuoDBSNAauSWmPz2IkAoHP9iA+kiQPo9rh8Y2yJAJdg0pTrNIkBUE+/Kar8iQJhE/2iosSJAwK5IWPOjIkACcWpyS5YiQCKhupGwiCJAUI9BkSJ7IkAUMrVMoW0iQKS4dKAsYCJAIEKEacRSIkBEuIiFaEUiQCTMw9IYOCJApBMQMNUqIkBkRt18nR0iQPKYLJlxECJAEzWNZVEDIkAKzhjDPPYhQNdPcJMz6SFAWqi4uDXcIUCEqZcVQ88hQIIDMY1bwiFAIlYjA3+1IUCJWIVbraghQHIW43rmmyFAJkI7RiqPIUCImvyieIIhQFxkA3fRdSFAOPaWqDRpIUByVmceolwhQF7qir8ZUCFATzZ8c5tDIUDMrRciJzchQFqTmbO8KiFAZOebEFweIUC2ZRQiBRIhQBaRUtG3BSFAc8z9B3T5IEBQgROwOe0gQN9S5bMI4SBAeV0X/uDUIEAAgp55wsggQMe8vhGtvCBAsocJsqCwIEAXR1xGnaQgQCHB3rqimCBAV58B/LCMIEDu+Xz2x4AgQKbsTpfndCBA3jS6yw9pIECU2ESBQF0gQA/WtqV5USBA9dsYJ7tFIEB8CbPzBDogQIa2C/pWLiBAZEPmKLEiIEAJ8EFvExcgQHG6WLx9CyBAEIg8/9//H0Cye31R1OgfQLa2O0/Y0R9APper2Ou6H0BucWzODqQfQFKahhFBjR9AeH5pg4J2H0Dyw+kF018fQGp3P3sySR9AAkQExqAyH0CYtTHJHRwfQEKFH2ipBR9AsO+BhkPvHkA=\",\"dtype\":\"float64\",\"order\":\"little\",\"shape\":[100]}},\"selected\":{\"id\":\"1069\"},\"selection_policy\":{\"id\":\"1068\"}},\"id\":\"1052\",\"type\":\"ColumnDataSource\"},{\"attributes\":{\"line_alpha\":0.2,\"line_color\":\"#fc8d62\",\"x\":{\"field\":\"x\"},\"y\":{\"field\":\"y\"}},\"id\":\"1055\",\"type\":\"Line\"},{\"attributes\":{\"label\":{\"value\":\"r_p = 6052 km\"},\"renderers\":[{\"id\":\"1037\"}]},\"id\":\"1051\",\"type\":\"LegendItem\"},{\"attributes\":{\"coordinates\":null,\"group\":null},\"id\":\"1039\",\"type\":\"Title\"},{\"attributes\":{\"data\":{\"x\":{\"__ndarray__\":\"AAAAAAAAAAB7FK5H4XqEP3sUrkfhepQ/uB6F61G4nj97FK5H4XqkP5qZmZmZmak/uB6F61G4rj/sUbgeheuxP3sUrkfherQ/CtejcD0Ktz+amZmZmZm5Pylcj8L1KLw/uB6F61G4vj+kcD0K16PAP+xRuB6F68E/MzMzMzMzwz97FK5H4XrEP8P1KFyPwsU/CtejcD0Kxz9SuB6F61HIP5qZmZmZmck/4XoUrkfhyj8pXI/C9SjMP3E9CtejcM0/uB6F61G4zj8AAAAAAADQP6RwPQrXo9A/SOF6FK5H0T/sUbgehevRP4/C9Shcj9I/MzMzMzMz0z/Xo3A9CtfTP3sUrkfhetQ/H4XrUbge1T/D9Shcj8LVP2dmZmZmZtY/CtejcD0K1z+uR+F6FK7XP1K4HoXrUdg/9ihcj8L12D+amZmZmZnZPz4K16NwPdo/4XoUrkfh2j+F61G4HoXbPylcj8L1KNw/zczMzMzM3D9xPQrXo3DdPxWuR+F6FN4/uB6F61G43j9cj8L1KFzfPwAAAAAAAOA/UrgehetR4D+kcD0K16PgP/YoXI/C9eA/SOF6FK5H4T+amZmZmZnhP+xRuB6F6+E/PgrXo3A94j+PwvUoXI/iP+F6FK5H4eI/MzMzMzMz4z+F61G4HoXjP9ejcD0K1+M/KVyPwvUo5D97FK5H4XrkP83MzMzMzOQ/H4XrUbge5T9xPQrXo3DlP8P1KFyPwuU/Fa5H4XoU5j9nZmZmZmbmP7gehetRuOY/CtejcD0K5z9cj8L1KFznP65H4XoUruc/AAAAAAAA6D9SuB6F61HoP6RwPQrXo+g/9ihcj8L16D9I4XoUrkfpP5qZmZmZmek/7FG4HoXr6T8+CtejcD3qP5DC9Shcj+o/4XoUrkfh6j8zMzMzMzPrP4XrUbgehes/16NwPQrX6z8pXI/C9SjsP3sUrkfheuw/zczMzMzM7D8fhetRuB7tP3E9CtejcO0/w/UoXI/C7T8VrkfhehTuP2dmZmZmZu4/uB6F61G47j8K16NwPQrvP1yPwvUoXO8/rkfhehSu7z8=\",\"dtype\":\"float64\",\"order\":\"little\",\"shape\":[100]},\"y\":{\"__ndarray__\":\"wIh8fCDzJECLv2AySOUkQFKXCGmB1yRAcAq43svJJEDdjEpTJ7wkQOBdJYiTriRAfG8qQBChJEDd26s/nZMkQILhX0w6hiRAQV9VLed4JEC4yeiqo2skQCiUuY5vXiRA8Aago0pRJEBefqO1NEQkQLUM8ZEtNyRArHrSBjUqJEDaoaXjSh0kQNgc1PhuECRACknLF6EDJEBOlvQS4fYjQOwgrr0u6iNAapJD7IndI0AORudz8tAjQPutqypoxCNADPZ85+q3I0C24RqCeqsjQEriEtMWnyNANWO6s7+SI0DcSSn+dIYjQOCmNI02eiNAtZZpPARuI0CCTwjo3WEjQHNa/2zDVSNAm/bmqLRJI0DEo/x5sT0jQHzTHr+5MSNAzr7IV80lI0BCXw4k7BkjQJqJmAQWDiNAFCmh2koCI0DNme+HivYiQCQh1e7U6iJA2oIp8infIkDxsUd1idMiQBScClzzxyJAqg7Kime8IkB6tFfm5bAiQBQr/FNupSJA/C50uQCaIkDY3e38nI4iQMANBgVDgyJA+LjFuPJ3IkBMfZ//q2wiQFgubcFuYSJAFnpt5jpWIkAIn0FXEEsiQFwz6/zuPyJAa/zJwNY0IkAW1pmMxykiQFapcErBHiJAmnG85MMTIkBIUEFGzwgiQBSuF1rj/SFAj2mqCwDzIUCOErVGJeghQPsxQvdS3SFAnp2pCYnSIUB+145qx8chQHt43wYOvSFAv6XRy1yyIUCokOKms6chQN8A1YUSnSFAPeivVnmSIUA5AL0H6IchQIhwh4defSFApX7axNxyIUAIRsCuYmghQK94gDTwXSFAyCefRYVTIUA+lNvRIUkhQNYGL8nFPiFAva/LG3E0IUA4jRu6IyohQEhZv5TdHyFACH6NnJ4VIUCaEJHCZgshQGbSCPg1ASFAiThmLgz3IEAteUxX6ewgQMKej2TN4iBAy6AzSLjYIEAmgmv0qc4gQKZ0mFuixCBA0gFJcKG6IECuODglp7AgQFjgTG2zpiBAaa+YO8acIEDyh1eD35IgQOS37jf/iCBA5D3sTCV/IEA=\",\"dtype\":\"float64\",\"order\":\"little\",\"shape\":[100]}},\"selected\":{\"id\":\"1091\"},\"selection_policy\":{\"id\":\"1090\"}},\"id\":\"1072\",\"type\":\"ColumnDataSource\"},{\"attributes\":{},\"id\":\"1007\",\"type\":\"LinearScale\"},{\"attributes\":{\"line_alpha\":0.1,\"line_color\":\"#fc8d62\",\"x\":{\"field\":\"x\"},\"y\":{\"field\":\"y\"}},\"id\":\"1054\",\"type\":\"Line\"},{\"attributes\":{\"line_alpha\":0.2,\"line_color\":\"#8da0cb\",\"x\":{\"field\":\"x\"},\"y\":{\"field\":\"y\"}},\"id\":\"1075\",\"type\":\"Line\"},{\"attributes\":{\"line_color\":\"#fc8d62\",\"x\":{\"field\":\"x\"},\"y\":{\"field\":\"y\"}},\"id\":\"1053\",\"type\":\"Line\"},{\"attributes\":{\"line_alpha\":0.2,\"line_color\":\"#66c2a5\",\"x\":{\"field\":\"x\"},\"y\":{\"field\":\"y\"}},\"id\":\"1036\",\"type\":\"Line\"},{\"attributes\":{},\"id\":\"1090\",\"type\":\"UnionRenderers\"},{\"attributes\":{},\"id\":\"1042\",\"type\":\"BasicTickFormatter\"},{\"attributes\":{\"line_alpha\":0.1,\"line_color\":\"#8da0cb\",\"x\":{\"field\":\"x\"},\"y\":{\"field\":\"y\"}},\"id\":\"1074\",\"type\":\"Line\"},{\"attributes\":{},\"id\":\"1091\",\"type\":\"Selection\"},{\"attributes\":{\"line_color\":\"#8da0cb\",\"x\":{\"field\":\"x\"},\"y\":{\"field\":\"y\"}},\"id\":\"1073\",\"type\":\"Line\"},{\"attributes\":{},\"id\":\"1012\",\"type\":\"BasicTicker\"},{\"attributes\":{\"label\":{\"value\":\"r_p = 8552 km\"},\"renderers\":[{\"id\":\"1056\"}]},\"id\":\"1071\",\"type\":\"LegendItem\"},{\"attributes\":{\"tools\":[{\"id\":\"1019\"},{\"id\":\"1020\"},{\"id\":\"1021\"},{\"id\":\"1022\"},{\"id\":\"1023\"},{\"id\":\"1024\"}]},\"id\":\"1026\",\"type\":\"Toolbar\"},{\"attributes\":{},\"id\":\"1043\",\"type\":\"AllLabels\"},{\"attributes\":{\"axis_label\":\"\\ud835\\udee5v [km/s]\",\"coordinates\":null,\"formatter\":{\"id\":\"1042\"},\"group\":null,\"major_label_policy\":{\"id\":\"1043\"},\"ticker\":{\"id\":\"1016\"}},\"id\":\"1015\",\"type\":\"LinearAxis\"},{\"attributes\":{\"label\":{\"value\":\"r_p = 11052 km\"},\"renderers\":[{\"id\":\"1076\"}]},\"id\":\"1093\",\"type\":\"LegendItem\"},{\"attributes\":{},\"id\":\"1068\",\"type\":\"UnionRenderers\"},{\"attributes\":{},\"id\":\"1045\",\"type\":\"BasicTickFormatter\"},{\"attributes\":{\"below\":[{\"id\":\"1011\"}],\"center\":[{\"id\":\"1014\"},{\"id\":\"1018\"},{\"id\":\"1050\"}],\"height\":350,\"left\":[{\"id\":\"1015\"}],\"renderers\":[{\"id\":\"1037\"},{\"id\":\"1056\"},{\"id\":\"1076\"}],\"title\":{\"id\":\"1039\"},\"toolbar\":{\"id\":\"1026\"},\"x_range\":{\"id\":\"1003\"},\"x_scale\":{\"id\":\"1007\"},\"y_range\":{\"id\":\"1005\"},\"y_scale\":{\"id\":\"1009\"}},\"id\":\"1002\",\"subtype\":\"Figure\",\"type\":\"Plot\"},{\"attributes\":{},\"id\":\"1069\",\"type\":\"Selection\"},{\"attributes\":{\"line_color\":\"#66c2a5\",\"x\":{\"field\":\"x\"},\"y\":{\"field\":\"y\"}},\"id\":\"1034\",\"type\":\"Line\"},{\"attributes\":{},\"id\":\"1046\",\"type\":\"AllLabels\"},{\"attributes\":{},\"id\":\"1003\",\"type\":\"DataRange1d\"},{\"attributes\":{},\"id\":\"1009\",\"type\":\"LinearScale\"},{\"attributes\":{},\"id\":\"1048\",\"type\":\"Selection\"},{\"attributes\":{},\"id\":\"1005\",\"type\":\"DataRange1d\"},{\"attributes\":{\"data\":{\"x\":{\"__ndarray__\":\"AAAAAAAAAAB7FK5H4XqEP3sUrkfhepQ/uB6F61G4nj97FK5H4XqkP5qZmZmZmak/uB6F61G4rj/sUbgeheuxP3sUrkfherQ/CtejcD0Ktz+amZmZmZm5Pylcj8L1KLw/uB6F61G4vj+kcD0K16PAP+xRuB6F68E/MzMzMzMzwz97FK5H4XrEP8P1KFyPwsU/CtejcD0Kxz9SuB6F61HIP5qZmZmZmck/4XoUrkfhyj8pXI/C9SjMP3E9CtejcM0/uB6F61G4zj8AAAAAAADQP6RwPQrXo9A/SOF6FK5H0T/sUbgehevRP4/C9Shcj9I/MzMzMzMz0z/Xo3A9CtfTP3sUrkfhetQ/H4XrUbge1T/D9Shcj8LVP2dmZmZmZtY/CtejcD0K1z+uR+F6FK7XP1K4HoXrUdg/9ihcj8L12D+amZmZmZnZPz4K16NwPdo/4XoUrkfh2j+F61G4HoXbPylcj8L1KNw/zczMzMzM3D9xPQrXo3DdPxWuR+F6FN4/uB6F61G43j9cj8L1KFzfPwAAAAAAAOA/UrgehetR4D+kcD0K16PgP/YoXI/C9eA/SOF6FK5H4T+amZmZmZnhP+xRuB6F6+E/PgrXo3A94j+PwvUoXI/iP+F6FK5H4eI/MzMzMzMz4z+F61G4HoXjP9ejcD0K1+M/KVyPwvUo5D97FK5H4XrkP83MzMzMzOQ/H4XrUbge5T9xPQrXo3DlP8P1KFyPwuU/Fa5H4XoU5j9nZmZmZmbmP7gehetRuOY/CtejcD0K5z9cj8L1KFznP65H4XoUruc/AAAAAAAA6D9SuB6F61HoP6RwPQrXo+g/9ihcj8L16D9I4XoUrkfpP5qZmZmZmek/7FG4HoXr6T8+CtejcD3qP5DC9Shcj+o/4XoUrkfh6j8zMzMzMzPrP4XrUbgehes/16NwPQrX6z8pXI/C9SjsP3sUrkfheuw/zczMzMzM7D8fhetRuB7tP3E9CtejcO0/w/UoXI/C7T8VrkfhehTuP2dmZmZmZu4/uB6F61G47j8K16NwPQrvP1yPwvUoXO8/rkfhehSu7z8=\",\"dtype\":\"float64\",\"order\":\"little\",\"shape\":[100]},\"y\":{\"__ndarray__\":\"VcZb7ZoPJECs3/5H5fwjQGxkzUlH6iNA4nLymcDXI0Cgz7/hUMUjQJtom8z3siNAjKLtB7WgI0BQZhBDiI4jQEzkPi9xfCNAlQSGf29qI0BEe7XoglgjQKp4USGrRiNAtO2E4ec0I0BOXRTjOCMjQNYzUeGdESNANp4NmRYAI0CI2pDIou4iQJT8iy9C3SJAlCAPj/TLIkBNB3+puboiQHoWi0KRqSJAB7kjH3uYIkC6GnEFd4ciQDM7yryEdiJAWlSsDaRlIkCJkLLB1FQiQPYMjqMWRCJAACX+fmkzIkBKA8kgzSIiQJF1tFZBEiJAegB/78UBIkCRMNm6WvEhQPklX4n/4CFAWViSLLTQIUCkkNN2eMAhQJsWXTtMsCFA7w89Ti+gIUDmDlCEIZAhQMLOO7MigCFA+xtqsTJwIUCi5gNWUWAhQDl97Hh+UCFAd+688rlAIUBxkL+cAzEhQLqr61BbISFAHEnh6cARIUCaIOVCNAIhQHSo3De18iBACUNKpUPjIEBriklo39MgQH24i16IxCBAsipUZj61IEBLAHVeAaYgQC7SSybRliBAbIO+na2HIECSKTillnggQOULph2MaSBAzbh06I1aIECXMI3nm0sgQNMkUv21PCBAp0udDNwtIEBUxrz4DR8gQEiacKVLECBAMjzo9pQBIEC4WICj0+UfQJxH/zWUyB9ATKMscGurH0AsULQdWY4fQBBxCgtdcR9A2DxnBXdUH0Bm8MLapjcfQPrb0VnsGh9ALIsAUkf+HkCOBnCTt+EeQEIu8u48xR5AkiwGNteoHkAGANU6howeQOwbLtBJcB5A+h6EySFUHkAMn+n6DTgeQIoJDjkOHB5Avpc6WSIAHkCMVk8xSuQdQOJAwJeFyB1AdmySY9SsHUASSFlsNpEdQBrrM4qrdR1ArHXKlTNaHUDmgEtozj4dQNKeadt7Ix1AoulYyTsIHUCQocwMDu0cQDbZ9IDy0RxA0i98Aem2HEACmYVq8ZscQMYxqpgLgRxAPiL3aDdmHEDSi+u4dEscQICDdmbDMBxA3hf1TyMWHEA=\",\"dtype\":\"float64\",\"order\":\"little\",\"shape\":[100]}},\"selected\":{\"id\":\"1048\"},\"selection_policy\":{\"id\":\"1047\"}},\"id\":\"1033\",\"type\":\"ColumnDataSource\"},{\"attributes\":{\"line_alpha\":0.1,\"line_color\":\"#66c2a5\",\"x\":{\"field\":\"x\"},\"y\":{\"field\":\"y\"}},\"id\":\"1035\",\"type\":\"Line\"},{\"attributes\":{},\"id\":\"1047\",\"type\":\"UnionRenderers\"},{\"attributes\":{\"coordinates\":null,\"data_source\":{\"id\":\"1033\"},\"glyph\":{\"id\":\"1034\"},\"group\":null,\"hover_glyph\":null,\"muted_glyph\":{\"id\":\"1036\"},\"nonselection_glyph\":{\"id\":\"1035\"},\"view\":{\"id\":\"1038\"}},\"id\":\"1037\",\"type\":\"GlyphRenderer\"},{\"attributes\":{\"overlay\":{\"id\":\"1025\"}},\"id\":\"1021\",\"type\":\"BoxZoomTool\"},{\"attributes\":{},\"id\":\"1016\",\"type\":\"BasicTicker\"},{\"attributes\":{\"axis_label\":\"Eccentricity [-]\",\"coordinates\":null,\"formatter\":{\"id\":\"1045\"},\"group\":null,\"major_label_policy\":{\"id\":\"1046\"},\"ticker\":{\"id\":\"1012\"}},\"id\":\"1011\",\"type\":\"LinearAxis\"},{\"attributes\":{},\"id\":\"1019\",\"type\":\"PanTool\"},{\"attributes\":{\"source\":{\"id\":\"1033\"}},\"id\":\"1038\",\"type\":\"CDSView\"}],\"root_ids\":[\"1002\"]},\"title\":\"\",\"version\":\"2.4.1\"},\"version\":\"2.4.1\"}"
     },
     "metadata": {
      "scrapbook": {
       "has_bokeh": true,
       "mime_prefix": "application/papermill.record/",
       "name": "hohmann-arrival-r_p_e_plot"
      }
     },
     "output_type": "display_data"
    }
   ],
   "source": [
    "from myst_nb_bokeh import glue_bokeh\n",
    "glue_bokeh(\"hohmann-arrival-r_p_e_plot\", p)"
   ]
  },
  {
   "cell_type": "markdown",
   "id": "db78f6e4",
   "metadata": {},
   "source": [
    ":::{glue:figure} hohmann-arrival-r_p_e_plot\n",
    ":name: fig:hohmann-arrival-r_p_e_plot\n",
    "\n",
    "The required $\\Delta v$ to enter a capture orbit of the given periapsis radius. The eccentricity is plotted on the x-axis of the chart. For this range of $r_p$ values, the $\\Delta v$ increases at fixed $e$. For a fixed $r_p$, $\\Delta v$ decreases as $e$ increases.\n",
    ":::\n",
    "\n",
    "{numref}`fig:hohmann-arrival-r_p_e_plot` shows the required $\\Delta v$ to enter a capture orbit as a function of the eccentricity. For each value of $r_p$, $\\Delta v$ decreases as $e$ increases, as we discussed earlier. In addition, for a given value of $e$, $\\Delta v$ increases as $r_p$ increases.\n",
    "\n",
    ":::{margin}\n",
    "Page 409, 4th edition.\n",
    ":::\n",
    "\n",
    "As it happens, there is a minimum of $\\Delta v$ with respect to $r_p$. Following {cite:t}`Curtis2020`, we can take derivatives of Eq. {eq}`eq:interplanetary-arrival-delta-v` to find the optimal value of $r_p$ to minimize $\\Delta v$. This turns out to be:\n",
    "\n",
    ":::{math}\n",
    ":label: eq:interplanetary-arrival-minimum-delta-v-r_p\n",
    "\n",
    "r_{p,\\text{optimal}} = \\frac{2 \\mu_f}{v_{\\infty}^2}\\frac{1 - e}{1 + e}\n",
    ":::\n",
    "\n",
    "Plugging this relationship into Eq. {eq}`eq:ellipse-periapsis-apoapsis-ratio`, we can find the optimal apoapsis radius:\n",
    "\n",
    ":::{math}\n",
    ":label: eq:interplanetary-arrival-minimum-delta-v-r_a\n",
    "\n",
    "r_{a,\\text{optimal}} = \\frac{2 \\mu_f}{v_{\\infty}^2}\n",
    ":::\n",
    "\n",
    "Thus, the optimal apoapsis radius is independent of the capture orbit eccentricity. Solving for the minimum $\\Delta v$, we find:\n",
    "\n",
    ":::{math}\n",
    ":label: eq:interplanetary-arrival-optimal-delta-v\n",
    "\n",
    "\\Delta v_{\\text{optimal}} = v_{\\infty} \\sqrt{\\frac{1 - e}{2}}\n",
    ":::\n",
    "\n",
    "Finally, we can solve for the offset distance required to achieve the minimum $\\Delta v$:\n",
    "\n",
    ":::{math}\n",
    ":label: eq:interplanetary-arrival-optimal-offset-distance\n",
    "\n",
    "y_{\\text{optimal}} = r_{p,\\text{optimal}}\\sqrt{\\frac{2}{1 - e}}\n",
    ":::\n",
    "\n",
    "Notice that Eqs. {eq}`eq:interplanetary-arrival-minimum-delta-v-r_p`, {eq}`eq:interplanetary-arrival-optimal-delta-v`, and {eq}`eq:interplanetary-arrival-optimal-offset-distance` all depend on the eccentricity of the capture orbit.\n",
    "\n",
    "---\n",
    "\n",
    "For the example here, we can calculate the optimal $r_a$:"
   ]
  },
  {
   "cell_type": "code",
   "execution_count": 13,
   "id": "56f1b1ac",
   "metadata": {},
   "outputs": [],
   "source": [
    "r_a = 2 * mu_f / v_infty**2"
   ]
  },
  {
   "cell_type": "code",
   "execution_count": 14,
   "id": "9ed57438",
   "metadata": {
    "tags": [
     "remove-cell"
    ]
   },
   "outputs": [
    {
     "data": {
      "text/plain": [
       "3350.6111324389067"
      ]
     },
     "metadata": {
      "scrapbook": {
       "mime_prefix": "application/papermill.record/",
       "name": "hohmann-arrival-r_a"
      }
     },
     "output_type": "display_data"
    }
   ],
   "source": [
    "glue(\"hohmann-arrival-r_a\", r_a)"
   ]
  },
  {
   "cell_type": "markdown",
   "id": "b2b021d7",
   "metadata": {},
   "source": [
    "The optimal apoapsis distance is {glue:text}`hohmann-arrival-r_a:.2f` km. This radius is inside the surface of Venus, so we cannot achieve the optimal $\\Delta v$ with these parameters.\n",
    "\n",
    "Notice that the optimal $r_a$ value is inversely proportional to the square of $v_{\\infty}$. Thus, a decrease in $v_{\\infty}$ will result in an increase in $r_a$. For instance, transferring from Mars instead of Neptune, we find:"
   ]
  },
  {
   "cell_type": "code",
   "execution_count": 15,
   "id": "17eda107",
   "metadata": {},
   "outputs": [],
   "source": [
    "r_i_mars = 2.27939E8  # km, Mars\n",
    "\n",
    "a_t_mars = (r_i_mars + r_f) / 2  # km\n",
    "E_t_mars = - mu / (2 * a_t_mars)  # km**2/s**2\n",
    "v_t2_mars = m.sqrt(2 * (E_t_mars + mu / r_f))  # km/s\n",
    "\n",
    "Delta_vt_mars = abs(v_f - v_t2_mars)  # km/s\n",
    "r_a_mars = 2 * mu_f / Delta_vt_mars**2"
   ]
  },
  {
   "cell_type": "code",
   "execution_count": 16,
   "id": "b30eb735",
   "metadata": {
    "tags": [
     "remove-cell"
    ]
   },
   "outputs": [
    {
     "data": {
      "text/plain": [
       "5.762722984439499"
      ]
     },
     "metadata": {
      "scrapbook": {
       "mime_prefix": "application/papermill.record/",
       "name": "hohmann-arrival-mars-delta_vt"
      }
     },
     "output_type": "display_data"
    },
    {
     "data": {
      "text/plain": [
       "19564.529667441104"
      ]
     },
     "metadata": {
      "scrapbook": {
       "mime_prefix": "application/papermill.record/",
       "name": "hohmann-arrival-mars-r_a"
      }
     },
     "output_type": "display_data"
    }
   ],
   "source": [
    "glue(\"hohmann-arrival-mars-delta_vt\", Delta_vt_mars)\n",
    "glue(\"hohmann-arrival-mars-r_a\", r_a_mars)"
   ]
  },
  {
   "cell_type": "markdown",
   "id": "f7efc868",
   "metadata": {},
   "source": [
    "The $v_{\\infty}$ when transferring from Mars is {glue:text}`hohmann-arrival-mars-delta_vt:.2f` km/s, giving an optimal apoapsis radius of {glue:text}`hohmann-arrival-mars-r_a:.2f` km. This is well outside Venus's radius, so would be achievable by the spacecraft."
   ]
  }
 ],
 "metadata": {
  "jupytext": {
   "text_representation": {
    "extension": ".md",
    "format_name": "myst",
    "format_version": 0.13,
    "jupytext_version": "1.11.5"
   }
  },
  "kernelspec": {
   "display_name": "Python 3 (ipykernel)",
   "language": "python",
   "name": "python3"
  },
  "language_info": {
   "codemirror_mode": {
    "name": "ipython",
    "version": 3
   },
   "file_extension": ".py",
   "mimetype": "text/x-python",
   "name": "python",
   "nbconvert_exporter": "python",
   "pygments_lexer": "ipython3",
   "version": "3.9.9"
  },
  "source_map": [
   12,
   105,
   121,
   129,
   135,
   151,
   159,
   250,
   266,
   274,
   280,
   296,
   302,
   308,
   314,
   318,
   324,
   361,
   365,
   417,
   421,
   424,
   430,
   441,
   445
  ]
 },
 "nbformat": 4,
 "nbformat_minor": 5
}