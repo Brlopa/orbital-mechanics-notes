{
 "cells": [
  {
   "cell_type": "code",
   "execution_count": 1,
   "metadata": {
    "tags": [
     "remove-input"
    ]
   },
   "outputs": [
    {
     "data": {
      "application/papermill.record/text/html": "6.6742×10<sup>-11</sup> m<sup>3</sup>/(kg s<sup>2</sup>)",
      "application/papermill.record/text/latex": "$6.6742\\times 10^{-11}\\ \\frac{\\mathrm{m}^{3}}{\\left(\\mathrm{kg} \\cdot \\mathrm{s}^{2}\\right)}$",
      "application/papermill.record/text/plain": "6.6742e-11 <Unit('meter ** 3 / kilogram / second ** 2')>"
     },
     "metadata": {
      "scrapbook": {
       "mime_prefix": "application/papermill.record/",
       "name": "G"
      }
     },
     "output_type": "display_data"
    },
    {
     "data": {
      "application/papermill.record/text/plain": "6.6742e-11"
     },
     "metadata": {
      "scrapbook": {
       "mime_prefix": "application/papermill.record/",
       "name": "G_mag"
      }
     },
     "output_type": "display_data"
    },
    {
     "data": {
      "application/papermill.record/text/html": "m<sup>3</sup>/(kg s<sup>2</sup>)",
      "application/papermill.record/text/latex": "$\\frac{\\mathrm{m}^{3}}{\\left(\\mathrm{kg} \\cdot \\mathrm{s}^{2}\\right)}$",
      "application/papermill.record/text/plain": "<Unit('meter ** 3 / kilogram / second ** 2')>"
     },
     "metadata": {
      "scrapbook": {
       "mime_prefix": "application/papermill.record/",
       "name": "G_units"
      }
     },
     "output_type": "display_data"
    },
    {
     "data": {
      "application/papermill.record/text/html": "5.974×10<sup>24</sup> kg",
      "application/papermill.record/text/latex": "$5.974\\times 10^{24}\\ \\mathrm{kg}$",
      "application/papermill.record/text/plain": "5.974e+24 <Unit('kilogram')>"
     },
     "metadata": {
      "scrapbook": {
       "mime_prefix": "application/papermill.record/",
       "name": "M"
      }
     },
     "output_type": "display_data"
    },
    {
     "data": {
      "application/papermill.record/text/plain": "5.974e+24"
     },
     "metadata": {
      "scrapbook": {
       "mime_prefix": "application/papermill.record/",
       "name": "M_mag"
      }
     },
     "output_type": "display_data"
    },
    {
     "data": {
      "application/papermill.record/text/html": "kg",
      "application/papermill.record/text/latex": "$\\mathrm{kg}$",
      "application/papermill.record/text/plain": "<Unit('kilogram')>"
     },
     "metadata": {
      "scrapbook": {
       "mime_prefix": "application/papermill.record/",
       "name": "M_units"
      }
     },
     "output_type": "display_data"
    },
    {
     "data": {
      "application/papermill.record/text/html": "6378 km",
      "application/papermill.record/text/latex": "$6378\\ \\mathrm{km}$",
      "application/papermill.record/text/plain": "6378 <Unit('kilometer')>"
     },
     "metadata": {
      "scrapbook": {
       "mime_prefix": "application/papermill.record/",
       "name": "R_E"
      }
     },
     "output_type": "display_data"
    },
    {
     "data": {
      "application/papermill.record/text/plain": "6378"
     },
     "metadata": {
      "scrapbook": {
       "mime_prefix": "application/papermill.record/",
       "name": "R_E_mag"
      }
     },
     "output_type": "display_data"
    },
    {
     "data": {
      "application/papermill.record/text/html": "km",
      "application/papermill.record/text/latex": "$\\mathrm{km}$",
      "application/papermill.record/text/plain": "<Unit('kilometer')>"
     },
     "metadata": {
      "scrapbook": {
       "mime_prefix": "application/papermill.record/",
       "name": "R_E_units"
      }
     },
     "output_type": "display_data"
    },
    {
     "data": {
      "application/papermill.record/text/html": "9.802 m/s<sup>2</sup>",
      "application/papermill.record/text/latex": "$9.802\\ \\frac{\\mathrm{m}}{\\mathrm{s}^{2}}$",
      "application/papermill.record/text/plain": "9.802 <Unit('meter / second ** 2')>"
     },
     "metadata": {
      "scrapbook": {
       "mime_prefix": "application/papermill.record/",
       "name": "g_0"
      }
     },
     "output_type": "display_data"
    },
    {
     "data": {
      "application/papermill.record/text/plain": "9.802"
     },
     "metadata": {
      "scrapbook": {
       "mime_prefix": "application/papermill.record/",
       "name": "g_0_mag"
      }
     },
     "output_type": "display_data"
    },
    {
     "data": {
      "application/papermill.record/text/html": "m/s<sup>2</sup>",
      "application/papermill.record/text/latex": "$\\frac{\\mathrm{m}}{\\mathrm{s}^{2}}$",
      "application/papermill.record/text/plain": "<Unit('meter / second ** 2')>"
     },
     "metadata": {
      "scrapbook": {
       "mime_prefix": "application/papermill.record/",
       "name": "g_0_units"
      }
     },
     "output_type": "display_data"
    }
   ],
   "source": [
    "from myst_nb import glue\n",
    "from pint import UnitRegistry\n",
    "import matplotlib.pyplot as plt\n",
    "import numpy as np\n",
    "\n",
    "ureg = UnitRegistry()\n",
    "ureg.setup_matplotlib()\n",
    "ureg.default_format = \"~H\"\n",
    "Q_ = ureg.Quantity\n",
    "# plt.ion()\n",
    "\n",
    "def gu(name, quantity):\n",
    "    glue(name, quantity, display=False)\n",
    "    glue(name + \"_mag\", quantity.magnitude, display=False)\n",
    "    glue(name + \"_units\", quantity.units, display=False)\n",
    "\n",
    "G = Q_(6.6742E-11, \"m**3 / (kg * s**2)\")\n",
    "M = Q_(5.974E24, \"kg\")\n",
    "R_E = Q_(6378, \"km\")\n",
    "g_0 = (G * M / R_E**2).to(\"m / s**2\")\n",
    "gu(\"G\", G)\n",
    "gu(\"M\", M)\n",
    "gu(\"R_E\", R_E)\n",
    "gu(\"g_0\", round(g_0, 3))"
   ]
  },
  {
   "cell_type": "markdown",
   "metadata": {},
   "source": [
    "# Chapter 1.4 - Mass, Force, and Newton's Law of Gravitation\n",
    "\n",
    "Forces can be transmitted by direct contact or by a potential field. Potential fields include gravity, magnetism, and electricity. As you learned in Physics, the force due to a potential field is inversely proportional to the square of the distance between two sources in the field.\n",
    "\n",
    "In a gravitational field, the sources are **masses**. Therefore, the force between two masses is:\n",
    "\n",
    "$$F = G \\frac{m_1 m_2}{r^2}$$\n",
    "\n",
    "where $m_1$ and $m_2$ are the two masses, $r$ is the distance between them, and $G$ is Newton's gravitational constant. This is Newton's law of gravitation. In SI units, $G$ has the value {glue:}`G`.\n",
    "\n",
    "Due to the extremely small size of $G$, masses either have to be very large or very close together to generate a significant gravitational force.\n",
    "\n",
    "When one of the masses is much larger than the other, we usually group the larger mass $M$ with the $G$ and $r^2$ terms:\n",
    "\n",
    "$$F = m \\left(\\frac{GM}{r^2}\\right)$$\n",
    "\n",
    "The second term on the right side is typically called the **acceleration due to gravity**:\n",
    "\n",
    "$$g = \\frac{GM}{r^2}$$\n",
    "\n",
    "Therefore, the **weight** of a smaller mass in the gravitational field of a much larger mass is:\n",
    "\n",
    "$$W = mg$$\n",
    "\n",
    "For the surface of the Earth, we can plug in $R_E =$ {glue:}`R_E` and $M =$ {glue:}`M` to find $g =$ {glue:}`g_0`.\n",
    "\n",
    "We can also determine the variation of $g$ with altitude for the Earth. Referenced to the gravity at the surface of the Earth, we find:\n",
    "\n",
    "$$\\frac{g}{g_0} = \\frac{1}{\\left(1 + z/R_E\\right)^2}$$\n",
    "\n",
    "where $z$ is the height above the surface of the Earth. This variation is plotted in {numref}`g/g_0`."
   ]
  },
  {
   "cell_type": "code",
   "execution_count": 8,
   "metadata": {
    "tags": [
     "remove-cell"
    ]
   },
   "outputs": [
    {
     "data": {
      "application/papermill.record/image/png": "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\n",
      "application/papermill.record/text/plain": "<Figure size 432x288 with 1 Axes>"
     },
     "metadata": {
      "scrapbook": {
       "mime_prefix": "application/papermill.record/",
       "name": "g/g_0"
      }
     },
     "output_type": "display_data"
    },
    {
     "data": {
      "image/png": "[encoded data removed]",
      "text/plain": [
       "<Figure size 432x288 with 1 Axes>"
      ]
     },
     "metadata": {
      "needs_background": "light"
     },
     "output_type": "display_data"
    }
   ],
   "source": [
    "z = np.arange(0, 2000, 1) * ureg.km\n",
    "g = 1/(1 + z/R_E)**2\n",
    "fig, ax = plt.subplots()\n",
    "ax.plot(z, g)\n",
    "ax.set_xlabel(f\"Height above Earth: {z.units}\")\n",
    "ax.set_ylabel(\"$g/g_0$\")\n",
    "ax.axvline(10, color=\"C1\", label=\"Airplane\")\n",
    "ax.axvline(400, color=\"C2\", label=\"International Space Station\")\n",
    "ax.legend()\n",
    "glue(\"g/g_0\", fig, display=False)"
   ]
  },
  {
   "cell_type": "markdown",
   "metadata": {},
   "source": [
    "```{glue:figure} g/g_0\n",
    ":name: \"g/g_0\"\n",
    "\n",
    "Variation of $g/g_0$ with altitude.\n",
    "```\n",
    "\n",
    "On {numref}`g/g_0`, you can see that gravity varies significantly with altitude. However, for most \"normal\" altitudes, there isn't much variation. At 10 km, a typical cruise altitude, the value of $g$ is almost the same as $g_0$. Even at the height of the ISS (400 km), $g$ is still 90% of the value of $g_0$.\n",
    "\n",
    "Using the value of $g$ at the ISS, we find that an astronaut still has a weight, $mg\\neq 0$. That is, the force of gravity is still acting on them. However, there is no support under their feet, so they do not feel their weight and we say they are experiencing **weightlessness** although they are not **weightless**."
   ]
  }
 ],
 "metadata": {
  "celltoolbar": "Tags",
  "kernelspec": {
   "display_name": "Python 3",
   "language": "python",
   "name": "python3"
  },
  "language_info": {
   "codemirror_mode": {
    "name": "ipython",
    "version": 3
   },
   "file_extension": ".py",
   "mimetype": "text/x-python",
   "name": "python",
   "nbconvert_exporter": "python",
   "pygments_lexer": "ipython3",
   "version": "3.8.5"
  }
 },
 "nbformat": 4,
 "nbformat_minor": 2
}
