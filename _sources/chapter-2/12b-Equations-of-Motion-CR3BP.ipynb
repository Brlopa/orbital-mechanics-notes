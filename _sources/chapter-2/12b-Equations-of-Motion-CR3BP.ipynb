{
 "cells": [
  {
   "cell_type": "markdown",
   "metadata": {},
   "source": [
    "# Example: CR3BP Equations of Motion & Jacobi Constant\n",
    "\n",
    "## Solve the Equations of Motion for the CR3BP\n",
    "\n",
    "Recall that we developed three nondimensional scalar equations of motion for the CR3BP:\n",
    "\n",
    "$$\\begin{aligned}\\ddot{x}^* - 2\\dot{y}^* - x^* &= -\\frac{1 - \\pi_2}{\\sigma^3}\\left(x^* + \\pi_2\\right) - \\frac{\\pi_2}{\\psi^3}\\left(x^* - 1 + \\pi_2\\right) \\\\ \\ddot{y}^* + 2\\dot{x}^* - y^* &= -\\frac{1 - \\pi_2}{\\sigma^3} y^* - \\frac{\\pi_2}{\\psi^3}y^* \\\\ \\ddot{z}^* &= -\\frac{1 - \\pi_2}{\\sigma^3}z^* - \\frac{\\pi_2}{\\psi^3}z^*\\end{aligned}$$\n",
    "\n",
    "To put this into a form that we can solve, we need to solve for the acceleration components:\n",
    "\n",
    "$$\\begin{aligned}\\ddot{x}^* &= 2\\dot{y}^* + x^*  -\\frac{1 - \\pi_2}{\\sigma^3}\\left(x^* + \\pi_2\\right) - \\frac{\\pi_2}{\\psi^3}\\left(x^* - 1 + \\pi_2\\right) \\\\ \\ddot{y}^* &= - 2\\dot{x}^* + y^* -\\frac{1 - \\pi_2}{\\sigma^3} y^* - \\frac{\\pi_2}{\\psi^3}y^* \\\\ \\ddot{z}^* &= -\\frac{1 - \\pi_2}{\\sigma^3}z^* - \\frac{\\pi_2}{\\psi^3}z^*\\end{aligned}$$\n",
    "\n",
    "Now, the state vector is the initial position and velocity of the tertiary mass in the system. We need to provide $\\pi_2$, the mass ratio, as the parameter of the system. Remember that:\n",
    "\n",
    "$$\\pi_2 = \\frac{m_2}{m_1 + m_2}$$\n",
    "\n",
    "and\n",
    "\n",
    "$$\\sigma = \\sqrt{\\left(x^* + \\pi_2\\right)^2 + y^2 + z^2}$$\n",
    "\n",
    "and\n",
    "\n",
    "$$\\psi = \\sqrt{\\left(x^* - 1 + \\pi_2\\right)^2 + y^2 + z^2}$$\n",
    "\n",
    "Let's solve this system of equations numerically to find the position of $m$ as a function of (nondimensional) time in the rotating frame of reference."
   ]
  },
  {
   "cell_type": "code",
   "execution_count": 1,
   "metadata": {},
   "outputs": [],
   "source": [
    "# %matplotlib notebook\n",
    "from scipy.integrate import solve_ivp\n",
    "import numpy as np\n",
    "import matplotlib.pyplot as plt\n",
    "import matplotlib.path as mpath"
   ]
  },
  {
   "cell_type": "code",
   "execution_count": 2,
   "metadata": {},
   "outputs": [],
   "source": [
    "# This code defines a nice shape for the center of mass of the system.\n",
    "circle = mpath.Path.unit_circle()\n",
    "wedge_1 = mpath.Path.wedge(90, 180)\n",
    "wedge_2 = mpath.Path.wedge(270, 0)\n",
    "\n",
    "verts = np.concatenate([circle.vertices, wedge_1.vertices[::-1, ...], wedge_2.vertices[::-1, ...]])\n",
    "codes = np.concatenate([circle.codes, wedge_1.codes, wedge_2.codes])\n",
    "center_of_mass = mpath.Path(verts, codes)"
   ]
  },
  {
   "cell_type": "code",
   "execution_count": 3,
   "metadata": {},
   "outputs": [],
   "source": [
    "# These masses represent the Earth-Moon system\n",
    "m_1 = 5.974E24  # kg\n",
    "m_2 = 7.348E22 # kg\n",
    "pi_2 = m_2/(m_1 + m_2)\n",
    "\n",
    "# Define the initial position and velocity components\n",
    "x_0 = 1 - pi_2\n",
    "y_0 = .0455\n",
    "z_0 = 0\n",
    "vx_0 = -0.5\n",
    "vy_0 = 0.5\n",
    "vz_0 = 0\n",
    "# Then stack everything together into the state vector\n",
    "r_0 = np.array((x_0, y_0, z_0))\n",
    "v_0 = np.array((vx_0, vy_0, vz_0))\n",
    "Y_0 = np.hstack((r_0, v_0))"
   ]
  },
  {
   "cell_type": "code",
   "execution_count": 4,
   "metadata": {},
   "outputs": [],
   "source": [
    "def nondim_cr3bp(t, Y):\n",
    "    \"\"\"Solve the CR3BP in nondimensional coordinates.\n",
    "    \n",
    "    The state vector is Y, with the first three components as the\n",
    "    position of $m$, and the second three components its velocity.\n",
    "    \n",
    "    The solution is parameterized on $\\\\pi_2$, the mass ratio.\n",
    "    \"\"\"\n",
    "    # Get the position and velocity from the solution vector\n",
    "    x, y, z = Y[:3]\n",
    "    xdot, ydot, zdot = Y[3:]\n",
    "    \n",
    "    # Define the derivative vector\n",
    "    Ydot = np.zeros(len(Y))\n",
    "    Ydot[:3] = Y[3:]\n",
    "\n",
    "    sigma = np.sqrt(((x + pi_2)**2) + (y**2) + (z**2))\n",
    "    psi = np.sqrt(((x - 1 + pi_2)**2) + (y**2) + (z**2))\n",
    "    Ydot[3] = 2 * ydot + x - (1 - pi_2)*(x + pi_2)/sigma**3 - pi_2*(x - 1 + pi_2)/psi**3\n",
    "    Ydot[4] = -2 * xdot + y - (1 - pi_2)*y/sigma**3 - pi_2*y/psi**3\n",
    "    Ydot[5] = -(1 - pi_2)/sigma**3 * z - pi_2/psi**3 * z\n",
    "    return Ydot"
   ]
  },
  {
   "cell_type": "code",
   "execution_count": 5,
   "metadata": {},
   "outputs": [],
   "source": [
    "t_0 = 0  # nondimensional time\n",
    "t_f = 20  # nondimensional time\n",
    "t_points = np.linspace(t_0, t_f, 1000)\n",
    "sol = solve_ivp(nondim_cr3bp, [t_0, t_f], Y_0, t_eval=t_points)\n",
    "\n",
    "Y = sol.y.T\n",
    "r = Y[:, :3]  # nondimensional distance\n",
    "v = Y[:, 3:]  # nondimensional velocity"
   ]
  },
  {
   "cell_type": "code",
   "execution_count": 6,
   "metadata": {},
   "outputs": [
    {
     "data": {
      "image/png": "[encoded data removed]",
      "text/plain": [
       "<Figure size 432x288 with 1 Axes>"
      ]
     },
     "metadata": {
      "needs_background": "light"
     },
     "output_type": "display_data"
    }
   ],
   "source": [
    "x_2 = (1 - pi_2) * np.cos(np.linspace(0, np.pi, 100))\n",
    "y_2 = (1 - pi_2) * np.sin(np.linspace(0, np.pi, 100))\n",
    "x_1 = (-pi_2) * np.cos(np.linspace(0, np.pi, 100))\n",
    "y_1 = (-pi_2) * np.sin(np.linspace(0, np.pi, 100))\n",
    "fig, ax = plt.subplots()\n",
    "\n",
    "# Plot the orbits\n",
    "ax.plot(r[:, 0], r[:, 1], 'r', label=\"Orbit\")\n",
    "ax.axhline(0, color='k')\n",
    "ax.plot(np.hstack((x_2, x_2[::-1])), np.hstack((y_2, -y_2[::-1])))\n",
    "ax.plot(np.hstack((x_1, x_1[::-1])), np.hstack((y_1, -y_1[::-1])))\n",
    "ax.plot(0, 0, 'k', marker=center_of_mass, markersize=10)\n",
    "ax.plot(-pi_2, 0, 'bo', label=\"$m_1$\")\n",
    "ax.plot(1 - pi_2, 0, 'go', label=\"$m_2$\")\n",
    "ax.plot(x_0, y_0, 'ro')\n",
    "ax.set_aspect(\"equal\")"
   ]
  },
  {
   "cell_type": "markdown",
   "metadata": {},
   "source": [
    "In the co-rotating reference frame, we can get some very interesting behavior of $m$. The behavior of $m$ depends very strongly on the initial conditions that we set.\n",
    "\n",
    "**See what interesting patterns you can get, and post your efforts on Piazza!**"
   ]
  }
 ],
 "metadata": {
  "kernelspec": {
   "display_name": "Python 3",
   "language": "python",
   "name": "python3"
  },
  "language_info": {
   "codemirror_mode": {
    "name": "ipython",
    "version": 3
   },
   "file_extension": ".py",
   "mimetype": "text/x-python",
   "name": "python",
   "nbconvert_exporter": "python",
   "pygments_lexer": "ipython3",
   "version": "3.8.5"
  }
 },
 "nbformat": 4,
 "nbformat_minor": 4
}
