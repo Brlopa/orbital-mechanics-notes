{
 "cells": [
  {
   "cell_type": "markdown",
   "metadata": {},
   "source": [
    "# Example: Lagrange Points\n",
    "\n",
    "In this example, we will plot the Lagrange points for the system as a function of $\\pi_2$.\n",
    "\n",
    "## Plotting the Lagrange Points\n",
    "\n",
    "In the nondimensional coordinates, we know that $L_4$ and $L_5$ have analytical solutions:\n",
    "\n",
    "$$\\begin{aligned}&L_4: & x^* &= \\frac{1}{2} - \\pi_2 & y^* &= \\frac{\\sqrt{3}}{2}\\\\&L_5: & x^* &= \\frac{1}{2} - \\pi_2 & y^* &= -\\frac{\\sqrt{3}}{2}\\end{aligned}$$\n",
    "\n",
    "However, the collinear Lagrange points do not have an analytical solution, and must be approximated numerically. To do so, we will use [`scipy.optimize.newton()`](https://docs.scipy.org/doc/scipy/reference/generated/scipy.optimize.newton.html) in Python and [`fzero`](https://www.mathworks.com/help/matlab/ref/fzero.html) in Matlab.\n",
    "\n",
    "The formula for the nondimensional position of the collinear Lagrange points is:\n",
    "\n",
    "$$0 = x^* - \\frac{1 - \\pi_2}{\\left\\lvert x^* + \\pi_2\\right\\rvert ^3}\\left(x^* + \\pi_2\\right) - \\frac{\\pi_2}{\\left\\lvert x^* - 1 + \\pi_2\\right\\rvert ^3}\\left(x^* - 1 + \\pi_2\\right)$$\n",
    "\n",
    "Here, we have $f(x^*, \\pi_2)$, which for a given value of $\\pi_2$ has three roots for $x^*$. Remember from the S-curve graph that $L_2$ has positive values, between $x^* =$ 1 and about 1.25, $L_1$ is in the middle, with $x^*$ ranging from 1 to -1, and for $L_3$, the values of $x^*$ are below $-1$.\n",
    "\n",
    "Both `scipy.optimize.newton` and `fzero` depend on having a good guess of the initial point to get to the right Lagrange point. My suggestion is to use the following initial guess range for both functions, depending on which Lagrange point you're looking for:\n",
    "\n",
    "* $L_2$:\n",
    "  * Python (`scipy.optimize.newton`): `x0=1`\n",
    "  * MATLAB (`fzero`): `[1, 1.5]`\n",
    "* $L_1$:\n",
    "  * Python (`scipy.optimize.newton`): `x0=0`\n",
    "  * MATLAB (`fzero`): Either `[0, -0.5]` or `[0, 0.5]` depending on the value of $\\pi_2$\n",
    "* $L_3$:\n",
    "  * Python (`scipy.optimize.newton`): `x0=-1`\n",
    "  * MATLAB (`fzero`): `[-1, -1.5]`\n",
    "  \n",
    "For some reason, the `fzero()` in MATLAB seems much more sensitive to the initial guess value, and if you only provide a single value for the initial guess, it chooses a positive value as the second part of the interval. Thus, if the root is below your initial guess the MATLAB solver will not be able to find it."
   ]
  },
  {
   "cell_type": "code",
   "execution_count": null,
   "metadata": {},
   "outputs": [],
   "source": [
    "# %matplotlib notebook\n",
    "from scipy.optimize import newton\n",
    "import numpy as np\n",
    "import matplotlib.pyplot as plt\n",
    "import matplotlib.path as mpath"
   ]
  },
  {
   "cell_type": "code",
   "execution_count": null,
   "metadata": {},
   "outputs": [],
   "source": [
    "# This code defines a nice shape for the center of mass of the system.\n",
    "circle = mpath.Path.unit_circle()\n",
    "wedge_1 = mpath.Path.wedge(90, 180)\n",
    "wedge_2 = mpath.Path.wedge(270, 0)\n",
    "\n",
    "verts = np.concatenate([circle.vertices, wedge_1.vertices[::-1, ...], wedge_2.vertices[::-1, ...]])\n",
    "codes = np.concatenate([circle.codes, wedge_1.codes, wedge_2.codes])\n",
    "center_of_mass = mpath.Path(verts, codes)"
   ]
  },
  {
   "cell_type": "code",
   "execution_count": null,
   "metadata": {},
   "outputs": [],
   "source": [
    "# These masses represent the Earth-Moon system\n",
    "m_1 = 5.974E24  # kg\n",
    "m_2 = 7.348E22 # kg\n",
    "pi_2 = m_2/(m_1 + m_2)\n",
    "# These give us the coordinates of the orbits of m_2 and m_1\n",
    "x_2 = (1 - pi_2) * np.cos(np.linspace(0, np.pi, 100))\n",
    "y_2 = (1 - pi_2) * np.sin(np.linspace(0, np.pi, 100))\n",
    "x_1 = (-pi_2) * np.cos(np.linspace(0, np.pi, 100))\n",
    "y_1 = (-pi_2) * np.sin(np.linspace(0, np.pi, 100))"
   ]
  },
  {
   "cell_type": "markdown",
   "metadata": {},
   "source": [
    "First, we will demonstrate the Python solver. Like for the `solve_ivp` function, we need to define a function that returns a value given the single input `xstar`. Python is flexible enough to allow us to define `pi_2` as another parameter."
   ]
  },
  {
   "cell_type": "code",
   "execution_count": null,
   "metadata": {},
   "outputs": [],
   "source": [
    "def collinear_lagrange(xstar, pi_2):\n",
    "    \"\"\"Calculate the resultant of the collinear Lagrange point equation.\n",
    "    \n",
    "    This is a function f(xstar, pi_2), where xstar is the nondimensional x coordinate\n",
    "    and pi_2 is the nondimensional mass ratio. The function should be passed to\n",
    "    scipy.optimize.newton (or another Newton solver) to find a value for xstar\n",
    "    that satsifies the equation, for a given value of pi_2.\n",
    "    \"\"\"\n",
    "    first_term = xstar\n",
    "    second_term = (1 - pi_2)/np.abs(xstar + pi_2)**3 * (xstar + pi_2)\n",
    "    third_term = pi_2 / np.abs(xstar - 1 + pi_2)**3 * (xstar - 1 + pi_2)\n",
    "    return first_term - second_term - third_term"
   ]
  },
  {
   "cell_type": "markdown",
   "metadata": {},
   "source": [
    "Then we need to pass this to the Newton solver. The function signature is:\n",
    "\n",
    "```python\n",
    "newton(func, x0, args)\n",
    "```\n",
    "\n",
    "where `func` is the function to be solved, `x0` is the initial guess, and `args` is a tuple of additional arguments to pass to `func`."
   ]
  },
  {
   "cell_type": "code",
   "execution_count": null,
   "metadata": {},
   "outputs": [],
   "source": [
    "L_2 = newton(func=collinear_lagrange, x0=1, args=(pi_2,))\n",
    "L_1 = newton(func=collinear_lagrange, x0=0, args=(pi_2,))\n",
    "L_3 = newton(func=collinear_lagrange, x0=-1, args=(pi_2,))\n",
    "print(\"L_1 =\", L_1, \"L_2 =\", L_2, \"L_3 =\", L_3)"
   ]
  },
  {
   "cell_type": "markdown",
   "metadata": {},
   "source": [
    "Remember, these are in nondimensional coordinates. We can then plot the Lagrange points relative to $m_1$ and $m_2$ in the rotating frame of reference."
   ]
  },
  {
   "cell_type": "code",
   "execution_count": null,
   "metadata": {},
   "outputs": [],
   "source": [
    "fig, ax = plt.subplots()\n",
    "ax.set_xlabel(\"$x^*$\")\n",
    "ax.set_ylabel(\"$y^*$\")\n",
    "\n",
    "# Plot the orbits\n",
    "ax.axhline(0, color='k')\n",
    "ax.plot(np.hstack((x_2, x_2[::-1])), np.hstack((y_2, -y_2[::-1])))\n",
    "ax.plot(np.hstack((x_1, x_1[::-1])), np.hstack((y_1, -y_1[::-1])))\n",
    "ax.plot([-pi_2, 0.5 - pi_2, 1 - pi_2, 0.5 - pi_2, -pi_2], [0, np.sqrt(3)/2, 0, -np.sqrt(3)/2, 0], 'k', ls=\"--\", lw=1)\n",
    "\n",
    "# Plot the Lagrange Points and masses\n",
    "ax.plot(L_1, 0, 'rv', label=\"$L_1$\")\n",
    "ax.plot(L_2, 0, 'r^', label=\"$L_2$\")\n",
    "ax.plot(L_3, 0, 'rp', label=\"$L_3$\")\n",
    "ax.plot(0.5 - pi_2, np.sqrt(3)/2, 'rX', label=\"$L_4$\")\n",
    "ax.plot(0.5 - pi_2, -np.sqrt(3)/2, 'rs', label=\"$L_5$\")\n",
    "ax.plot(0, 0, 'k', marker=center_of_mass, markersize=10)\n",
    "ax.plot(-pi_2, 0, 'bo', label=\"$m_1$\")\n",
    "ax.plot(1 - pi_2, 0, 'go', label=\"$m_2$\")\n",
    "ax.legend()\n",
    "ax.set_aspect(\"equal\")"
   ]
  },
  {
   "cell_type": "markdown",
   "metadata": {},
   "source": [
    "In MATLAB, the function definition ends up being a little bit different, since we want to be able to have $\\pi_2$ as the parameter. First, we need to define a function that takes both `xstar` and `pi_2` as arguments:\n",
    "\n",
    "```matlab\n",
    ">> collinear_lagrange = @(xstar, pi_2) xstar - (1 - pi_2)/abs(xstar + pi_2).^3 .* (xstar + pi_2) - pi_2 / abs(xstar - 1 + pi_2).^3 .* (xstar - 1 + pi_2);\n",
    "```\n",
    "\n",
    "The `@(xstar, pi_2)` tells MATLAB this is an anonymous function. We could also put this into a `.m` file as something like (Note: I didn't test this):\n",
    "\n",
    "```matlab\n",
    "function x = collinear_lagrange(xstar, pi_2)\n",
    "    x = xstar - (1 - pi_2)/abs(xstar + pi_2).^3 .* (xstar + pi_2) - pi_2 / abs(xstar - 1 + pi_2).^3 .* (xstar - 1 + pi_2);\n",
    "end\n",
    "```\n",
    "\n",
    "Then, we need to define a second function which calls the first for a defined value of `pi_2`:\n",
    "\n",
    "```matlab\n",
    ">> pi_2 = 3e-6;\n",
    ">> fun = @(x) collinear_lagrange(x, pi_2);\n",
    "```\n",
    "\n",
    "If you change the value of `pi_2`, I'm pretty sure you'll have to redefine `fun` by running the second line again. I wouldn't swear to that, and it depends on how MATLAB defines functions. But better safe than sorry!\n",
    "\n",
    "After that, we can call `fzero()` with the second function to find the roots of the collinear Lagrange point equation. The signature of `fzero()` is:\n",
    "\n",
    "```matlab\n",
    "fzero(function, x0, options)\n",
    "```\n",
    "\n",
    "The first argument is the function to solve, the second argument is an array that gives the range for the initial guess, and the third argument specifies options to the solver. I'd suggest setting:\n",
    "\n",
    "```matlab\n",
    ">> options = optimset('Display','iter');\n",
    "```\n",
    "\n",
    "and passing that to `fzero()` so you can see what the solver is doing internally and make sure it's finding the values you expect. Calling `fzero()` looks like:\n",
    "\n",
    "```matlab\n",
    ">> x = fzero(fun, [0, 1], options)\n",
    "```\n",
    "\n",
    "For the parameters we've set up here, this call will actually give an error that it can't find a root in the given range. MATLAB seems much more sensitive to the choice of initial values than Python, I'm not sure why. You'll need to experiment to find appropriate initial guesses, based on the S-curve graph. However, once a solution is found, it should be nearly identical to the solution found in Python."
   ]
  }
 ],
 "metadata": {
  "kernelspec": {
   "display_name": "Python 3",
   "language": "python",
   "name": "python3"
  },
  "language_info": {
   "codemirror_mode": {
    "name": "ipython",
    "version": 3
   },
   "file_extension": ".py",
   "mimetype": "text/x-python",
   "name": "python",
   "nbconvert_exporter": "python",
   "pygments_lexer": "ipython3",
   "version": "3.8.5"
  }
 },
 "nbformat": 4,
 "nbformat_minor": 4
}
