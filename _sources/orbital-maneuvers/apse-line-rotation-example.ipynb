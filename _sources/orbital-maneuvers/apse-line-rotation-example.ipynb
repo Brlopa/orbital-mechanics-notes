{
 "cells": [
  {
   "cell_type": "markdown",
   "id": "6b905043",
   "metadata": {},
   "source": [
    "# Non-Hohmann Transfers: Apse Line Rotation Example\n",
    "\n",
    "Another case of non-Hohmann orbital transfers are when the apse line of the orbit should be changed. To accomplish the transfer with one impulse, the initial and target orbits must intersect at at least one point. If the orbits do not intersect, then it will require at least two impulses to accomplish the total maneuver, using an intermediate transfer orbit. The case of multiple impulses is a generalization of the single-impulse case shown here.\n",
    "\n",
    "In general, two orbits with different apse lines and a common focus will intersect in two locations. We can choose either location to perform the maneuver that switches from one orbit to the other.\n",
    "\n",
    "In this case, the orbital elements of both orbits are specified, as well as the desired rotation of the apse line. The problem is to find the true anomaly at which the maneuver takes place on the initial orbit, as well as the required $\\Delta v$ to perform the maneuver.\n",
    "\n",
    "Let $\\eta$ be the rotation angle of the apse line. Then, in terms of the true anomalies on the initial and final orbits, we find that:\n",
    "\n",
    ":::{math}\n",
    ":label: eq:apse-line-rotation-angle\n",
    "\n",
    "\\eta = \\nu_i - \\nu_f\n",
    ":::\n",
    "\n",
    "Since the initial and final orbits both have their elements specified, we can use the orbit equation, Eq. {eq}`eq:scalar-orbit-equation` applied at the intersection point to solve for $\\nu_i$ and $\\nu_f$. We find:\n",
    "\n",
    ":::{math}\n",
    ":label: eq:apse-line-rotation-orbit-equation\n",
    "e_i p_f \\cos\\nu_i - e_f p_i \\cos\\nu_f = p_i - p_f\n",
    ":::\n",
    "\n",
    "We can use a trigonometric identity to further simplify Eq. {eq}`eq:apse-line-rotation-orbit-equation` to be in terms of $\\nu_i$ only:\n",
    "\n",
    ":::{math}\n",
    ":label: eq:apse-line-rotation-in-nu_i\n",
    "e_i p_f \\cos\\nu_i - e_f p_i \\cos\\nu_i \\cos\\eta - e_f p_i \\sin\\nu_i \\sin\\eta = p_i - p_f\n",
    ":::\n",
    "\n",
    "In Eq. {eq}`eq:apse-line-rotation-in-nu_i`, $e_i$, $e_f$, $p_i$, $p_f$, and $\\eta$ are all known, so the equation can be solved for $\\nu_i$. There are two roots of Eq. {eq}`eq:apse-line-rotation-in-nu_i`. Letting:\n",
    "\n",
    ":::{math}\n",
    ":label: eq:apse-line-rotation-a-b-c\n",
    "\\begin{aligned}\n",
    "  a &= e_i p_f - e_f p_i \\cos\\eta & b &= -e_f p_i \\sin\\eta & c &= p_i - p_f\n",
    "\\end{aligned}\n",
    ":::\n",
    "\n",
    "the two roots of Eq. {eq}`eq:apse-line-rotation-in-nu_i` are given by:\n",
    "\n",
    ":::{math}\n",
    ":label: eq:apse-line-rotation-nu-roots\n",
    "\\nu_i = \\alpha \\pm \\cos^{-1}\\left(\\frac{c}{a}\\cos\\alpha\\right)\n",
    ":::\n",
    "\n",
    "where $a$, $b$, and $c$ are given by Eq. {eq}`eq:apse-line-rotation-a-b-c` and $\\alpha$ is given by:\n",
    "\n",
    ":::{math}\n",
    ":label: eq:apse-line-rotation-alpha\n",
    "\n",
    "\\alpha = \\tan^{-1}\\frac{b}{a}\n",
    ":::\n",
    "\n",
    "Subsequently, $\\nu_f$ can be found from Eq. {eq}`eq:apse-line-rotation-angle`.\n",
    "\n",
    "## Example\n",
    "\n",
    "An Earth satellite is in an 8000 km by 16,000 km orbit. Calculate the $\\Delta v$ and the true anomaly $\\nu_i$ required to obtain a 7000 km by 21,000 km orbit whose apse line is rotated 25° counterclockwise.\n",
    "\n",
    "First, we need to determine the orbital parameters of the initial orbit. Then we can find the intersection point of the transfer, giving us $\\nu_i$ and $\\nu_f$. Finally, we will use the true anomalies of the intersection point on each orbit to determine the velocity components and the change of flight path angle, similar to the [common apse line example](./common-apse-line-example.md)."
   ]
  },
  {
   "cell_type": "code",
   "execution_count": 1,
   "id": "4d0657c5",
   "metadata": {},
   "outputs": [],
   "source": [
    "import math as m\n",
    "\n",
    "mu = 3.986E5  # km**3/s**2\n",
    "R_E = 6_378.1  # km\n",
    "\n",
    "eta = m.radians(25)\n",
    "\n",
    "r_p_i = 8_000 + R_E\n",
    "r_a_i = 16_000 + R_E\n",
    "a_i = (r_p_i + r_a_i) / 2\n",
    "e_i = 1 - r_p_i / a_i\n",
    "p_i = a_i * (1 - e_i**2)\n",
    "\n",
    "r_p_f = 7_000 + R_E\n",
    "r_a_f = 21_000 + R_E\n",
    "a_f = (r_p_f + r_a_f) / 2\n",
    "e_f = 1 - r_p_f / a_f\n",
    "p_f = a_f * (1 - e_f**2)\n",
    "\n",
    "a = e_i * p_f - e_f * p_i * m.cos(eta)\n",
    "b = -e_f * p_i * m.sin(eta)\n",
    "c = p_i - p_f\n",
    "\n",
    "alpha = m.atan2(b, a)\n",
    "nu_i = (alpha - m.acos(c / a * m.cos(alpha))) % (2*m.pi)\n",
    "nu_f = (nu_i - eta) % (2*m.pi)"
   ]
  },
  {
   "cell_type": "code",
   "execution_count": 2,
   "id": "eec1421f",
   "metadata": {
    "tags": [
     "remove-cell"
    ]
   },
   "outputs": [],
   "source": [
    "from myst_nb import glue as myst_glue\n",
    "from functools import partial\n",
    "glue = partial(myst_glue, display=False)\n",
    "\n",
    "glue(\"apse-line-rotation-a_i\", a_i)\n",
    "glue(\"apse-line-rotation-e_i\", e_i)\n",
    "glue(\"apse-line-rotation-a_f\", a_f)\n",
    "glue(\"apse-line-rotation-e_f\", e_f)\n",
    "glue(\"apse-line-rotation-nu_i\", m.degrees(nu_i))\n",
    "glue(\"apse-line-rotation-nu_f\", m.degrees(nu_f))"
   ]
  },
  {
   "cell_type": "markdown",
   "id": "dba1c5cd",
   "metadata": {},
   "source": [
    "The results are shown in {numref}`tab:apse-line-rotation-nu-results`. We chose the negative sign in Eq. {eq}`eq:apse-line-rotation-nu-roots` for convenience. Choosing the positive sign would give a different, although valid, result.\n",
    "\n",
    ":::{table} Velocity components and flight path angles on the original and transfer orbits\n",
    ":name: tab:apse-line-rotation-nu-results\n",
    ":align: center\n",
    "\n",
    "|  | Initial | Final |\n",
    "|:-|:--------|:------|\n",
    "| $a$ (km/s) | {glue:text}`apse-line-rotation-a_i:.2f` | {glue:text}`apse-line-rotation-a_f:.2f` |\n",
    "| $e$ | {glue:text}`apse-line-rotation-e_i:.2f` | {glue:text}`apse-line-rotation-e_f:.2f` |\n",
    "| $\\nu$ (deg.) | {glue:text}`apse-line-rotation-nu_i:.2f` | {glue:text}`apse-line-rotation-nu_f:.2f` |\n",
    ":::\n",
    "\n",
    "With the orbital elements fully determined for both orbits, we can calculate the velocity components, $\\Delta v$, and $\\gamma$."
   ]
  },
  {
   "cell_type": "code",
   "execution_count": 3,
   "id": "a476f152",
   "metadata": {},
   "outputs": [],
   "source": [
    "h_i = m.sqrt(p_i * mu)\n",
    "h_f = m.sqrt(p_f * mu)\n",
    "\n",
    "r = p_i / (1 + e_i * m.cos(nu_i))\n",
    "\n",
    "v_p_i = h_i / r\n",
    "v_p_f = h_f / r\n",
    "\n",
    "v_r_i = mu / h_i * e_i * m.sin(nu_i)\n",
    "v_r_f = mu / h_f * e_f * m.sin(nu_f)\n",
    "\n",
    "v_i = m.sqrt(v_p_i**2 + v_r_i**2)\n",
    "v_f = m.sqrt(v_p_f**2 + v_r_f**2)\n",
    "\n",
    "phi_i = m.degrees(m.atan2(v_r_i, v_p_i))\n",
    "phi_f = m.degrees(m.atan2(v_r_f, v_p_f))\n",
    "\n",
    "Delta_v = m.sqrt(v_i**2 + v_f**2 - 2 * v_i * v_f * m.cos(m.radians(phi_f - phi_i)))\n",
    "gamma = m.degrees(m.atan2(v_r_f - v_r_i, v_p_f - v_p_i))"
   ]
  },
  {
   "cell_type": "code",
   "execution_count": 4,
   "id": "e28ade48",
   "metadata": {
    "tags": [
     "remove-cell"
    ]
   },
   "outputs": [],
   "source": [
    "glue(\"apse-line-rotation-r\", r)\n",
    "glue(\"apse-line-rotation-delta-v\", Delta_v)\n",
    "glue(\"apse-line-rotation-gamma\", gamma)\n",
    "loc = locals()\n",
    "for n in (\"v_p\", \"v_r\", \"v\", \"phi\"):\n",
    "    name = n + \"_i\"\n",
    "    glue(\"apse-line-rotation-\" + name, loc[name])\n",
    "    name = n + \"_f\"\n",
    "    glue(\"apse-line-rotation-\" + name, loc[name])"
   ]
  },
  {
   "cell_type": "markdown",
   "id": "0a60e5e2",
   "metadata": {},
   "source": [
    "The radius at the impulse point is $r =$ {glue:text}`apse-line-rotation-r:.2f` km, the $\\Delta v=$ {glue:text}`apse-line-rotation-delta-v:.2f` km/s, and the thrust vector angle is $\\gamma =$ {glue:text}`apse-line-rotation-gamma:.2f`°. The velocity components and flight path angles are shown in {numref}`tab:apse-line-rotation`.\n",
    "\n",
    ":::{table} Velocity components and flight path angles on the original and transfer orbits\n",
    ":name: tab:apse-line-rotation\n",
    ":align: center\n",
    "\n",
    "|  | Initial | Transfer |\n",
    "|:-|:--------|:---------|\n",
    "| $v_{\\perp}$ (km/s) | {glue:text}`apse-line-rotation-v_p_i:.2f` | {glue:text}`apse-line-rotation-v_p_f:.2f` |\n",
    "| $v_{r}$ (km/s) | {glue:text}`apse-line-rotation-v_r_i:.2f` | {glue:text}`apse-line-rotation-v_r_f:.2f` |\n",
    "| $v$ (km/s) | {glue:text}`apse-line-rotation-v_i:.2f` | {glue:text}`apse-line-rotation-v_f:.2f` |\n",
    "| $\\phi$ (deg.) | {glue:text}`apse-line-rotation-phi_i:.2f` | {glue:text}`apse-line-rotation-phi_f:.2f` |\n",
    ":::"
   ]
  }
 ],
 "metadata": {
  "jupytext": {
   "text_representation": {
    "extension": ".md",
    "format_name": "myst",
    "format_version": 0.13,
    "jupytext_version": "1.11.3-dev"
   }
  },
  "kernelspec": {
   "display_name": "Python 3",
   "language": "python",
   "name": "python3"
  },
  "language_info": {
   "codemirror_mode": {
    "name": "ipython",
    "version": 3
   },
   "file_extension": ".py",
   "mimetype": "text/x-python",
   "name": "python",
   "nbconvert_exporter": "python",
   "pygments_lexer": "ipython3",
   "version": "3.10.9"
  },
  "source_map": [
   12,
   76,
   105,
   117,
   134,
   156,
   167
  ]
 },
 "nbformat": 4,
 "nbformat_minor": 5
}