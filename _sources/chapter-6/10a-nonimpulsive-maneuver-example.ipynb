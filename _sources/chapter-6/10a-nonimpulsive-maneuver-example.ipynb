{
 "cells": [
  {
   "cell_type": "markdown",
   "metadata": {},
   "source": [
    "# Example: Nonimpulsive Maneuvers\n",
    "\n",
    "Consider a 1000 kg spacecraft with an ion propulsion system. These systems are capable of extremely high efficiency but generally have low thrust. This particular system has an $I_{sp}$ of 10,000 s and a thrust of 2.5 N. The spacecraft is in a 300 km circular, equatorial, orbit around Earth. At $t$ = 0, the ion propulsion system is turned on, and remains on until the spacecraft reaches GEO. How long does it take for the spacecraft to reach GEO? How many orbital revolutions does it take to get to GEO? How much mass is used during the maneuver? Compare this propellant usage to a typical, high-thrust (impulsive) maneuver with a rocket with $I_{sp}$ of 300 s."
   ]
  },
  {
   "cell_type": "code",
   "execution_count": null,
   "metadata": {},
   "outputs": [],
   "source": [
    "import numpy as np\n",
    "from scipy.integrate import solve_ivp\n",
    "# %matplotlib notebook\n",
    "import matplotlib.pyplot as plt\n",
    "\n",
    "R_E = 6378  # km\n",
    "mu = 3.986E5  # km**3/s**2\n",
    "\n",
    "r_1 = R_E + 300  # km\n",
    "v_1 = np.sqrt(mu / r_1)  # km/s\n",
    "\n",
    "r_2 = 42_164  # km, GEO\n",
    "\n",
    "r_0 = np.array((r_1, 0, 0))  # km\n",
    "v_0 = np.array((0, v_1, 0))  # km\n",
    "m_0 = np.array((1000))  # kg\n",
    "Y_0 = np.hstack((r_0, v_0, m_0))\n",
    "\n",
    "T = 2.5E-3  # kN\n",
    "I_sp = 10_000  # s\n",
    "g_0 = 9.807E-3  # km/s**2"
   ]
  },
  {
   "cell_type": "code",
   "execution_count": null,
   "metadata": {},
   "outputs": [],
   "source": [
    "def nonimpulsive_maneuver(t, Y, mu, T, I_sp, g_0):\n",
    "    r = np.sqrt(np.dot(Y[0:3], Y[0:3]))\n",
    "    v = np.sqrt(np.dot(Y[3:6], Y[3:6]))\n",
    "    m = Y[-1]\n",
    "    dY_dt = np.zeros(len(Y))\n",
    "    dY_dt[0:3] = Y[3:6]\n",
    "    dY_dt[3:6] = -mu * Y[0:3] / r**3 + T * Y[3:6] / (m * v)\n",
    "    dY_dt[-1] = - T / (I_sp * g_0)\n",
    "    return dY_dt\n",
    "\n",
    "def reached_destination(t, Y, mu, T, I_sp, g_0):\n",
    "    r_vec = Y[0:3]\n",
    "    r = np.sqrt(np.dot(r_vec, r_vec))\n",
    "    return r - r_2\n",
    "\n",
    "reached_destination.terminal = True\n",
    "\n",
    "def mass(t, Y, mu, T, I_sp, g_0):\n",
    "    return Y[-1]\n",
    "\n",
    "mass.terminal = True\n",
    "\n",
    "def orbit(t, Y, mu, T, I_sp, g_0):\n",
    "    return Y[1]\n",
    "\n",
    "# Only trigger when going from negative to positive\n",
    "orbit.direction = 1"
   ]
  },
  {
   "cell_type": "code",
   "execution_count": null,
   "metadata": {},
   "outputs": [],
   "source": [
    "t_end = 2_000_000  # s\n",
    "t_eval = np.linspace(0, t_end, int(1E6))\n",
    "sol = solve_ivp(\n",
    "    nonimpulsive_maneuver,\n",
    "    t_span=(0, t_end),\n",
    "    y0=Y_0,\n",
    "    t_eval=t_eval,\n",
    "    events=(reached_destination, mass, orbit),\n",
    "    rtol=1E-12,\n",
    "    atol=1E-15,\n",
    "    method=\"DOP853\",\n",
    "    args=(mu, T, I_sp, g_0)\n",
    ")\n",
    "print(sol.status)"
   ]
  },
  {
   "cell_type": "code",
   "execution_count": null,
   "metadata": {},
   "outputs": [],
   "source": [
    "r_vec = sol.y[0:3].T\n",
    "r = np.sqrt(r_vec[:, 0]**2 + r_vec[:, 1]**2 + r_vec[:, 2]**2)\n",
    "v_vec = sol.y[3:6].T\n",
    "v = np.sqrt(v_vec[:, 0]**2 + v_vec[:, 1]**2 + v_vec[:, 2]**2)\n",
    "m = sol.y[-1]"
   ]
  },
  {
   "cell_type": "code",
   "execution_count": null,
   "metadata": {},
   "outputs": [],
   "source": [
    "plt.rc(\"font\", size=20)\n",
    "fig, ax = plt.subplots(figsize=(12, 12))\n",
    "ax.set_aspect(\"equal\")\n",
    "ax.plot(r_vec[:, 0], r_vec[:, 1])\n",
    "ax.plot(np.linspace(-r_2, r_2, 1000), np.sqrt(r_2**2 - np.linspace(-r_2, r_2, 1000)**2))\n",
    "orbit_crossings = sol.y_events[2][:, 0]\n",
    "ax.plot(orbit_crossings, np.zeros(orbit_crossings.shape), 'ro', fillstyle='none')\n",
    "print(\"Number of orbits\", f\"{orbit_crossings.shape}\")"
   ]
  },
  {
   "cell_type": "code",
   "execution_count": null,
   "metadata": {},
   "outputs": [],
   "source": [
    "print(f\"The flight used: {m_0 - m[-1]} kg of propellant\")"
   ]
  },
  {
   "cell_type": "code",
   "execution_count": null,
   "metadata": {},
   "outputs": [],
   "source": [
    "print(f\"Time of flight: {sol.t_events[0] / (3600 * 24)} days\")"
   ]
  }
 ],
 "metadata": {
  "kernelspec": {
   "display_name": "Python 3",
   "language": "python",
   "name": "python3"
  },
  "language_info": {
   "codemirror_mode": {
    "name": "ipython",
    "version": 3
   },
   "file_extension": ".py",
   "mimetype": "text/x-python",
   "name": "python",
   "nbconvert_exporter": "python",
   "pygments_lexer": "ipython3",
   "version": "3.8.5"
  }
 },
 "nbformat": 4,
 "nbformat_minor": 4
}
