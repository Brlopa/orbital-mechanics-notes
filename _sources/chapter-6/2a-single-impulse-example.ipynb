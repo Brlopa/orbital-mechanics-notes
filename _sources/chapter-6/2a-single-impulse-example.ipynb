{
 "cells": [
  {
   "cell_type": "markdown",
   "metadata": {},
   "source": [
    "# Example: Single Impulse Orbital Change\n",
    "\n",
    "For the case of a single-impulse orbital maneuver, the initial and final orbits must intersect at some point. Then, the $\\Delta \\vector{v}$ that is needed to change from one orbit to the other is given by:\n",
    "\n",
    "$$\\Delta \\vector{v} = \\vector{v}_2 - \\vector{v}_1$$\n",
    "\n",
    "where the two velocities are determined at the point of intersection of the two orbits. The equation can be simplified to involve only velocity magnitudes when the velocity vectors are parallel at the point of intersection.\n",
    "\n",
    "Let's consider a case where we want to deorbit a spacecraft from low Earth orbit. To deorbit a spacecraft, we need to place it in an orbit that will intersect the atmosphere. Once in the atmosphere, drag will take over and reduce the velocity to the terminal velocity. As a simplification, we will neglect the atmosphere. This means we will determine the true anomaly when the spacecraft reaches the surface of the earth, or when the orbital radius is equal to the earth's radius.\n",
    "\n",
    "Initially, the spacecraft is in a circular orbit at 1000 km altitude. We define the apse line pointing to the right along the $x$ axis, as usual. When the spacecraft reaches the apse line, an impulsive thrust is provided to put the spacecraft on the deorbit trajectory, which will be an ellipse. We would like the spacecraft to impact at a point 145° from the impulse point. This situation is shown in the figure below."
   ]
  },
  {
   "cell_type": "code",
   "execution_count": null,
   "metadata": {
    "tags": [
     "remove-input"
    ]
   },
   "outputs": [],
   "source": [
    "import matplotlib.pyplot as plt\n",
    "from matplotlib.patches import Circle, Arc\n",
    "import numpy as np\n",
    "from sympy import symbols, Eq, solve\n",
    "h, e = symbols(\"h,e\", real=True)\n",
    "\n",
    "R_E = 6378  # km\n",
    "orbit_radius = 1000  # km\n",
    "mu = 398_600  # km**2/s**3\n",
    "theta = np.radians(35)\n",
    "earth = Circle((0, 0), R_E, facecolor=\"paleturquoise\", edgecolor=\"None\")\n",
    "orbit = Circle((0, 0), R_E + orbit_radius, facecolor=\"None\", edgecolor=\"black\")\n",
    "apoapsis = Eq((h**2 / mu / (1 - e)), R_E + orbit_radius)\n",
    "impact = Eq((h**2 / mu / (1 + e * np.cos(theta))), R_E)\n",
    "solution = solve((apoapsis, impact), (h, e))\n",
    "# If multiple solutions are found take the one with both values positive\n",
    "if len(solution[0]) > 1:\n",
    "    sol = solution[0]\n",
    "    if all(i > 0 for i in sol):\n",
    "        pass\n",
    "    else:\n",
    "        sol = solution[1]\n",
    "    h_2, e_2 = float(sol[0]), float(sol[1])\n",
    "\n",
    "a = h_2**2 / mu / (1 - e_2**2)\n",
    "b = a * np.sqrt(1 - e_2**2)\n",
    "transfer = Arc((R_E + orbit_radius - a, 0), 2*a, 2*b, theta2=np.degrees(np.pi - theta),\n",
    "               edgecolor=\"red\", linestyle=\"--\")\n",
    "A = (R_E + orbit_radius, 0)\n",
    "B = (R_E * np.cos(np.pi - theta), R_E * np.sin(np.pi - theta))\n",
    "\n",
    "fig, ax = plt.subplots(figsize=(9, 9))\n",
    "plt.rc(\"font\", size=20)\n",
    "ax.set_aspect(\"equal\")\n",
    "ax.set_axis_off()\n",
    "ax.set_clip_on(False)\n",
    "ax.set_xlim(-R_E - orbit_radius*2, R_E + orbit_radius*2)\n",
    "ax.set_ylim(-R_E - orbit_radius*2, R_E + orbit_radius*2)\n",
    "ax.add_patch(earth)\n",
    "ax.add_patch(orbit)\n",
    "ax.add_patch(transfer)\n",
    "ax.plot(*A, \"ko\")\n",
    "ax.plot(*B, \"ko\")\n",
    "ax.annotate(\"Impulse\", xy=A, xytext=(10, 10), textcoords=\"offset points\", ha=\"left\", va=\"center\")\n",
    "ax.annotate(\"Impact\", xy=B, xytext=(10, 10), textcoords=\"offset points\", ha=\"left\", va=\"top\")\n",
    "ax.annotate(\"Earth\", xy=(0, -4000), ha=\"center\", va=\"center\")\n",
    "ax.plot([0, (R_E + orbit_radius + 500) * np.cos(np.pi - theta)], [0, (R_E + orbit_radius + 500) * np.sin(np.pi - theta)], color=\"black\", lw=1)\n",
    "ax.plot([0, R_E + orbit_radius + 500], [0, 0], color=\"black\", lw=1)\n",
    "ax.add_patch(Arc((0, 0), 2000, 2000, theta2=np.degrees(np.pi - theta)))\n",
    "ann = (np.pi - theta) / 2\n",
    "ax.annotate(f\"{np.degrees(np.pi - theta):.0F}°\", xy=(1250 * np.cos(ann), 1250*np.sin(ann)));"
   ]
  },
  {
   "cell_type": "markdown",
   "metadata": {},
   "source": [
    "We are interested in calculating the $\\Delta v$ required to perform this maneuver. Since the impact orbit and the initial orbit intersect at one point, we can use a single impulse transfer to perform the maneuver. Therefore, the $\\Delta v$ is given by the difference in velocities at the impulse point. Since the velocity vectors are parallel for the initial and impact orbits at the impulse point, we can work entirely in magnitudes.\n",
    "\n",
    "To find $\\Delta v$, we need to calculate two velocities:\n",
    "\n",
    "1. The velocity on the circular orbit, $v_1$\n",
    "2. The velocity on the impact orbit at the impulse point, $v_2$\n",
    "\n",
    "Although the impact orbit is only a segment of the elliptical orbit, it nonetheless has the same properties as any other elliptical orbit. In particular, the apogee altitude is given by the altitude of the initial orbit, and the perigee altitude is actually inside the earth. This means that the apse line of the impact orbit actually points to the _left_ on the figure above. Thus, the velocity on the impact orbit at the impulse point is actually the apogee velocity, given by:\n",
    "\n",
    "$$v_2 = v_a = \\frac{h}{r_a}$$\n",
    "\n",
    "where $h$ is the specific orbital angular momentum and $r_a$ is the radius of the earth plus the initial orbital altitude. Therefore this problem reduces to finding the specific orbital angular momentum of the impact orbit.\n",
    "\n",
    "To find the specific angular momentum, we can use the equations for an elliptical orbit. We know at apogee, $\\theta =$ 180°, such that the orbit equation is:\n",
    "\n",
    "$$r_a = \\frac{h^2}{\\mu}\\frac{1}{1 - e}$$\n",
    "\n",
    "In addition, we know that at the impact point, $\\theta =$ 180° - 145° and $r = R_E$. Thus:\n",
    "\n",
    "$$R_E = \\frac{h^2}{\\mu}\\frac{1}{1 + e\\cos\\theta}$$\n",
    "\n",
    "Now we have two equations and two unknowns, $h$ and $e$. Solving these equations simultaneously, we can find $h$.\n",
    "\n",
    "Finally, the velocity of the spacecraft on the circular orbit is:\n",
    "\n",
    "$$v_1 = \\sqrt{\\frac{\\mu}{r_a}}$$"
   ]
  },
  {
   "cell_type": "code",
   "execution_count": null,
   "metadata": {},
   "outputs": [],
   "source": [
    "import numpy as np\n",
    "\n",
    "R_E = 6378  # km\n",
    "mu = 398_600  # km**2/s**3\n",
    "\n",
    "altitude = 1000 # km\n",
    "impact_point = np.radians(145)\n",
    "theta = np.pi - impact_point\n",
    "\n",
    "r_a = R_E + altitude\n",
    "\n",
    "v_1 = np.sqrt(mu / r_a)\n",
    "\n",
    "# It turns out to be easier to solve for e first and then for h\n",
    "e = altitude / (R_E + altitude + R_E * np.cos(theta))\n",
    "h = np.sqrt((R_E + altitude) * mu * (1 - e))\n",
    "\n",
    "v_2 = h / (R_E + altitude)\n",
    "\n",
    "Δv = v_2 - v_1\n",
    "print(f\"{Δv=:0.4F} km/s\")"
   ]
  },
  {
   "cell_type": "markdown",
   "metadata": {},
   "source": [
    "The required velocity change is -0.2976 km/s, meaning the spacecraft must slow down by that amount to transfer to the impact orbit."
   ]
  }
 ],
 "metadata": {
  "celltoolbar": "Tags",
  "kernelspec": {
   "display_name": "Python 3",
   "language": "python",
   "name": "python3"
  },
  "language_info": {
   "codemirror_mode": {
    "name": "ipython",
    "version": 3
   },
   "file_extension": ".py",
   "mimetype": "text/x-python",
   "name": "python",
   "nbconvert_exporter": "python",
   "pygments_lexer": "ipython3",
   "version": "3.8.5"
  }
 },
 "nbformat": 4,
 "nbformat_minor": 4
}
