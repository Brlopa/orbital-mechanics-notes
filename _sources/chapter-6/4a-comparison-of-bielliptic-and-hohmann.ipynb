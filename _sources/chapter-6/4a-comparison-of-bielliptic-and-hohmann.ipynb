{
 "cells": [
  {
   "cell_type": "markdown",
   "metadata": {},
   "source": [
    "# Example: Comparison of Bielliptic and Hohmann Transfers\n",
    "\n",
    "As we discussed, bielliptic transfers can save $\\Delta v$ requirement when the initial and target orbits have very different radii. When the target orbit radius is more than about 15.5 times larger than the initial radius (or vice versa), the bielliptic transfer is more energy efficient than the standard Hohmann transfer.\n",
    "\n",
    "In this example, we will explore this with some numbers, and also discuss the tradeoff of a bielliptic transfer.\n",
    "\n",
    "Let's start the initial orbit in LEO orbit of 500 km altitude and transfer to an orbit at the radius of the moon, at 385,000 km. Assuming both orbits are circular, we can find the initial and target orbital velocities:\n",
    "\n",
    "$$v = \\sqrt{\\frac{\\mu}{r}}$$"
   ]
  },
  {
   "cell_type": "code",
   "execution_count": 1,
   "metadata": {},
   "outputs": [
    {
     "name": "stdout",
     "output_type": "stream",
     "text": [
      "v_1=7.613 km/s v_3=1.018 km/s\n"
     ]
    }
   ],
   "source": [
    "import numpy as np\n",
    "\n",
    "mu = 398_600.4418  # km**3/s**2\n",
    "R_E = 6378  # km\n",
    "r_1 = 500 + R_E  # km\n",
    "\n",
    "v_1 = np.sqrt(mu / r_1)\n",
    "\n",
    "r_3 = 385_000\n",
    "v_3 = np.sqrt(mu / r_3)\n",
    "\n",
    "print(f\"{v_1=:.3F} km/s\", f\"{v_3=:.3F} km/s\")"
   ]
  },
  {
   "cell_type": "markdown",
   "metadata": {},
   "source": [
    "Now we will calculate the standard two-impulse Hohmann transfer. The total $\\Delta v$ for the transfer is the sum of the $\\Delta v$ from the initial orbit onto the transfer orbit at perigee of the transfer, and the $\\Delta v$ from the transfer orbit onto the target orbit at the apogee of the transfer.\n",
    "\n",
    "First, we calculate the eccentricity, specific orbital angular momentum, and semimajor axis of the transfer orbit:\n",
    "\n",
    "$$e = \\frac{r_3 - r_1}{r_3 + r_1}$$\n",
    "\n",
    "$$h = \\sqrt{\\mu r_3 (1 - e)} = \\sqrt{\\mu r_1 (1 + e)}$$\n",
    "\n",
    "$$a = \\frac{r_3 + r_1}{2}$$"
   ]
  },
  {
   "cell_type": "code",
   "execution_count": 2,
   "metadata": {},
   "outputs": [
    {
     "name": "stdout",
     "output_type": "stream",
     "text": [
      "e_h=0.9649 h_h=73395.58 km**2/s a_h=195939 km\n"
     ]
    }
   ],
   "source": [
    "e_h = (r_3 - r_1) / (r_1 + r_3)\n",
    "h_h = np.sqrt(r_3 * (1 - e_h) * mu)\n",
    "a_h = (r_3 + r_1) / 2\n",
    "print(f\"{e_h=:.4F}\", f\"{h_h=:.2F} km**2/s\", f\"{a_h=:.0F} km\")"
   ]
  },
  {
   "cell_type": "markdown",
   "metadata": {},
   "source": [
    "Now, the velocity at the perigee and apogee of the transfer orbit are determined from the specific orbital angular momentum."
   ]
  },
  {
   "cell_type": "code",
   "execution_count": 3,
   "metadata": {},
   "outputs": [
    {
     "name": "stdout",
     "output_type": "stream",
     "text": [
      "v_p_h=10.671 km/s v_a_h=0.191 km/s\n"
     ]
    }
   ],
   "source": [
    "v_p_h = h_h / r_1\n",
    "v_a_h = h_h / r_3\n",
    "print(f\"{v_p_h=:.3F} km/s\", f\"{v_a_h=:.3F} km/s\")"
   ]
  },
  {
   "cell_type": "markdown",
   "metadata": {},
   "source": [
    "Notice that the velocity at the apogee of the transfer orbit is only about 190 m/s, but the orbital velocity at the moon's orbit is over 1,000 m/s. Now, let's calculate $\\Delta v$:\n",
    "\n",
    "$$\\Delta v_h = v_{p,h} - v_1 + v_3 - v_{a,h}$$"
   ]
  },
  {
   "cell_type": "code",
   "execution_count": 4,
   "metadata": {},
   "outputs": [
    {
     "name": "stdout",
     "output_type": "stream",
     "text": [
      "delta_v_h=3.885 km/s\n"
     ]
    }
   ],
   "source": [
    "delta_v_h = v_p_h - v_1 + v_3 - v_a_h\n",
    "print(f\"{delta_v_h=:.3F} km/s\")"
   ]
  },
  {
   "cell_type": "markdown",
   "metadata": {},
   "source": [
    "So $\\Delta v$ for the Hohmann transfer is about 3.885 km/s. Next, let's do the bielliptic transfer. We (somewhat arbitrarily) pick $r_2 =$ 800,000 km, that is, apogee of the transfer orbit is 800,000 km from the center of the Earth. Now, we can calculate the eccentricity, specific orbital angular momentum, and velocities for the two transfer ellipses."
   ]
  },
  {
   "cell_type": "code",
   "execution_count": 5,
   "metadata": {},
   "outputs": [
    {
     "name": "stdout",
     "output_type": "stream",
     "text": [
      "v_a_1=0.0922 km/s v_a_2=0.5690 km/s v_p_2=1.1823 km/s\n"
     ]
    }
   ],
   "source": [
    "r_2 = 800_000\n",
    "e_1 = (r_2 - r_1) / (r_1 + r_2)\n",
    "h_1 = np.sqrt(r_2 * (1 - e_1) * mu)\n",
    "v_p_1 = h_1 / r_1\n",
    "v_a_1 = h_1 / r_2\n",
    "\n",
    "e_2 = (r_2 - r_3) / (r_3 + r_2)\n",
    "h_2 = np.sqrt(r_2 * (1 - e_2) * mu)\n",
    "v_p_2 = h_2 / r_3\n",
    "v_a_2 = h_2 / r_2\n",
    "\n",
    "print(f\"{v_a_1=:.4F} km/s\", f\"{v_a_2=:.4F} km/s\", f\"{v_p_2=:.4F} km/s\")"
   ]
  },
  {
   "cell_type": "markdown",
   "metadata": {},
   "source": [
    "The difference in apogee velocities between the two transfer orbits is about 0.4 km/s, and now the insertion velocity to the lunar radius orbit ($v_{p,2}$) is about 1.18 km/s, much closer to the lunar orbit speed. The total $\\Delta v$ for these three impulses is:"
   ]
  },
  {
   "cell_type": "code",
   "execution_count": 6,
   "metadata": {},
   "outputs": [
    {
     "name": "stdout",
     "output_type": "stream",
     "text": [
      "delta_v_2=3.7489 km/s\n"
     ]
    }
   ],
   "source": [
    "delta_v_2 = v_p_1 - v_1 + v_a_2 - v_a_1 + v_p_2 - v_3\n",
    "print(f\"{delta_v_2=:.4F} km/s\")"
   ]
  },
  {
   "cell_type": "markdown",
   "metadata": {},
   "source": [
    "For the bielliptic transfer, $\\Delta v$ is about 3.75 km/s, about 130 m/s less than the straight Hohmann transfer. Assuming a 1000 kg spacecraft, this results in a savings of propellant of:"
   ]
  },
  {
   "cell_type": "code",
   "execution_count": 7,
   "metadata": {},
   "outputs": [
    {
     "name": "stdout",
     "output_type": "stream",
     "text": [
      "delta_m_h=733 kg delta_m_be=720 kg\n"
     ]
    }
   ],
   "source": [
    "delta_m_h = 1000 * (1 - np.exp(-delta_v_h / (300 * 9.81E-3)))\n",
    "delta_m_be = 1000 * (1 - np.exp(- delta_v_2 / (300 * 9.81E-3)))\n",
    "print(f\"{delta_m_h=:.0F} kg\", f\"{delta_m_be=:.0F} kg\")"
   ]
  },
  {
   "cell_type": "markdown",
   "metadata": {},
   "source": [
    "The difference is 13 kg per 1000 kg of spacecraft mass. For the Falcon 9, the [Full Thrust](https://en.wikipedia.org/wiki/Falcon_9_Full_Thrust) variant has a mass of 549,000 kg. The savings from the bielliptic transfer means that about 7,000 kg of fuel can be diverted to another use. The total payload capacity to Low Earth Orbit is about [23,000 kg](https://www.spacex.com/vehicles/falcon-9/), so this is a significant savings. Although this is a simplistic model of the rocket, we can at least see the order of magnitude of savings that are possible.\n",
    "\n",
    "On the other hand, the downside of the bielliptic transfer is the transit time. The period of an ellipse is:\n",
    "\n",
    "$$T = \\frac{2\\pi}{\\sqrt{\\mu}}a^{3/2}$$"
   ]
  },
  {
   "cell_type": "code",
   "execution_count": 8,
   "metadata": {},
   "outputs": [
    {
     "name": "stdout",
     "output_type": "stream",
     "text": [
      "4 days, 23:53:00.998726 41 days, 0:35:23.331550\n"
     ]
    }
   ],
   "source": [
    "a_h = (r_1 + r_3) / 2\n",
    "t_h = np.pi / np.sqrt(mu) * a_h**(3/2)\n",
    "a_be_1 = (r_2 + r_1) / 2\n",
    "a_be_2 = (r_2 + r_3) / 2\n",
    "t_be = np.pi / np.sqrt(mu) * (a_be_1**(3/2) + a_be_2**(3/2))\n",
    "from datetime import timedelta\n",
    "print(timedelta(seconds=t_h), timedelta(seconds=t_be))"
   ]
  },
  {
   "cell_type": "markdown",
   "metadata": {},
   "source": [
    "The transfer time is over 8x longer for the bielliptic transfer, going from 5 days to almost 1.5 months."
   ]
  }
 ],
 "metadata": {
  "kernelspec": {
   "display_name": "Python 3",
   "language": "python",
   "name": "python3"
  },
  "language_info": {
   "codemirror_mode": {
    "name": "ipython",
    "version": 3
   },
   "file_extension": ".py",
   "mimetype": "text/x-python",
   "name": "python",
   "nbconvert_exporter": "python",
   "pygments_lexer": "ipython3",
   "version": "3.8.5"
  }
 },
 "nbformat": 4,
 "nbformat_minor": 4
}
