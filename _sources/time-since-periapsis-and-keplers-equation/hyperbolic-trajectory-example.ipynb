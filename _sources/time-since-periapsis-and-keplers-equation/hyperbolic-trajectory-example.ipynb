{
 "cells": [
  {
   "cell_type": "markdown",
   "id": "7029b0df",
   "metadata": {},
   "source": [
    "# Example: Hyperbolic Trajectory\n",
    "\n",
    "A geocentric trajectory has a perigee altitude of 300 km and a perigee velocity of 15 km/s. Calculate the time to fly from perigee to a true anomaly of $\\nu =$ 100°, and the position at that time. Then, calculate the true anomaly and speed 3 hr later.\n",
    "\n",
    "## Given True Anomaly, Find Time Since Perigee\n",
    "\n",
    "As for the elliptical case, the solution has three steps:\n",
    "\n",
    "1. Find the hyperbolic eccentric anomaly, $F$, from the true anomaly, $\\nu$\n",
    "2. Find the hyperbolic mean anomaly, $M_h$, from the eccentric anomaly\n",
    "3. Find the time since perigee, $t$, from the mean anomaly\n",
    "\n",
    "Eq. {eq}`eq:eccentric-anomaly-true-anomaly-hyperbola` gives the eccentric anomaly in terms of the true anomaly. The only unknown parameter is the eccentricity of the hyperbola, which we need to find from the given orbital elements. Since we have $v_p$ and $r_p$ in the problem statement, we can calculate the angular momentum followed by the eccentricity."
   ]
  },
  {
   "cell_type": "code",
   "execution_count": 1,
   "id": "bb43409c",
   "metadata": {},
   "outputs": [],
   "source": [
    "import numpy as np\n",
    "from scipy.optimize import newton\n",
    "\n",
    "mu = 3.986004418E5  # km**3/s**2\n",
    "nu_1 = np.radians(100)\n",
    "r_p = 300 + 6378.1  # km\n",
    "v_p = 15  # km/s\n",
    "h = r_p * v_p  # km**2/s\n",
    "e = h**2 / (r_p * mu) - 1"
   ]
  },
  {
   "cell_type": "code",
   "execution_count": 2,
   "id": "730634bd",
   "metadata": {
    "tags": [
     "remove-cell"
    ]
   },
   "outputs": [
    {
     "data": {
      "text/plain": [
       "100171.5"
      ]
     },
     "metadata": {
      "scrapbook": {
       "mime_prefix": "application/papermill.record/",
       "name": "hyperbolic-time-since-perigee-h"
      }
     },
     "output_type": "display_data"
    },
    {
     "data": {
      "text/plain": [
       "2.769620759110759"
      ]
     },
     "metadata": {
      "scrapbook": {
       "mime_prefix": "application/papermill.record/",
       "name": "hyperbolic-time-since-perigee-e"
      }
     },
     "output_type": "display_data"
    }
   ],
   "source": [
    "from functools import partial\n",
    "from myst_nb import glue as myst_glue\n",
    "glue = partial(myst_glue, display=False)\n",
    "\n",
    "glue(\"hyperbolic-time-since-perigee-h\", h)\n",
    "glue(\"hyperbolic-time-since-perigee-e\", e)"
   ]
  },
  {
   "cell_type": "markdown",
   "id": "e5cbecc2",
   "metadata": {},
   "source": [
    "The eccentricity is $e =$ {glue:text}`hyperbolic-time-since-perigee-e:.4f`. Since $e > 1$, this trajectory is a hyperbola.\n",
    "\n",
    "We should find the true anomaly of the asymptote from Eq. {eq}`eq:hyperbolic-true-anomaly-asymptote`, to ensure that our desired true anomaly is valid."
   ]
  },
  {
   "cell_type": "code",
   "execution_count": 3,
   "id": "34a356f3",
   "metadata": {},
   "outputs": [],
   "source": [
    "nu_infty = np.arccos(-1 / e)"
   ]
  },
  {
   "cell_type": "code",
   "execution_count": 4,
   "id": "20ab1e86",
   "metadata": {
    "tags": [
     "remove-cell"
    ]
   },
   "outputs": [
    {
     "data": {
      "text/plain": [
       "111.16532469154411"
      ]
     },
     "metadata": {
      "scrapbook": {
       "mime_prefix": "application/papermill.record/",
       "name": "hyperbolic-time-since-perigee-nu_infty"
      }
     },
     "output_type": "display_data"
    }
   ],
   "source": [
    "glue(\"hyperbolic-time-since-perigee-nu_infty\", np.degrees(nu_infty))"
   ]
  },
  {
   "cell_type": "markdown",
   "id": "c791e336",
   "metadata": {},
   "source": [
    "The true anomaly of the asymptote is $\\nu_{\\infty} =$ {glue:text}`hyperbolic-time-since-perigee-nu_infty:.2f`°. Therefore, our desired true anomaly is valid. Now we can calculate the eccentric anomaly, $F$."
   ]
  },
  {
   "cell_type": "code",
   "execution_count": 5,
   "id": "ab715d84",
   "metadata": {},
   "outputs": [],
   "source": [
    "F_1 = 2 * np.arctanh(np.sqrt((e - 1)/(e + 1)) * np.tan(nu_1 / 2))"
   ]
  },
  {
   "cell_type": "markdown",
   "id": "71e3486e",
   "metadata": {},
   "source": [
    "Then, the mean anomaly is found from Kepler's equation, Eq. {eq}`eq:hyperbolic-keplers-equation`:"
   ]
  },
  {
   "cell_type": "code",
   "execution_count": 6,
   "id": "95879b41",
   "metadata": {},
   "outputs": [],
   "source": [
    "M_h1 = e * np.sinh(F_1) - F_1"
   ]
  },
  {
   "cell_type": "markdown",
   "id": "db3c6b95",
   "metadata": {},
   "source": [
    "Finally, calculating the time from the mean anomaly is done from the definition of the mean anomaly, Eq. {eq}`eq:hyperbolic-mean-anomaly`:"
   ]
  },
  {
   "cell_type": "code",
   "execution_count": 7,
   "id": "a1090c52",
   "metadata": {},
   "outputs": [],
   "source": [
    "t_1 = h**3 / mu**2 * 1 / (e**2 - 1)**(3/2) * M_h1"
   ]
  },
  {
   "cell_type": "code",
   "execution_count": 8,
   "id": "14313906",
   "metadata": {
    "tags": [
     "remove-cell"
    ]
   },
   "outputs": [
    {
     "data": {
      "text/plain": [
       "1.1504526327250846"
      ]
     },
     "metadata": {
      "scrapbook": {
       "mime_prefix": "application/papermill.record/",
       "name": "hyperbolic-time-since-perigee-t_1"
      }
     },
     "output_type": "display_data"
    }
   ],
   "source": [
    "glue(\"hyperbolic-time-since-perigee-t_1\", t_1 / 3600)"
   ]
  },
  {
   "cell_type": "markdown",
   "id": "e864234a",
   "metadata": {},
   "source": [
    "The total time is $t_1 =$ {glue:text}`hyperbolic-time-since-perigee-t_1:.2f` hr.\n",
    "\n",
    "## Given Time Since Perigee, Find True Anomaly\n",
    "\n",
    "Now, let's calculate the true anomaly 3 hours later, after about 4 total hours since perigee have elapsed. Again, there are three steps:\n",
    "\n",
    "1. Given time since perigee, $t$, calculate the hyperbolic mean anomaly, $M_h$\n",
    "2. Calculate the hyperbolic eccentric anomaly, $F$, from the hyperbolic mean anomaly\n",
    "3. Calculate the true anomaly, $\\nu$, from the hyperbolic eccentric anomaly\n",
    "\n",
    "Since we already have the orbital eccentricity and specific angular momentum, we can start by finding the mean anomaly at the time."
   ]
  },
  {
   "cell_type": "code",
   "execution_count": 9,
   "id": "aa6d20c6",
   "metadata": {},
   "outputs": [],
   "source": [
    "t_2 = 3 * 3600 + t_1  # sec\n",
    "M_h2 = mu**2 / h**3 * (e**2 - 1)**(3/2) * t_2"
   ]
  },
  {
   "cell_type": "code",
   "execution_count": 10,
   "id": "5a30ca86",
   "metadata": {
    "tags": [
     "remove-cell"
    ]
   },
   "outputs": [
    {
     "data": {
      "text/plain": [
       "4.150452632725084"
      ]
     },
     "metadata": {
      "scrapbook": {
       "mime_prefix": "application/papermill.record/",
       "name": "hyperbolic-time-since-perigee-t_2"
      }
     },
     "output_type": "display_data"
    }
   ],
   "source": [
    "glue(\"hyperbolic-time-since-perigee-t_2\", t_2 / 3600)"
   ]
  },
  {
   "cell_type": "markdown",
   "id": "9031e417",
   "metadata": {},
   "source": [
    "Now, we need to solve Kepler's equation to find the eccentric anomaly, $F$. Since the equation is transcendental in $F$, we need to use the Newton solver in SciPy. Since we know the derivative, we will define two Python functions:\n",
    "\n",
    "1. Kepler's equation, $f(F) = 0$\n",
    "2. The derivative of Kepler's equation with respect to $F$, $f'(F)$"
   ]
  },
  {
   "cell_type": "code",
   "execution_count": 11,
   "id": "4e189f88",
   "metadata": {},
   "outputs": [],
   "source": [
    "def kepler(F, M_h, e):\n",
    "    \"\"\"Kepler's equation, to be used in a Newton solver.\"\"\"\n",
    "    return e * np.sinh(F) - F - M_h\n",
    "\n",
    "def d_kepler_d_F(F, M_h, e):\n",
    "    \"\"\"The derivative of Kepler's equation, to be used in a Newton solver.\n",
    "    \n",
    "    Note that the argument M_h is unused, but must be present so the function\n",
    "    arguments are consistent with the kepler function.\n",
    "    \"\"\"\n",
    "    return e * np.cosh(F) - 1\n",
    "\n",
    "F_2 = newton(func=kepler, fprime=d_kepler_d_F, x0=np.pi, args=(M_h2, e))"
   ]
  },
  {
   "cell_type": "markdown",
   "id": "7897f18a",
   "metadata": {},
   "source": [
    "With this value for $F$, we can calculate the value for $\\nu$. To avoid quadrant ambiguity problems, we will use Eq. {eq}`eq:eccentric-anomaly-true-anomaly-hyperbola`."
   ]
  },
  {
   "cell_type": "code",
   "execution_count": 12,
   "id": "1dc38fdf",
   "metadata": {},
   "outputs": [],
   "source": [
    "sqrt_e = np.sqrt((e + 1) / (e - 1)) \n",
    "nu_2 = (2 * np.arctan(sqrt_e * np.tanh(F_2 / 2))) % (2 * np.pi)"
   ]
  },
  {
   "cell_type": "code",
   "execution_count": 13,
   "id": "c93f3d42",
   "metadata": {
    "tags": [
     "remove-cell"
    ]
   },
   "outputs": [
    {
     "data": {
      "text/plain": [
       "107.77984910601751"
      ]
     },
     "metadata": {
      "scrapbook": {
       "mime_prefix": "application/papermill.record/",
       "name": "hyperbolic-time-since-perigee-nu_2"
      }
     },
     "output_type": "display_data"
    }
   ],
   "source": [
    "glue(\"hyperbolic-time-since-perigee-nu_2\", np.degrees(nu_2))"
   ]
  },
  {
   "cell_type": "markdown",
   "id": "e5cd3911",
   "metadata": {},
   "source": [
    "Like for the ellipse, to convert $\\nu$ to the range $[0, 2\\pi)$, we take the modulus with $2\\pi$. In most programming languages, Python and MATLAB included, the `arctan` function returns a value between $-\\pi/2$ and $\\pi/2$. When the result is multiplied by 2, it gives the range from $-\\pi$ to $\\pi$. We need to transform this angle to be in the range of $0$ to $2\\pi$. To do so, we can take the **modulus** of the angle with $2\\pi$.\n",
    "\n",
    "The modulus is the remainder after division. In Python, the modulus operator is `%`, while in MATLAB, we have to use the function `mod(numerator, denominator)`. This works for both positive and negative numbers, and ensures that we get the correct angle for the appropriate quadrant.\n",
    "\n",
    "The true anomaly after {glue:text}`hyperbolic-time-since-perigee-t_2:.2f` hr is $\\nu_2 =$ {glue:text}`hyperbolic-time-since-perigee-nu_2:.2f`°.\n",
    "\n",
    "## Calculate the Speed of the Spacecraft\n",
    "\n",
    "To find the speed, we will calculate the velocity components. The radius at $\\nu_2 =$ {glue:text}`hyperbolic-time-since-perigee-nu_2:.2f`° can be found from the orbit equation, Eq. {eq}`eq:scalar-orbit-equation`."
   ]
  },
  {
   "cell_type": "code",
   "execution_count": 14,
   "id": "54a7ffdc",
   "metadata": {},
   "outputs": [],
   "source": [
    "r_2 = h**2 / mu / (1 + e * np.cos(nu_2))"
   ]
  },
  {
   "cell_type": "markdown",
   "id": "c8e99af8",
   "metadata": {},
   "source": [
    "The velocity components can be found from Eqs. {eq}`eq:perpendicular-velocity-component` and {eq}`eq:parallel-velocity-component`."
   ]
  },
  {
   "cell_type": "code",
   "execution_count": 15,
   "id": "53ca17ea",
   "metadata": {},
   "outputs": [],
   "source": [
    "v_perp = h / r_2\n",
    "v_r = mu / h * e * np.sin(nu_2)\n",
    "v_2 = np.sqrt(v_r**2 + v_perp**2)"
   ]
  },
  {
   "cell_type": "code",
   "execution_count": 16,
   "id": "742570f0",
   "metadata": {
    "tags": [
     "remove-cell"
    ]
   },
   "outputs": [
    {
     "data": {
      "text/plain": [
       "163183.52931231275"
      ]
     },
     "metadata": {
      "scrapbook": {
       "mime_prefix": "application/papermill.record/",
       "name": "hyperbolic-time-since-perigee-r_2"
      }
     },
     "output_type": "display_data"
    },
    {
     "data": {
      "text/plain": [
       "0.6138579084674921"
      ]
     },
     "metadata": {
      "scrapbook": {
       "mime_prefix": "application/papermill.record/",
       "name": "hyperbolic-time-since-perigee-v_perp"
      }
     },
     "output_type": "display_data"
    },
    {
     "data": {
      "text/plain": [
       "10.494430766953077"
      ]
     },
     "metadata": {
      "scrapbook": {
       "mime_prefix": "application/papermill.record/",
       "name": "hyperbolic-time-since-perigee-v_r"
      }
     },
     "output_type": "display_data"
    },
    {
     "data": {
      "text/plain": [
       "10.512368841234569"
      ]
     },
     "metadata": {
      "scrapbook": {
       "mime_prefix": "application/papermill.record/",
       "name": "hyperbolic-time-since-perigee-v_2"
      }
     },
     "output_type": "display_data"
    }
   ],
   "source": [
    "glue(\"hyperbolic-time-since-perigee-r_2\", r_2)\n",
    "glue(\"hyperbolic-time-since-perigee-v_perp\", v_perp)\n",
    "glue(\"hyperbolic-time-since-perigee-v_r\", v_r)\n",
    "glue(\"hyperbolic-time-since-perigee-v_2\", v_2)"
   ]
  },
  {
   "cell_type": "markdown",
   "id": "f67b2e36",
   "metadata": {},
   "source": [
    "The radius is $r_2 =$ {glue:text}`hyperbolic-time-since-perigee-r_2:.4E` km and the speed is $v_2 =$ {glue:text}`hyperbolic-time-since-perigee-v_2:.2f` km/s.\n",
    "\n",
    "## MATLAB Solution\n",
    "\n",
    "In MATLAB, the following code will give the same result:\n",
    "\n",
    "```matlab\n",
    "function kepler\n",
    "    mu = 3.986e5; % km^3/s^2\n",
    "    r_p = 300 + 6378; % km\n",
    "    v_p = 15; % km/s\n",
    "    h = r_p * v_p;\n",
    "    e = h^2 / (mu * r_p) - 1;\n",
    "    \n",
    "    nu_1 = deg2rad(100);\n",
    "    F_1 = 2 * atanh(sqrt((e - 1) / (e + 1)) * tan(nu_1 / 2));\n",
    "    M_h1 = e * sinh(F_1) - F_1;\n",
    "    t_1 = h^3 / mu^2 * 1 / (e^2 - 1)^(3 / 2) * M_h1;\n",
    "    \n",
    "    t_2 = t_1 + 3 * 3600;\n",
    "    M_h2 = mu^2 / h^3 * (e^2 - 1)^(3 / 2) * t_2;\n",
    "\n",
    "    function x = fun(F, M_h, e)\n",
    "        x = e * sinh(F) - F - M_h;\n",
    "    end\n",
    "\n",
    "    F_2 = fzero(@(x) fun(x, M_h2, e), [3, 4]);\n",
    "    t2 = 2 * atan(sqrt((e + 1) / (e - 1)) * tanh(F_2 / 2));\n",
    "    nu_2 = mod(t2, 2 * pi);\n",
    "    disp(rad2deg(nu_2))\n",
    "    \n",
    "    r_2 = h^2 / mu * 1 / (1 + e * cos(nu_2));\n",
    "    v_perp = h / r_2;\n",
    "    v_r = mu / h * e * sin(nu_2);\n",
    "    v = sqrt(v_perp^2 + v_r^2);\n",
    "    disp([v_perp, v_r, v])\n",
    "end\n",
    "```\n",
    "\n",
    "We are using `fzero()` again to solve Kepler's equation. I'm not sure how sensitive `fzero()` will be to the initial guess."
   ]
  }
 ],
 "metadata": {
  "jupytext": {
   "text_representation": {
    "extension": ".md",
    "format_name": "myst",
    "format_version": 0.13,
    "jupytext_version": "1.13.1"
   }
  },
  "kernelspec": {
   "display_name": "Python 3",
   "language": "python",
   "name": "python3"
  },
  "language_info": {
   "codemirror_mode": {
    "name": "ipython",
    "version": 3
   },
   "file_extension": ".py",
   "mimetype": "text/x-python",
   "name": "python",
   "nbconvert_exporter": "python",
   "pygments_lexer": "ipython3",
   "version": "3.9.16"
  },
  "source_map": [
   12,
   28,
   40,
   48,
   54,
   58,
   61,
   65,
   67,
   71,
   73,
   77,
   81,
   84,
   98,
   103,
   106,
   113,
   127,
   131,
   136,
   139,
   151,
   153,
   157,
   163,
   169
  ]
 },
 "nbformat": 4,
 "nbformat_minor": 5
}