{
 "cells": [
  {
   "cell_type": "markdown",
   "metadata": {},
   "source": [
    "# Example: Hyperbolic Trajectory\n",
    "\n",
    "## Problem Statement\n",
    "\n",
    "A geocentric trajectory has a perigee altitude of 300 km and a perigee velocity of 15 km/s. Calculate the time to fly from perigee to a true anomaly of $\\theta =$ 100°, and the position at that time. Then, calculate the true anomaly and speed 3 hr later.\n",
    "\n",
    "## Solution\n",
    "\n",
    "The first step in these problems is always to find the primary orbital parameters, $h$ and $e$. To find $h$, we can use the given perigee data:\n",
    "\n",
    "$$h = v_p r_p$$"
   ]
  },
  {
   "cell_type": "code",
   "execution_count": 1,
   "metadata": {},
   "outputs": [],
   "source": [
    "# %matplotlib notebook\n",
    "import numpy as np\n",
    "from scipy.optimize import newton\n",
    "import matplotlib.pyplot as plt\n",
    "from matplotlib.patches import Ellipse, Circle, Arc, Rectangle\n",
    "\n",
    "mu = 3.986004418E5 # km**3/s**2\n",
    "theta = np.radians(100)\n",
    "r_p = 300 + 6378  # km\n",
    "v_p = 15  # km/s"
   ]
  },
  {
   "cell_type": "code",
   "execution_count": 2,
   "metadata": {},
   "outputs": [
    {
     "name": "stdout",
     "output_type": "stream",
     "text": [
      "100170\n"
     ]
    }
   ],
   "source": [
    "h = r_p * v_p # km**2/s\n",
    "print(round(h, 2))"
   ]
  },
  {
   "cell_type": "markdown",
   "metadata": {},
   "source": [
    "To obtain $e$, we can use the orbit equation, evaluated at perigee ($\\theta =$ 0°):\n",
    "\n",
    "$$e = \\frac{h^2}{\\mu r} - 1$$"
   ]
  },
  {
   "cell_type": "code",
   "execution_count": 3,
   "metadata": {},
   "outputs": [
    {
     "name": "stdout",
     "output_type": "stream",
     "text": [
      "2.77\n"
     ]
    }
   ],
   "source": [
    "e = h**2 / (r_p * mu) - 1\n",
    "print(round(e, 3))"
   ]
  },
  {
   "cell_type": "markdown",
   "metadata": {},
   "source": [
    "Since $e > 1$, this trajectory is a hyperbola.\n",
    "\n",
    "We should find the true anomaly of the asymptote, to ensure that our desired true anomaly is valid:\n",
    "\n",
    "$$\\theta_{\\infty} = \\cos^{-1}\\left(-\\frac{1}{e}\\right)$$"
   ]
  },
  {
   "cell_type": "code",
   "execution_count": 4,
   "metadata": {},
   "outputs": [
    {
     "name": "stdout",
     "output_type": "stream",
     "text": [
      "1.94 111.166°\n"
     ]
    }
   ],
   "source": [
    "theta_inf = np.arccos(-1 / e)\n",
    "print(round(theta_inf, 3), f\"{np.degrees(theta_inf):.3F}°\")"
   ]
  },
  {
   "cell_type": "markdown",
   "metadata": {},
   "source": [
    "Therefore, our desired true anomaly is valid. Now, to find the time to fly to the true anomaly of 100°, we need to find $M_h$. $M_h$ is found from the hyperbolic eccentric anomaly, $F$, which is found from $\\theta$:\n",
    "\n",
    "$$F = 2 \\tanh^{-1}\\left(\\sqrt{\\frac{e - 1}{e + 1}}\\tan\\frac{\\theta}{2}\\right)$$"
   ]
  },
  {
   "cell_type": "code",
   "execution_count": 5,
   "metadata": {},
   "outputs": [
    {
     "name": "stdout",
     "output_type": "stream",
     "text": [
      "2.293 131.359°\n"
     ]
    }
   ],
   "source": [
    "F_1 = 2 * np.arctanh(np.sqrt((e - 1)/(e + 1)) * np.tan(theta / 2)) % (2 * np.pi)\n",
    "print(round(F_1, 3), f\"{np.degrees(F_1):.3F}°\")"
   ]
  },
  {
   "cell_type": "markdown",
   "metadata": {},
   "source": [
    "Like for the ellipse, to convert $F$ to the range $[0, 2\\pi)$, we take the modulus with $2\\pi$. In most programming languages, Python and MATLAB included, the `arctanh` function returns a value between $-\\pi/2$ and $\\pi/2$. When the result is multiplied by 2, it gives the range from $-\\pi$ to $\\pi$. We need to transform this angle to be in the range of $0$ to $2\\pi$. To do so, we can take the **modulus** of the angle with $2\\pi$.\n",
    "\n",
    "The modulus is the remainder after division. In Python, the modulus operator is `%`, while in MATLAB, we have to use the function `mod(numerator, denominator)`. This works for both positive and negative numbers, and ensures that we get the correct angle for the appropriate quadrant.\n",
    "\n",
    "Then, the mean anomaly is found from Kepler's equation:\n",
    "\n",
    "$$M_h = e \\sinh F - F$$"
   ]
  },
  {
   "cell_type": "code",
   "execution_count": 6,
   "metadata": {},
   "outputs": [
    {
     "name": "stdout",
     "output_type": "stream",
     "text": [
      "11.278 646.208°\n"
     ]
    }
   ],
   "source": [
    "M_h1 = e * np.sinh(F_1) - F_1\n",
    "print(round(M_h1, 3), f\"{np.degrees(M_h1):.3F}°\")"
   ]
  },
  {
   "cell_type": "markdown",
   "metadata": {},
   "source": [
    "Finally, calculating the time from the mean anomaly is done from the definition of the mean anomaly:\n",
    "\n",
    "$$t = \\frac{h^3}{\\mu^2}\\frac{1}{\\left(e^2 - 1\\right)^{3/2}} M_h$$"
   ]
  },
  {
   "cell_type": "code",
   "execution_count": 7,
   "metadata": {},
   "outputs": [
    {
     "name": "stdout",
     "output_type": "stream",
     "text": [
      "4141.437375116706 1.1503992708657516\n"
     ]
    }
   ],
   "source": [
    "t_1 = h**3 / mu**2 * 1 / (e**2 - 1)**(3/2) * M_h1\n",
    "print(t_1, t_1 / 3600)"
   ]
  },
  {
   "cell_type": "markdown",
   "metadata": {},
   "source": [
    "The total time is 4,141 seconds or just over 1 hour.\n",
    "\n",
    "Now, let's calculate the true anomaly 3 hours later, after about 4 total hours since perigee have elapsed. Since we already have the orbital eccentricity and specific angular momentum, we can start by finding the mean anomaly at that time."
   ]
  },
  {
   "cell_type": "code",
   "execution_count": 8,
   "metadata": {},
   "outputs": [
    {
     "name": "stdout",
     "output_type": "stream",
     "text": [
      "14941.437 40.69\n"
     ]
    }
   ],
   "source": [
    "t_2 = 3 * 3600 + t_1  # sec\n",
    "M_h2 = mu**2 / h**3 * (e**2 - 1)**(3/2) * t_2\n",
    "print(round(t_2, 3), round(M_h2, 3))"
   ]
  },
  {
   "cell_type": "markdown",
   "metadata": {},
   "source": [
    "Now, we need to solve Kepler's equation to find the eccentric anomaly, $F$. Since the equation is transcendental in $F$, we need to use the Newton solver in SciPy. Since we know the derivative, we will define two Python functions:\n",
    "\n",
    "1. Kepler's equation, $f(F) = 0$\n",
    "2. The derivative of Kepler's equation with respect to $F$, $f'(F)$"
   ]
  },
  {
   "cell_type": "code",
   "execution_count": 9,
   "metadata": {},
   "outputs": [
    {
     "name": "stdout",
     "output_type": "stream",
     "text": [
      "3.463\n"
     ]
    }
   ],
   "source": [
    "def kepler(F, M_h, e):\n",
    "    \"\"\"Kepler's equation, to be used in a Newton solver.\"\"\"\n",
    "    return e * np.sinh(F) - F - M_h\n",
    "\n",
    "def d_kepler_d_F(F, M_h, e):\n",
    "    \"\"\"The derivative of Kepler's equation, to be used in a Newton solver.\n",
    "    \n",
    "    Note that the argument M_h is unused, but must be present so the function\n",
    "    arguments are consistent with the kepler function.\n",
    "    \"\"\"\n",
    "    return e * np.cosh(F) - 1\n",
    "\n",
    "F_2 = newton(func=kepler, fprime=d_kepler_d_F, x0=np.pi, args=(M_h2, e))\n",
    "print(round(F_2, 3))"
   ]
  },
  {
   "cell_type": "markdown",
   "metadata": {},
   "source": [
    "With this value for $F$, we can calculate the value for $\\theta$. To avoid sign problems, we will use the tangent formula, rather than the cosine formula:\n",
    "\n",
    "$$\\tan\\frac{\\theta}{2} = \\sqrt{\\frac{e + 1}{e - 1}} \\tanh\\frac{F}{2}$$\n",
    "\n",
    "or\n",
    "\n",
    "$$\\theta = 2\\tan^{-1}\\sqrt{\\frac{e + 1}{e - 1}} \\tanh\\frac{F}{2}$$\n",
    "\n",
    "Note here that we have to apply the modulus operator again."
   ]
  },
  {
   "cell_type": "code",
   "execution_count": 10,
   "metadata": {},
   "outputs": [
    {
     "name": "stdout",
     "output_type": "stream",
     "text": [
      "1.881 107.780°\n"
     ]
    }
   ],
   "source": [
    "theta_2 = (2 * np.arctan(np.sqrt((e + 1) / (e - 1)) * np.tanh(F_2 / 2))) % (2 * np.pi)\n",
    "print(round(theta_2, 3), f\"{np.degrees(theta_2):.3F}°\")"
   ]
  },
  {
   "cell_type": "markdown",
   "metadata": {},
   "source": [
    "Then, the radius can be found from the orbit equation:\n",
    "\n",
    "$$r = \\frac{h^2}{\\mu}\\frac{1}{1 + e\\cos\\theta}$$"
   ]
  },
  {
   "cell_type": "code",
   "execution_count": 11,
   "metadata": {},
   "outputs": [
    {
     "name": "stdout",
     "output_type": "stream",
     "text": [
      "163180.0\n"
     ]
    }
   ],
   "source": [
    "r_2 = h**2 / mu * 1 / (1 + e * np.cos(theta_2))\n",
    "print(round(r_2, 0))"
   ]
  },
  {
   "cell_type": "markdown",
   "metadata": {},
   "source": [
    "The velocity components can be found from:\n",
    "\n",
    "$$v_{\\perp} = \\frac{h}{r}$$\n",
    "\n",
    "and\n",
    "\n",
    "$$v_{r} = \\frac{\\mu}{h} e \\sin\\theta$$\n",
    "\n",
    "and the speed is:\n",
    "\n",
    "$$v = \\sqrt{v_r^2 + v_{\\perp}^2}$$"
   ]
  },
  {
   "cell_type": "code",
   "execution_count": 12,
   "metadata": {},
   "outputs": [
    {
     "name": "stdout",
     "output_type": "stream",
     "text": [
      "0.614 10.494 10.512\n"
     ]
    }
   ],
   "source": [
    "v_perp = h / r_2\n",
    "v_r = mu / h * e * np.sin(theta_2)\n",
    "v = np.sqrt(v_r**2 + v_perp**2)\n",
    "print(round(v_perp, 3), round(v_r, 3), round(v, 3))"
   ]
  },
  {
   "cell_type": "markdown",
   "metadata": {},
   "source": [
    "### MATLAB Solution\n",
    "\n",
    "In MATLAB, the following code will give the same result:\n",
    "\n",
    "```matlab\n",
    "function kepler\n",
    "    mu = 3.986e5; % km^3/s^2\n",
    "    r_p = 300 + 6378; % km\n",
    "    v_p = 15; % km/s\n",
    "    h = r_p * v_p;\n",
    "    e = h^2 / (mu * r_p) - 1;\n",
    "    \n",
    "    theta_1 = deg2rad(100);\n",
    "    F_1 = 2 * atanh(sqrt((e - 1) / (e + 1)) * tan(theta_1 / 2));\n",
    "    M_h1 = e * sinh(F_1) - F_1;\n",
    "    t_1 = h^3 / mu^2 * 1 / (e^2 - 1)^(3 / 2) * M_h1;\n",
    "    \n",
    "    t_2 = t_1 + 3 * 3600;\n",
    "    M_h2 = mu^2 / h^3 * (e^2 - 1)^(3 / 2) * t_2;\n",
    "\n",
    "    function x = fun(F, M_h, e)\n",
    "        x = e * sinh(F) - F - M_h;\n",
    "    end\n",
    "\n",
    "    F_2 = fzero(@(x) fun(x, M_h2, e), [3, 4]);\n",
    "    t2 = 2 * atan(sqrt((e + 1) / (e - 1)) * tanh(F_2 / 2));\n",
    "    theta_2 = mod(t2, 2 * pi);\n",
    "    disp(rad2deg(theta_2))\n",
    "    \n",
    "    r_2 = h^2 / mu * 1 / (1 + e * cos(theta_2));\n",
    "    v_perp = h / r_2;\n",
    "    v_r = mu / h * e * sin(theta_2);\n",
    "    v = sqrt(v_perp^2 + v_r^2);\n",
    "    disp([v_perp, v_r, v])\n",
    "end\n",
    "```\n",
    "\n",
    "We are using `fzero()` again to solve Kepler's equation. I'm not sure how sensitive `fzero()` will be to the initial guess."
   ]
  }
 ],
 "metadata": {
  "celltoolbar": "Tags",
  "kernelspec": {
   "display_name": "Python 3",
   "language": "python",
   "name": "python3"
  },
  "language_info": {
   "codemirror_mode": {
    "name": "ipython",
    "version": 3
   },
   "file_extension": ".py",
   "mimetype": "text/x-python",
   "name": "python",
   "nbconvert_exporter": "python",
   "pygments_lexer": "ipython3",
   "version": "3.8.5"
  }
 },
 "nbformat": 4,
 "nbformat_minor": 4
}
