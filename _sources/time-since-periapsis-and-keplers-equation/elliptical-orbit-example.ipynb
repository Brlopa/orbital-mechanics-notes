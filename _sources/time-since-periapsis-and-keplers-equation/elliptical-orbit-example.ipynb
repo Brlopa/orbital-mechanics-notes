{
 "cells": [
  {
   "cell_type": "markdown",
   "id": "042620d1",
   "metadata": {},
   "source": [
    "# Example: Elliptical Orbit\n",
    "\n",
    "A geocentric elliptical orbit has a perigee radius of 9600 km and an apogee radius of 21,000 km. Calculate the time to fly from perigee to a true anomaly of $\\nu =$ 120°. Then, calculate the true anomaly 3 hr after perigee.\n",
    "\n",
    "## Given True Anomaly, Find Time Since Perigee\n",
    "\n",
    "The three steps of the solution procedure when we are given $\\nu$ and want to find $t$ are:\n",
    "\n",
    "1. Calculate the eccentric anomaly, $E$, from the true anomaly, $\\nu$\n",
    "2. Calculate the mean anomaly, $M_e$, from the eccentric anomaly\n",
    "3. Calculate the time since periapsis, $t$, from the mean anomaly\n",
    "\n",
    "To complete these steps, we require two other orbital elements besides the true anomaly:\n",
    "\n",
    "1. **eccentricity**, $e$\n",
    "2. **semimajor axis**, $a$\n",
    "\n",
    "Let's find $e$ first, since it is the only orbital element that appears in Eq. {eq}`eq:eccentric-anomaly-true-anomaly-ellipse` to find $E$. We can find $e$ directly using Eq. {eq}`eq:ellipse-eccentricity-periapsis-apoapsis`, repeated here for reference:\n",
    "\n",
    ":::{math}\n",
    "e = \\frac{r_a - r_p}{r_a + r_p}\n",
    ":::"
   ]
  },
  {
   "cell_type": "code",
   "execution_count": 1,
   "id": "7e2832f8",
   "metadata": {},
   "outputs": [],
   "source": [
    "# %matplotlib notebook\n",
    "import numpy as np\n",
    "from scipy.optimize import newton\n",
    "\n",
    "mu = 3.986004418E5  # km**3/s**2\n",
    "\n",
    "r_p = 9_600  # km\n",
    "r_a = 21_000  # km\n",
    "nu_1 = np.radians(120)\n",
    "e = (r_a - r_p)/(r_a + r_p)"
   ]
  },
  {
   "cell_type": "code",
   "execution_count": 2,
   "id": "2f74a63c",
   "metadata": {
    "tags": [
     "remove-cell"
    ]
   },
   "outputs": [
    {
     "data": {
      "text/plain": [
       "0.37254901960784315"
      ]
     },
     "metadata": {
      "scrapbook": {
       "mime_prefix": "application/papermill.record/",
       "name": "ellipse-time-since-periapsis-e"
      }
     },
     "output_type": "display_data"
    }
   ],
   "source": [
    "from functools import partial\n",
    "from myst_nb import glue as myst_glue\n",
    "glue = partial(myst_glue, display=False)\n",
    "glue(\"ellipse-time-since-periapsis-e\", e)"
   ]
  },
  {
   "cell_type": "markdown",
   "id": "130bdcd7",
   "metadata": {},
   "source": [
    "The eccentricity of this orbit is $e =$ {glue:text}`ellipse-time-since-periapsis-e:.4f`. Then, the eccentric anomaly found from Eq. {eq}`eq:eccentric-anomaly-true-anomaly-ellipse` is:"
   ]
  },
  {
   "cell_type": "code",
   "execution_count": 3,
   "id": "a65e2dad",
   "metadata": {},
   "outputs": [],
   "source": [
    "E_1 = 2 * np.arctan(np.sqrt((1 - e)/(1 + e)) * np.tan(nu_1 / 2))"
   ]
  },
  {
   "cell_type": "code",
   "execution_count": 4,
   "id": "6f5a6629",
   "metadata": {
    "tags": [
     "remove-cell"
    ]
   },
   "outputs": [
    {
     "data": {
      "text/plain": [
       "1.7280703972684424"
      ]
     },
     "metadata": {
      "scrapbook": {
       "mime_prefix": "application/papermill.record/",
       "name": "ellipse-time-since-perigee-E_1"
      }
     },
     "output_type": "display_data"
    }
   ],
   "source": [
    "glue(\"ellipse-time-since-perigee-E_1\", E_1)"
   ]
  },
  {
   "cell_type": "markdown",
   "id": "860a6d54",
   "metadata": {},
   "source": [
    "The eccentric anomaly is $E_1 =$ {glue:text}`ellipse-time-since-perigee-E_1:.2f` radians. The subscript 1 indicates this is the first part of this example.\n",
    "\n",
    "Now, to find the time to fly to the true anomaly of 120°, we need to find $M_e$. This is done with Kepler's equation, Eq. {eq}`eq:keplers-equation-ellipse`."
   ]
  },
  {
   "cell_type": "code",
   "execution_count": 5,
   "id": "b3d00226",
   "metadata": {},
   "outputs": [],
   "source": [
    "M_e1 = E_1 - e * np.sin(E_1)"
   ]
  },
  {
   "cell_type": "code",
   "execution_count": 6,
   "id": "95143683",
   "metadata": {
    "tags": [
     "remove-cell"
    ]
   },
   "outputs": [
    {
     "data": {
      "text/plain": [
       "1.3601194129958558"
      ]
     },
     "metadata": {
      "scrapbook": {
       "mime_prefix": "application/papermill.record/",
       "name": "ellipse-time-since-perigee-M_e1"
      }
     },
     "output_type": "display_data"
    }
   ],
   "source": [
    "glue(\"ellipse-time-since-perigee-M_e1\", M_e1)"
   ]
  },
  {
   "cell_type": "markdown",
   "id": "2fd2b392",
   "metadata": {},
   "source": [
    "The mean anomaly is $M_{e,1} =$ {glue:text}`ellipse-time-since-perigee-M_e1:.2f` radians. Finally, calculating the time from the mean anomaly requires the period."
   ]
  },
  {
   "cell_type": "code",
   "execution_count": 7,
   "id": "bdc81bb1",
   "metadata": {},
   "outputs": [],
   "source": [
    "a = (r_a + r_p) / 2\n",
    "T = 2 * np.pi / np.sqrt(mu) * a**(3 / 2)\n",
    "t_1 = M_e1 * T / (2 * np.pi)"
   ]
  },
  {
   "cell_type": "code",
   "execution_count": 8,
   "id": "687d8d67",
   "metadata": {
    "tags": [
     "remove-cell"
    ]
   },
   "outputs": [
    {
     "data": {
      "text/plain": [
       "15300.0"
      ]
     },
     "metadata": {
      "scrapbook": {
       "mime_prefix": "application/papermill.record/",
       "name": "ellipse-time-since-perigee-a"
      }
     },
     "output_type": "display_data"
    },
    {
     "data": {
      "text/plain": [
       "5.231733652520294"
      ]
     },
     "metadata": {
      "scrapbook": {
       "mime_prefix": "application/papermill.record/",
       "name": "ellipse-time-since-perigee-T"
      }
     },
     "output_type": "display_data"
    },
    {
     "data": {
      "text/plain": [
       "4077.043054361004"
      ]
     },
     "metadata": {
      "scrapbook": {
       "mime_prefix": "application/papermill.record/",
       "name": "ellipse-time-since-perigee-t_1"
      }
     },
     "output_type": "display_data"
    },
    {
     "data": {
      "text/plain": [
       "1.1325119595447233"
      ]
     },
     "metadata": {
      "scrapbook": {
       "mime_prefix": "application/papermill.record/",
       "name": "ellipse-time-since-perigee-t_1-hr"
      }
     },
     "output_type": "display_data"
    }
   ],
   "source": [
    "glue(\"ellipse-time-since-perigee-a\", a)\n",
    "glue(\"ellipse-time-since-perigee-T\", T / 3600)\n",
    "glue(\"ellipse-time-since-perigee-t_1\", t_1)\n",
    "glue(\"ellipse-time-since-perigee-t_1-hr\", t_1 / 3600)"
   ]
  },
  {
   "cell_type": "markdown",
   "id": "1fecf4db",
   "metadata": {},
   "source": [
    "The semimajor axis of the orbit is $a =$ {glue:text}`ellipse-time-since-perigee-a:.2f` km, the period is $T =$ {glue:text}`ellipse-time-since-perigee-T:.2f` hr, and the transit time is $t_1 =$ {glue:text}`ellipse-time-since-perigee-t_1-hr:.2f` hr.\n",
    "\n",
    "### MATLAB Solution\n",
    "\n",
    "In MATLAB, the following code will give the same result:\n",
    "\n",
    "```matlab\n",
    "function kepler\n",
    "    mu = 3.986e5; % km^3/s^2\n",
    "    rp = 9600; % km\n",
    "    ra = 21000; % km\n",
    "    e = (ra - rp)/(ra + rp);\n",
    "    a = (rp + ra)/2;\n",
    "    T = 2*pi/sqrt(mu)*a^(3/2);\n",
    "    nu1 = deg2rad(120);\n",
    "    E1 = 2*atan(sqrt((1-e)/(1+e))*tan(nu1/2));\n",
    "    Me1 = E1 - e*sin(E1);\n",
    "    t1 = Me1*T/(2*pi);\n",
    "    fprintf('t₁=%.2f hr\\n', t1/3600)\n",
    "end\n",
    "```\n",
    "\n",
    "## Given Time Since Perigee, Find True Anomaly\n",
    "\n",
    "Now, let's calculate the true anomaly about 2 hours later, after 3 total hours since perigee have elapsed. The steps for this process are:\n",
    "\n",
    "1. Using time since perigee, $t$, find the mean anomaly, $M_e$\n",
    "2. Using the mean anomaly, find the eccentric anomaly, $E$\n",
    "3. Using the eccentric anomaly, find the true anomaly, $\\nu$\n",
    "\n",
    "First, the mean anomaly. Since we already have the period of this orbit, we do not need to recalculate it."
   ]
  },
  {
   "cell_type": "code",
   "execution_count": 9,
   "id": "f0daa956",
   "metadata": {},
   "outputs": [],
   "source": [
    "t_2 = 3 * 3600  # hr\n",
    "M_e2 = 2 * np.pi * t_2 / T"
   ]
  },
  {
   "cell_type": "code",
   "execution_count": 10,
   "id": "31c2a272",
   "metadata": {
    "tags": [
     "remove-cell"
    ]
   },
   "outputs": [
    {
     "data": {
      "text/plain": [
       "3.6029272844305296"
      ]
     },
     "metadata": {
      "scrapbook": {
       "mime_prefix": "application/papermill.record/",
       "name": "ellipse-time-since-perigee-M_e2"
      }
     },
     "output_type": "display_data"
    }
   ],
   "source": [
    "glue(\"ellipse-time-since-perigee-M_e2\", M_e2)"
   ]
  },
  {
   "cell_type": "markdown",
   "id": "fef5ff94",
   "metadata": {},
   "source": [
    "The mean anomaly is $M_{e,2} =$ {glue:text}`ellipse-time-since-perigee-M_e2:.2f` radians. Now, we need to solve Kepler's equation to find the eccentric anomaly, $E$. Since the equation is transcendental in $E$, we need to use the Newton solver in SciPy. Since we know the derivative, we will define two Python functions:\n",
    "\n",
    "1. Kepler's equation, $f(E) = 0$\n",
    "2. The derivative of Kepler's equation with respect to $E$, $f'(E)$"
   ]
  },
  {
   "cell_type": "code",
   "execution_count": 11,
   "id": "cd506f12",
   "metadata": {},
   "outputs": [],
   "source": [
    "def kepler(E, M_e, e):\n",
    "    \"\"\"Kepler's equation, to be used in a Newton solver.\"\"\"\n",
    "    return E - e * np.sin(E) - M_e\n",
    "\n",
    "def d_kepler_d_E(E, M_e, e):\n",
    "    \"\"\"The derivative of Kepler's equation, to be used in a Newton solver.\n",
    "    \n",
    "    Note that the argument M_e is unused, but must be present so the function\n",
    "    arguments are consistent with the kepler function.\n",
    "    \"\"\"\n",
    "    return 1 - e * np.cos(E)\n",
    "\n",
    "E_2 = newton(func=kepler, fprime=d_kepler_d_E, x0=np.pi, args=(M_e2, e))"
   ]
  },
  {
   "cell_type": "code",
   "execution_count": 12,
   "id": "94dfc9ad",
   "metadata": {
    "tags": [
     "remove-cell"
    ]
   },
   "outputs": [
    {
     "data": {
      "text/plain": [
       "3.4794424731828038"
      ]
     },
     "metadata": {
      "scrapbook": {
       "mime_prefix": "application/papermill.record/",
       "name": "ellipse-time-since-perigee-E_2"
      }
     },
     "output_type": "display_data"
    }
   ],
   "source": [
    "glue(\"ellipse-time-since-perigee-E_2\", E_2)"
   ]
  },
  {
   "cell_type": "markdown",
   "id": "574ebc16",
   "metadata": {},
   "source": [
    "In the `newton()` function, we passed the function to solve, `kepler`, the derivative of that function, an initial guess, and the additional arguments. We chose $\\pi$ radians as the initial guess because it's in the middle of the expected range. The eccentric anomaly is $E_2 =$ {glue:text}`ellipse-time-since-perigee-E_2:.2f` radians.\n",
    "\n",
    "Now, we can calculate the value for $\\nu$. To avoid the quadrant ambiguity, we will use Eq. {eq}`eq:eccentric-anomaly-true-anomaly-ellipse`."
   ]
  },
  {
   "cell_type": "code",
   "execution_count": 13,
   "id": "f364b1f9",
   "metadata": {},
   "outputs": [],
   "source": [
    "sqrt_e_ratio = np.sqrt((1 + e) / (1 - e))\n",
    "nu_2 = (2 * np.arctan(sqrt_e_ratio * np.tan(E_2 / 2))) % (2 * np.pi)"
   ]
  },
  {
   "cell_type": "code",
   "execution_count": 14,
   "id": "2db24f61",
   "metadata": {
    "tags": [
     "remove-cell"
    ]
   },
   "outputs": [
    {
     "data": {
      "text/plain": [
       "193.15579284770817"
      ]
     },
     "metadata": {
      "scrapbook": {
       "mime_prefix": "application/papermill.record/",
       "name": "ellipse-time-since-perigee-nu_2"
      }
     },
     "output_type": "display_data"
    }
   ],
   "source": [
    "glue(\"ellipse-time-since-perigee-nu_2\", np.degrees(nu_2))"
   ]
  },
  {
   "cell_type": "markdown",
   "id": "f6d81c4c",
   "metadata": {},
   "source": [
    "The true anomaly after 3 hours since perigee passage is $\\nu_2 =$ {glue:text}`ellipse-time-since-perigee-nu_2:.2f`°.\n",
    "\n",
    "To convert $\\nu_2$ to the range $[0, 2\\pi)$, we take the modulus with $2\\pi$. In most programming languages, Python and MATLAB included, `arctan()` returns a value between $-\\pi/2$ and $\\pi/2$. When the result is multiplied by 2, it gives the range from $-\\pi$ to $\\pi$. We want to transform this angle to be in the range of $0$ to $2\\pi$. To do so, we take the **modulus** of the angle with $2\\pi$.\n",
    "\n",
    "The modulus is the remainder after division. In Python, the modulus operator is `%`, while in MATLAB, we have to use the function `mod(numerator, denominator)`. This works for both positive and negative numbers, and ensures that we get the correct angle for the appropriate quadrant.\n",
    "\n",
    "### MATLAB Solution\n",
    "\n",
    "In MATLAB, the following code will give the same result:\n",
    "\n",
    "```matlab\n",
    "function kepler\n",
    "    mu = 3.986e5; % km^3/s^2\n",
    "    rp = 9600; % km\n",
    "    ra = 21000; % km\n",
    "    e = (ra - rp)/(ra + rp);\n",
    "    a = (rp + ra)/2;\n",
    "    T = 2 * pi / sqrt(mu) * a^(3/2);\n",
    "    t2 = 3 * 3600; % sec\n",
    "    Me2 = 2 * pi * t_2 / T;\n",
    "\n",
    "    function x = fun(E, M_e, e)\n",
    "        x = E - e * sin(E) - M_e;\n",
    "    end\n",
    "\n",
    "    E2 = fzero(@(x) fun(x, M_e, e), [0, 2*pi]);\n",
    "    nu2 = 2 * atan(sqrt((1 + e) / (1 - e)) * tan(E / 2));\n",
    "    nu2 = mod(nu2, 2 * pi);\n",
    "    fprintf('nu₂=%.2f°\\n', rad2deg(nu2))\n",
    "end\n",
    "```\n",
    "\n",
    "We are using `fzero()` again to solve Kepler's equation. I'm not sure how sensitive `fzero()` will be to the initial guess."
   ]
  },
  {
   "cell_type": "markdown",
   "id": "3986563e",
   "metadata": {},
   "source": [
    "{numref}`fig:ellipse-time-since-perigee-figure` shows a plot of this orbit."
   ]
  },
  {
   "cell_type": "code",
   "execution_count": 15,
   "id": "aab1da69",
   "metadata": {
    "tags": [
     "remove-cell"
    ]
   },
   "outputs": [
    {
     "data": {
      "image/png": "[encoded data removed]",
      "text/plain": [
       "<Figure size 600x600 with 1 Axes>"
      ]
     },
     "metadata": {
      "filenames": {
       "image/png": "/home/runner/work/orbital-mechanics-notes/orbital-mechanics-notes/_build/jupyter_execute/time-since-periapsis-and-keplers-equation/elliptical-orbit-example_23_0.png"
      },
      "scrapbook": {
       "mime_prefix": "application/papermill.record/",
       "name": "ellipse-time-since-perigee-figure"
      }
     },
     "output_type": "display_data"
    },
    {
     "data": {
      "image/png": "[encoded data removed]",
      "text/plain": [
       "<Figure size 600x600 with 1 Axes>"
      ]
     },
     "metadata": {
      "filenames": {
       "image/png": "/home/runner/work/orbital-mechanics-notes/orbital-mechanics-notes/_build/jupyter_execute/time-since-periapsis-and-keplers-equation/elliptical-orbit-example_23_1.png"
      },
      "needs_background": "light"
     },
     "output_type": "display_data"
    }
   ],
   "source": [
    "import matplotlib.pyplot as plt\n",
    "from matplotlib.patches import Ellipse, Circle, Arc, Rectangle\n",
    "fig, ax = plt.subplots(figsize=(3, 3), dpi=200)\n",
    "ax.set_aspect(\"equal\")\n",
    "ax.axis(\"off\")\n",
    "\n",
    "b = a * np.sqrt(1 - e**2)\n",
    "ax.add_patch(Ellipse((0, 0), 2*a, 2*b, facecolor=\"None\", edgecolor=\"black\"))\n",
    "ellipse_focus = np.sqrt(a**2 - b**2)\n",
    "ax.add_patch(Circle((ellipse_focus, 0), 6378, facecolor=\"skyblue\"))\n",
    "ax.add_patch(Arc((ellipse_focus, 0), a, a, theta2=np.degrees(nu_2)))\n",
    "ax.add_patch(Arc((ellipse_focus, 0), 1.15*a, 1.15*a, theta2=np.degrees(nu_1)))\n",
    "ax.annotate(f\"{np.degrees(nu_1):.0F}°\", xy=(ellipse_focus, 10000))\n",
    "ax.annotate(f\"{np.degrees(nu_2):.2F}°\", xy=(-5000, 5000))\n",
    "ax.plot((-a, a), (0, 0), color=\"k\", lw=0.5)\n",
    "r_1 = a * (1 - e**2) / (1 + e * np.cos(nu_1))\n",
    "x_1 = r_1 * np.cos(nu_1) + ellipse_focus\n",
    "y_1 = r_1 * np.sin(nu_1)\n",
    "r_2 = a * (1 - e**2) / (1 + e * np.cos(nu_2))\n",
    "x_2 = r_2 * np.cos(nu_2) + ellipse_focus\n",
    "y_2 = r_2 * np.sin(nu_2)\n",
    "ax.plot((ellipse_focus, x_1), (0, y_1), \"ko-\")\n",
    "ax.annotate(\"$t_1$\", xy=(x_1, y_1 + 500), ha=\"center\", va=\"bottom\")\n",
    "ax.plot((ellipse_focus, x_2), (0, y_2), \"ko-\")\n",
    "ax.annotate(\"$t_2$\", xy=(x_2 - 500, y_2), ha=\"right\", va=\"center\")\n",
    "ax.annotate(\"Earth\", xy=(ellipse_focus, -5000), ha=\"center\", va=\"center\");\n",
    "glue(\"ellipse-time-since-perigee-figure\", fig)"
   ]
  },
  {
   "cell_type": "markdown",
   "id": "03354a1e",
   "metadata": {},
   "source": [
    ":::{glue:figure} ellipse-time-since-perigee-figure\n",
    ":name: fig:ellipse-time-since-perigee-figure\n",
    "\n",
    "The orbit in this example showing the two time points, at 120° true anomaly and 3 hours after perigee.\n",
    ":::"
   ]
  }
 ],
 "metadata": {
  "jupytext": {
   "text_representation": {
    "extension": ".md",
    "format_name": "myst",
    "format_version": 0.13,
    "jupytext_version": "1.13.1"
   }
  },
  "kernelspec": {
   "display_name": "Python 3",
   "language": "python",
   "name": "python3"
  },
  "language_info": {
   "codemirror_mode": {
    "name": "ipython",
    "version": 3
   },
   "file_extension": ".py",
   "mimetype": "text/x-python",
   "name": "python",
   "nbconvert_exporter": "python",
   "pygments_lexer": "ipython3",
   "version": "3.9.16"
  },
  "source_map": [
   12,
   37,
   50,
   56,
   60,
   64,
   67,
   73,
   77,
   80,
   84,
   90,
   96,
   130,
   135,
   138,
   145,
   161,
   164,
   170,
   175,
   178,
   214,
   218,
   247
  ]
 },
 "nbformat": 4,
 "nbformat_minor": 5
}