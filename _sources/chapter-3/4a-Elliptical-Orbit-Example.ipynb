{
 "cells": [
  {
   "cell_type": "markdown",
   "metadata": {},
   "source": [
    "# Example: Elliptical Orbit\n",
    "\n",
    "## Problem Statement\n",
    "\n",
    "A geocentric elliptical orbit has a perigee radius of 9600 km and an apogee radius of 21,000 km. Calculate the time to fly from perigee to a true anomaly of $\\theta =$ 120°. Then, calculate the true anomaly 3 hr after perigee.\n",
    "\n",
    "## Solution\n",
    "\n",
    "The first step in these problems is always to find the primary orbital parameters, $h$ and $e$. To obtain $e$, we can use the equation in terms of the distances to perigee and apogee, Eq. {eq}`ellipse-eccentricity-periapsis-apoapsis`:\n",
    "\n",
    "$$e = \\frac{r_a - r_p}{r_a + r_p}$$"
   ]
  },
  {
   "cell_type": "code",
   "execution_count": 1,
   "metadata": {},
   "outputs": [],
   "source": [
    "import numpy as np\n",
    "from scipy.optimize import newton\n",
    "\n",
    "mu = 3.986004418E5 # km**3/s**2\n",
    "theta = np.radians(120)"
   ]
  },
  {
   "cell_type": "code",
   "execution_count": 2,
   "metadata": {},
   "outputs": [
    {
     "name": "stdout",
     "output_type": "stream",
     "text": [
      "0.3725\n"
     ]
    }
   ],
   "source": [
    "r_p = 9600  # km\n",
    "r_a = 21_000 # km\n",
    "e = (r_a - r_p)/(r_a + r_p)\n",
    "print(round(e, 4))"
   ]
  },
  {
   "cell_type": "markdown",
   "metadata": {},
   "source": [
    "Then, the specific angular momentum is obtained from the orbit equation, solved for either the apogee or perigee radius:\n",
    "\n",
    "$$h = \\sqrt{r_p \\mu \\left(1 + e\\right)}$$"
   ]
  },
  {
   "cell_type": "code",
   "execution_count": 3,
   "metadata": {},
   "outputs": [
    {
     "name": "stdout",
     "output_type": "stream",
     "text": [
      "72471.7\n"
     ]
    }
   ],
   "source": [
    "h = np.sqrt(r_p * mu * (1 + e))\n",
    "print(round(h, 2))"
   ]
  },
  {
   "cell_type": "markdown",
   "metadata": {},
   "source": [
    "Now, to find the time to fly to the true anomaly of 120°, we need to find $M_e$. $M_e$ is found from the eccentric anomaly, $E$, which is found from $\\theta$:\n",
    "\n",
    "$$E = 2 \\tan^{-1}\\left(\\sqrt{\\frac{1 - e}{1 + e}}\\tan\\frac{\\theta}{2}\\right)$$"
   ]
  },
  {
   "cell_type": "code",
   "execution_count": 4,
   "metadata": {},
   "outputs": [
    {
     "name": "stdout",
     "output_type": "stream",
     "text": [
      "1.728 99.011°\n"
     ]
    }
   ],
   "source": [
    "E = 2 * np.arctan(np.sqrt((1 - e)/(1 + e)) * np.tan(theta / 2))\n",
    "print(round(E, 3), f\"{np.degrees(E):.3F}°\")"
   ]
  },
  {
   "cell_type": "markdown",
   "metadata": {},
   "source": [
    "Then, the mean anomaly is found from Kepler's equation:\n",
    "\n",
    "$$M_e = E - e\\sin E$$"
   ]
  },
  {
   "cell_type": "code",
   "execution_count": 5,
   "metadata": {},
   "outputs": [
    {
     "name": "stdout",
     "output_type": "stream",
     "text": [
      "1.36\n"
     ]
    }
   ],
   "source": [
    "M_e = E - e * np.sin(E)\n",
    "print(round(M_e, 3))"
   ]
  },
  {
   "cell_type": "markdown",
   "metadata": {},
   "source": [
    "Finally, calculating the time from the mean anomaly requires the period. The period requires the semimajor axis, $a$:\n",
    "\n",
    "$$a = \\frac{r_p}{1 - e}$$\n",
    "\n",
    "and\n",
    "\n",
    "$$T = \\frac{2\\pi}{\\sqrt{\\mu}}a^{3/2}$$\n",
    "\n",
    "or Kepler's third law. Then, the time to the true anomaly of 120° is:\n",
    "\n",
    "$$t = \\frac{M_e T}{2 \\pi}$$"
   ]
  },
  {
   "cell_type": "code",
   "execution_count": 6,
   "metadata": {},
   "outputs": [
    {
     "name": "stdout",
     "output_type": "stream",
     "text": [
      "15300.0 18834.24114907306 4077.043054361004 1.1325119595447233\n"
     ]
    }
   ],
   "source": [
    "a = r_p / (1 - e)\n",
    "T = 2 * np.pi / np.sqrt(mu) * a**(3 / 2)\n",
    "t = M_e * T / (2 * np.pi)\n",
    "print(a, T, t, t / 3600)"
   ]
  },
  {
   "cell_type": "markdown",
   "metadata": {},
   "source": [
    "The total time is 4,077 seconds or just over 1 hour.\n",
    "\n",
    "Now, let's calculate the true anomaly about 2 hours later, after 3 total hours since perigee have elapsed. Since we already have the orbital eccentricity and specific angular momentum, we can start by finding the mean anomaly after 3 hours."
   ]
  },
  {
   "cell_type": "code",
   "execution_count": 7,
   "metadata": {},
   "outputs": [
    {
     "name": "stdout",
     "output_type": "stream",
     "text": [
      "3.603\n"
     ]
    }
   ],
   "source": [
    "t = 3  # hr\n",
    "M_e = 2 * np.pi * t * 3600 / T\n",
    "print(round(M_e, 3))"
   ]
  },
  {
   "cell_type": "markdown",
   "metadata": {},
   "source": [
    "Now, we need to solve Kepler's equation to find the eccentric anomaly, $E$. Since the equation is transcendental in $E$, we need to use the Newton solver in SciPy. Since we know the derivative, we will define two Python functions:\n",
    "\n",
    "1. Kepler's equation, $f(E) = 0$\n",
    "2. The derivative of Kepler's equation with respect to $E$, $f'(E)$"
   ]
  },
  {
   "cell_type": "code",
   "execution_count": 8,
   "metadata": {},
   "outputs": [
    {
     "name": "stdout",
     "output_type": "stream",
     "text": [
      "3.479\n"
     ]
    }
   ],
   "source": [
    "def kepler(E, M_e, e):\n",
    "    \"\"\"Kepler's equation, to be used in a Newton solver.\"\"\"\n",
    "    return E - e * np.sin(E) - M_e\n",
    "\n",
    "def d_kepler_d_E(E, M_e, e):\n",
    "    \"\"\"The derivative of Kepler's equation, to be used in a Newton solver.\n",
    "    \n",
    "    Note that the argument M_e is unused, but must be present so the function\n",
    "    arguments are consistent with the kepler function.\n",
    "    \"\"\"\n",
    "    return 1 - e * np.cos(E)\n",
    "\n",
    "E = newton(func=kepler, fprime=d_kepler_d_E, x0=np.pi, args=(M_e, e))\n",
    "print(round(E, 3))"
   ]
  },
  {
   "cell_type": "markdown",
   "metadata": {},
   "source": [
    "With this value for $E$, we can calculate the value for $\\theta$. To avoid sign problems, we will use the tangent formula:\n",
    "\n",
    "$$\\tan\\frac{\\theta}{2} = \\sqrt{\\frac{1 + e}{1 - e}} \\tan\\frac{E}{2}$$\n",
    "\n",
    "or\n",
    "\n",
    "$$\\theta = 2\\tan^{-1}\\sqrt{\\frac{1 + e}{1 - e}} \\tan\\frac{E}{2}$$\n",
    "\n",
    "In most programming languages, Python and MATLAB included, the `arctan` function returns a value between $-\\pi/2$ and $\\pi/2$. When the result is multiplied by 2, it gives the range from $-\\pi$ to $\\pi$. We need to transform this angle to be in the range of $0$ to $2\\pi$. To do so, we can take the **modulus** of the angle with $2\\pi$.\n",
    "\n",
    "The modulus is the remainder after division. In Python, the modulus operator is `%`, while in MATLAB, we have to use the function `mod(numerator, denominator)`. This works for both positive and negative numbers, and ensures that we get the correct angle for the appropriate quadrant.\n",
    "\n",
    "Note that this means we do not need to use the `arctan2` function, which we can't really use anyways since we have an angle instead of two points in the coordinate system."
   ]
  },
  {
   "cell_type": "code",
   "execution_count": 9,
   "metadata": {},
   "outputs": [
    {
     "name": "stdout",
     "output_type": "stream",
     "text": [
      "3.371 193.156°\n"
     ]
    }
   ],
   "source": [
    "theta = (2 * np.arctan(np.sqrt((1 + e) / (1 - e)) * np.tan(E / 2))) % (2 * np.pi)\n",
    "print(round(theta, 3), f\"{np.degrees(theta):.3F}°\")"
   ]
  }
 ],
 "metadata": {
  "kernelspec": {
   "display_name": "Python 3",
   "language": "python",
   "name": "python3"
  },
  "language_info": {
   "codemirror_mode": {
    "name": "ipython",
    "version": 3
   },
   "file_extension": ".py",
   "mimetype": "text/x-python",
   "name": "python",
   "nbconvert_exporter": "python",
   "pygments_lexer": "ipython3",
   "version": "3.8.5"
  }
 },
 "nbformat": 4,
 "nbformat_minor": 4
}
