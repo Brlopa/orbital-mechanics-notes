{
 "cells": [
  {
   "cell_type": "markdown",
   "id": "86dae68d",
   "metadata": {},
   "source": [
    "# Chapter 3.6 - Hyperbolic Trajectories ($e > 1$)\n",
    "\n",
    "For the hyperbola, we identify $a = 1$ and $b = e > 1$, so the appropriate integral is then the third one:\n",
    "\n",
    "$$\\int\\frac{dx}{\\left(a + b\\cos x\\right)^2} = \\frac{1}{\\left(b^2 - a^2\\right)^{3/2}}\\left[\\frac{b\\sqrt{b^2 - a^2}\\sin x}{a + b\\cos x} - a\\ln\\left(\\frac{\\sqrt{b + a} + \\sqrt{b - a}\\tan\\frac{x}{2}}{\\sqrt{b + a} - \\sqrt{b - a}\\tan\\frac{x}{2}}\\right)\\right]$$\n",
    "\n",
    "## Mean Anomaly\n",
    "\n",
    "Defining the mean anomaly for the hyperbola as\n",
    "\n",
    "$$M_h = \\frac{\\mu^2}{h^3} t \\left(e^2 - 1\\right)^{3/2}$$\n",
    "\n",
    "we can write\n",
    "\n",
    "$$M_h = \\frac{e\\sqrt{e^2 - 1}\\sin\\theta}{1 + e\\cos\\theta} - \\ln\\left[\\frac{\\sqrt{e + 1} + \\sqrt{e - 1}\\tan\\frac{\\theta}{2}}{\\sqrt{e + 1} - \\sqrt{e - 1}\\tan\\frac{\\theta}{2}}\\right]$$(mean-anomaly-hyperbola)"
   ]
  },
  {
   "cell_type": "code",
   "execution_count": null,
   "id": "754e18ad",
   "metadata": {
    "tags": [
     "remove-input"
    ]
   },
   "outputs": [],
   "source": [
    "import matplotlib.pyplot as plt\n",
    "from matplotlib.ticker import (MultipleLocator, FuncFormatter,\n",
    "                               AutoMinorLocator)\n",
    "import numpy as np\n",
    "plt.rc(\"font\", size=20)\n",
    "\n",
    "fig, ax = plt.subplots(figsize=(12, 9))\n",
    "ax.set_ylabel(\"$M_h$\")\n",
    "ax.set_xlabel(r\"$\\theta$\")\n",
    "ax.set_xlim(0, np.pi)\n",
    "e_vals = [1.1, 1.5, 2.0, 3.0, 5.0]\n",
    "ax.xaxis.set_major_locator(MultipleLocator(base=np.pi / 2))\n",
    "ax.xaxis.set_major_formatter(FuncFormatter(lambda val, pos: {0: \"0\", np.pi/2: r\"$\\pi$/2\", np.pi: r\"$\\pi$\"}.get(val, \"\")))\n",
    "ax.xaxis.set_minor_locator(AutoMinorLocator(n=10))\n",
    "ax.xaxis.grid(which=\"both\")\n",
    "ax.yaxis.grid(which=\"major\")\n",
    "for e in e_vals:\n",
    "    theta_inf = np.arccos(-1 / e)\n",
    "    theta = np.linspace(0.1, theta_inf - 0.001)\n",
    "    M_h = e * np.sqrt(e**2 - 1) * np.sin(theta) / (1 + e * np.cos(theta))\n",
    "    sqrt_e_p_1 = np.sqrt(e + 1)\n",
    "    sqrt_e_m_1_t = np.sqrt(e - 1) * np.tan(theta / 2)\n",
    "    M_h -= np.log((sqrt_e_p_1 + sqrt_e_m_1_t) / (sqrt_e_p_1 - sqrt_e_m_1_t))\n",
    "    ax.semilogy(theta, M_h, label=f\"$e$ = {e}\")\n",
    "ax.legend();"
   ]
  },
  {
   "cell_type": "markdown",
   "id": "a466d7f3",
   "metadata": {},
   "source": [
    "Notice that $\\theta$ cannot exceed $\\theta_{\\infty} = \\cos^{-1}(-1 / e)$.\n",
    "\n",
    "## Hyperbolic Eccentric Anomaly\n",
    "\n",
    "Similar to the ellipse, we will define an auxiliary angle $F$ to simplify the equations. $F$ is defined with reference to the hyperbola below."
   ]
  },
  {
   "cell_type": "code",
   "execution_count": null,
   "id": "cf0a00dc",
   "metadata": {
    "tags": [
     "remove-input"
    ]
   },
   "outputs": [],
   "source": [
    "fig, ax = plt.subplots(figsize=(12, 9))\n",
    "ax.set_aspect(\"auto\")\n",
    "\n",
    "ax.spines[\"top\"].set_visible(False)\n",
    "ax.spines[\"right\"].set_visible(False)\n",
    "ax.xaxis.set_tick_params(bottom=False, top=False, which=\"both\", labelbottom=False)\n",
    "ax.yaxis.set_tick_params(left=False, right=False, which=\"both\", labelleft=False)\n",
    "\n",
    "# Move remaining spines to the center\n",
    "ax.spines[\"bottom\"].set_position(\"zero\")  # spine for xaxis\n",
    "ax.spines[\"left\"].set_position(\"zero\")  # spine for yaxis\n",
    "\n",
    "e = 1.5\n",
    "theta_inf = np.arccos(-1 / e)\n",
    "a = 1\n",
    "b = a * np.sqrt(e ** 2 - 1)\n",
    "r_p = a * (e - 1)\n",
    "x_a = 100 * np.cos(theta_inf)\n",
    "y_a = 100 * np.sin(theta_inf)\n",
    "\n",
    "ax.set_xlim(-4, 4)\n",
    "ax.set_ylim(-3, 3)\n",
    "\n",
    "x = np.linspace(a, 3 * a, 100)\n",
    "y = b / a * np.sqrt(x ** 2 - a ** 2)\n",
    "ax.plot(np.hstack((-x[::-1], -x)), np.hstack((y[::-1], -y)))\n",
    "ax.plot((x_a, -x_a), (y_a, -y_a), ls=\"--\", color=\"C1\")\n",
    "ax.plot((-x_a, x_a), (y_a, -y_a), ls=\"--\", color=\"C1\")\n",
    "\n",
    "t = np.radians(100)\n",
    "r = a * (e ** 2 - 1) / (1 + e * np.cos(t))\n",
    "x_1 = -a - r_p + r * np.cos(t)\n",
    "y_1 = r * np.sin(t)\n",
    "hyperbola_focus = -a - r_p\n",
    "ax.plot((hyperbola_focus, x_1), (0, y_1), \"k-o\")\n",
    "ax.plot((-a, -a), (0, b), \"ko-\", markersize=5)\n",
    "ax.annotate(\"\", xy=(-2*a - r_p, 0), xytext=(-2*a - r_p, y_1), arrowprops={\"arrowstyle\": \"<->\"})\n",
    "ax.annotate(\"$y$\", xy=(-2*a - r_p, y_1/2), backgroundcolor=\"white\", ha=\"center\", va=\"center\")\n",
    "ax.plot((-2*a - r_p - 0.1, x_1 - 0.1), (y_1, y_1), color=\"black\", lw=0.5)\n",
    "ax.annotate(\"\", xy=(0, 2*b), xytext=(x_1, 2*b), arrowprops={\"arrowstyle\": \"<->\"})\n",
    "ax.annotate(\"$x$\", xy=(x_1/2, 2*b), backgroundcolor=\"white\", ha=\"center\", va=\"center\")\n",
    "ax.plot((x_1, x_1), (2*b + 0.1, y_1 + 0.1), color=\"black\", lw=0.5)\n",
    "ax.annotate(\"$b$\", xy=(-a, b/2), ha=\"left\", va=\"center\")\n",
    "ax.annotate(\"\", xy=(0, -0.2), xytext=(-a, -0.2), arrowprops={\"arrowstyle\": \"<->\"})\n",
    "ax.annotate(\"$a$\", xy=(-a/2, -0.2), ha=\"center\", va=\"center\", backgroundcolor=\"white\")\n",
    "ax.annotate(\"\", xy=(-a, -0.2), xytext=(-a - r_p, -0.2), arrowprops={\"arrowstyle\": \"<->\"})\n",
    "ax.annotate(\"$r_p$\", xy=(-a - r_p/2, -0.2), ha=\"center\", va=\"center\", backgroundcolor=\"white\")\n",
    "ax.plot((-a - r_p, -a - r_p), (-0.1, -0.3), lw=0.5, color=\"black\")\n",
    "ax.plot((-a , -a), (-0.1, -0.3), lw=0.5, color=\"black\")\n",
    "ax.annotate(\"$r$\", xy=((x_1 + hyperbola_focus) / 2, y_1 / 2), ha=\"right\", va=\"top\")\n",
    "ax.annotate(\"$C$\", xy=(0, 0.2), va=\"bottom\", ha=\"center\", backgroundcolor=\"white\");"
   ]
  },
  {
   "cell_type": "markdown",
   "id": "f7ad76e3",
   "metadata": {},
   "source": [
    "Now, let's define the ratio $y/b$ as the hyperbolic sine of the angle $F$:\n",
    "\n",
    "$$\\sinh F = \\frac{y}{b}$$\n",
    "\n",
    "Then, because\n",
    "\n",
    "$$\\cosh^2 x - \\sinh^2 x = 1$$\n",
    "\n",
    "we can also define\n",
    "\n",
    "$$\\cosh F = \\frac{x}{a}$$\n",
    "\n",
    "```{note}\n",
    "The hyperbolic angle $F$ is weird. The reason we don't draw it on the figure is because hyperbolic angles aren't angles _per se_. Instead, they can be interpreted as half the area between the $x$-axis and a line drawn from the origin to the point of interest, bounded by the hyperbola. I think. At least, that's my best interpretation from what I've been able to read. YMMV.\n",
    "\n",
    "Another way of thinking about this is by analogy to a circle. For a circle, we can draw any two lines from the center of the circle to the perimeter. These two lines will have an angle $\\phi$ between them, and the area between them will be:\n",
    "\n",
    "$$A_{\\text{circular sector}} = \\frac{r^2 \\phi}{2}$$\n",
    "\n",
    "![Circular Sector](../images/Circle_arc.svg)\n",
    "\n",
    "The area is called a **circular sector**. The image is modified from [Wikimedia](https://en.wikipedia.org/wiki/File:Circle_arc.svg).\n",
    "\n",
    "If the circle is a unit circle ($r = 1$), then the area of the sector will be equal to the angle divided by two. Turned around, the angle is equal to twice the area:\n",
    "\n",
    "$$\\phi = \\frac{2A}{1^2}$$\n",
    "\n",
    "Similarly, we can define the hyperbolic angle on the unit hyperbola as twice the area between two lines that start at the origin and touch the hyperbola, called a **hyperbolic sector**.\n",
    "\n",
    "![Hyperbolic Sector](../images/Hyperbolic_functions-2.svg)\n",
    "\n",
    "The area of the hyperbolic sector is half the hyperbolic angle. However, the circular angle between the $x$-axis and the ray from the origin is not the same as the hyperbolic angle.\n",
    "\n",
    "You can read more about hyperbolic angles on [Brilliant](https://brilliant.org/wiki/hyperbolic-trigonometric-functions/) and on [Wikipedia](https://en.wikipedia.org/wiki/Hyperbolic_angle).\n",
    "```\n",
    "\n",
    "We can relate $F$ to the true anomaly $\\theta$ by plugging in $y = r\\sin\\theta$, and the orbit equation for $r$. We also note that $b = a\\sqrt{e^2 - 1}$. Then:\n",
    "\n",
    "$$F = \\sinh^{-1}\\left(\\frac{\\sin\\theta\\sqrt{e^2 - 1}}{1 + e\\cos\\theta}\\right) = \\ln\\left(\\frac{\\sin\\theta\\sqrt{e^2 - 1} + \\cos\\theta + e}{1 + e\\cos\\theta}\\right)$$\n",
    "\n",
    "After some more trigonometry and algebra, we find:\n",
    "\n",
    "$$F= \\ln\\left[\\frac{\\sqrt{e + 1} + \\sqrt{e - 1}\\tan\\frac{\\theta}{2}}{\\sqrt{e + 1} - \\sqrt{e - 1}\\tan\\frac{\\theta}{2}}\\right]$$\n",
    "\n",
    "Substituting this back into Eq. {eq}`mean-anomaly-hyperbola`, we find **Kepler's equation for the hyperbola**:\n",
    "\n",
    "$$M_h = e\\sinh F - F$$\n",
    "\n",
    "As with the ellipse, Kepler's equation can be solved easily if $\\theta$ is known, to be able to find $F$. However, if time is the known quantity, then Kepler's equation is transcendental and must be solved numerically.\n",
    "\n",
    "To aid in the numerical solution, the derivative of Kepler's equation for the hyperbola is:\n",
    "\n",
    "$$f'(F) = e \\cosh F - 1$$\n",
    "\n",
    "In addition, we can estimate an initial value for the guess of $F$ from the graph below, with a known $M_h$ value. Note that the $y$-axis plots the log base 10 of $M_h$. To use the graph, take the log base 10 of whatever value you calculate for $M_h$ and find that on the graph."
   ]
  },
  {
   "cell_type": "code",
   "execution_count": null,
   "id": "fe5ed7cf",
   "metadata": {
    "tags": [
     "remove-input"
    ]
   },
   "outputs": [],
   "source": [
    "plt.rc(\"figure\", dpi=600)\n",
    "fig, ax = plt.subplots(figsize=(12, 9))\n",
    "\n",
    "ax.set_ylabel(r\"$\\log\\left(M_h\\right)$\")\n",
    "ax.set_xlabel(\"$F$\")\n",
    "ax.set_xlim(0, 2 * np.pi)\n",
    "e_vals = [1.1, 1.5, 2.0, 3.0, 5.0]\n",
    "F = np.linspace(0.01, 2 * np.pi, 100)\n",
    "ax.xaxis.set_minor_locator(AutoMinorLocator(n=10))\n",
    "ax.yaxis.set_minor_locator(AutoMinorLocator(n=10))\n",
    "ax.grid(which=\"both\")\n",
    "for e in e_vals:\n",
    "    M_h = np.log10(e * np.sinh(F) - F)\n",
    "    ax.plot(F, M_h, label=f\"$e$ = {e}\")\n",
    "ax.legend();"
   ]
  },
  {
   "cell_type": "markdown",
   "id": "8ff961fd",
   "metadata": {},
   "source": [
    "Some more trigonometry and algebra lead us to a simpler relationship between $F$ and $\\theta$, analogous to the equation for the ellipse:\n",
    "\n",
    "$$\\tanh\\frac{F}{2} = \\sqrt{\\frac{e - 1}{e + 1}}\\tan\\frac{\\theta}{2}$$\n",
    "\n",
    "and the inverse, to solve for $\\theta$ from $F$:\n",
    "\n",
    "$$\\tan\\frac{\\theta}{2} = \\sqrt{\\frac{e + 1}{e - 1}}\\tanh\\frac{F}{2}$$\n",
    "\n",
    "## Orbit Equation in Terms of Hyperbolic Eccentric Anomaly\n",
    "\n",
    "It is useful to have the orbit equation in terms of $F$, analogous to the ellipse. We find:\n",
    "\n",
    "$$r = a\\left(e\\cosh F - 1\\right)$$"
   ]
  }
 ],
 "metadata": {
  "execution": {
   "timeout": 100
  },
  "jupytext": {
   "formats": "md:myst",
   "text_representation": {
    "extension": ".md",
    "format_name": "myst"
   }
  },
  "kernelspec": {
   "display_name": "Python 3",
   "language": "python",
   "name": "python3"
  },
  "source_map": [
   13,
   30,
   57,
   65,
   119,
   177,
   194
  ]
 },
 "nbformat": 4,
 "nbformat_minor": 5
}